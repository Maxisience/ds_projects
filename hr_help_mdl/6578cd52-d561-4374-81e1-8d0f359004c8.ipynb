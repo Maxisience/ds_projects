{
 "cells": [
  {
   "cell_type": "markdown",
   "id": "c55ffc9e",
   "metadata": {},
   "source": [
    "## Задачи исследования"
   ]
  },
  {
   "cell_type": "markdown",
   "id": "6a1a6d2c",
   "metadata": {},
   "source": [
    "Цель исследования - компании «Работа с заботой» необходимо оптимизировать управление персоналом: важно понять как  избежать финансовых потерь из-за оттока сотрудников.Компания предоставила данные с характеристиками сотрудников компании. Среди них — уровень удовлетворённости сотрудника работой в компании. Эту информацию получили из форм обратной связи: сотрудники заполняют тест-опросник, и по его результатам рассчитывается доля их удовлетворённости от 0 до 1, где 0 — совершенно неудовлетворён, 1 — полностью удовлетворён. \n",
    " \n",
    "Задача 1 — построить модель, которая сможет предсказать уровень удовлетворённости сотрудника на основе данных заказчика. \n",
    "Почему бизнесу это важно: удовлетворённость работой напрямую влияет на отток сотрудников. А предсказание оттока — одна из важнейших задач HR-аналитиков.\n",
    "\n",
    "Задача 2 — построить модель, которая сможет на основе данных заказчика предсказать то, что сотрудник уволится из компании."
   ]
  },
  {
   "cell_type": "markdown",
   "id": "a76632c8",
   "metadata": {},
   "source": [
    "## Импорты и уставновка библиотек"
   ]
  },
  {
   "cell_type": "code",
   "execution_count": 1,
   "id": "20b743e6",
   "metadata": {},
   "outputs": [
    {
     "name": "stdout",
     "output_type": "stream",
     "text": [
      "\u001b[31mERROR: pip's dependency resolver does not currently take into account all the packages that are installed. This behaviour is the source of the following dependency conflicts.\r\n",
      "thinc 8.0.17 requires pydantic!=1.8,!=1.8.1,<1.9.0,>=1.7.4, but you have pydantic 2.7.4 which is incompatible.\r\n",
      "spacy 3.2.0 requires pydantic!=1.8,!=1.8.1,<1.9.0,>=1.7.4, but you have pydantic 2.7.4 which is incompatible.\u001b[0m\r\n"
     ]
    }
   ],
   "source": [
    "!pip install matplotlib==3.5.0 -U -q\n",
    "!pip install -U scikit-learn -q\n",
    "!pip install shap -q\n",
    "!pip install phik -q\n",
    "!pip install typing-extensions --upgrade -q\n",
    "!pip install ydata-profiling -q"
   ]
  },
  {
   "cell_type": "code",
   "execution_count": 2,
   "id": "a1581328",
   "metadata": {},
   "outputs": [],
   "source": [
    "import matplotlib.pyplot as plt\n",
    "import numpy as np\n",
    "import pandas as pd\n",
    "import seaborn as sns\n",
    "import shap\n",
    "import ydata_profiling as yd\n",
    "\n",
    "from sklearn.compose import ColumnTransformer\n",
    "from sklearn.impute import SimpleImputer\n",
    "from sklearn.linear_model import LinearRegression, LogisticRegression\n",
    "from sklearn.metrics import  make_scorer, roc_auc_score\n",
    "from sklearn.model_selection import RandomizedSearchCV, cross_val_score, GridSearchCV\n",
    "from sklearn.neighbors import KNeighborsRegressor, KNeighborsClassifier\n",
    "from sklearn.pipeline import Pipeline\n",
    "from sklearn.preprocessing import OneHotEncoder, OrdinalEncoder, StandardScaler, MinMaxScaler, RobustScaler, LabelEncoder\n",
    "from sklearn.tree import DecisionTreeRegressor, DecisionTreeClassifier\n",
    "from sklearn.ensemble import RandomForestClassifier # пробуем дополнительно\n",
    "from sklearn.svm import SVC\n",
    "\n",
    "from phik.report import plot_correlation_matrix"
   ]
  },
  {
   "cell_type": "code",
   "execution_count": 3,
   "id": "5d6489ac",
   "metadata": {},
   "outputs": [],
   "source": [
    "# настраиваем отображение таблиц\n",
    "pd.set_option('display.max_columns', None)\n",
    "pd.set_option('display.max_colwidth', None)"
   ]
  },
  {
   "cell_type": "code",
   "execution_count": 4,
   "id": "17687d7d",
   "metadata": {},
   "outputs": [],
   "source": [
    "# обьявляем константы\n",
    "RANDOM_STATE = 42\n",
    "TEST_SIZE = 0.25"
   ]
  },
  {
   "cell_type": "markdown",
   "id": "85257bd8",
   "metadata": {},
   "source": [
    "## Задача 1"
   ]
  },
  {
   "cell_type": "markdown",
   "id": "814ebc99",
   "metadata": {},
   "source": [
    "### Загрузка данных"
   ]
  },
  {
   "cell_type": "code",
   "execution_count": 5,
   "id": "42ffaf5b",
   "metadata": {},
   "outputs": [],
   "source": [
    "try:\n",
    "    df_train=pd.read_csv('/datasets/train_job_satisfaction_rate.csv')\n",
    "    df_train.name='df_train'\n",
    "except:\n",
    "    df_train = pd.read_csv('https://code.s3.yandex.net/datasets/train_job_satisfaction_rate.csv')\n",
    "    df_train.name='df_train'\n"
   ]
  },
  {
   "cell_type": "code",
   "execution_count": 6,
   "id": "ce98f006",
   "metadata": {},
   "outputs": [],
   "source": [
    "try:\n",
    "    X_test=pd.read_csv('/datasets/test_features.csv')\n",
    "    X_test.name='X_test'\n",
    "except:\n",
    "    X_test = pd.read_csv('https://code.s3.yandex.net/datasets/test_features.csv')\n",
    "    X_test.name='X_test'\n"
   ]
  },
  {
   "cell_type": "code",
   "execution_count": 7,
   "id": "b7aaadae",
   "metadata": {},
   "outputs": [],
   "source": [
    "try:\n",
    "    y_test = pd.read_csv('/datasets/test_target_job_satisfaction_rate.csv')\n",
    "    y_test.name='y_test'\n",
    "except:\n",
    "    y_test = pd.read_csv('https://code.s3.yandex.net/datasets/test_target_job_satisfaction_rate.csv')\n",
    "    y_test.name='y_test'\n"
   ]
  },
  {
   "cell_type": "markdown",
   "id": "d4e32c5a",
   "metadata": {},
   "source": [
    "### Предварительный осмотр данных"
   ]
  },
  {
   "cell_type": "code",
   "execution_count": 8,
   "id": "548f2c8f",
   "metadata": {},
   "outputs": [],
   "source": [
    "df_list=[df_train, X_test, y_test]"
   ]
  },
  {
   "cell_type": "code",
   "execution_count": 9,
   "id": "4294f96a",
   "metadata": {
    "scrolled": true
   },
   "outputs": [
    {
     "name": "stdout",
     "output_type": "stream",
     "text": [
      "Первые пять строчек датафрейма df_train:\n"
     ]
    },
    {
     "data": {
      "text/html": [
       "<div>\n",
       "<style scoped>\n",
       "    .dataframe tbody tr th:only-of-type {\n",
       "        vertical-align: middle;\n",
       "    }\n",
       "\n",
       "    .dataframe tbody tr th {\n",
       "        vertical-align: top;\n",
       "    }\n",
       "\n",
       "    .dataframe thead th {\n",
       "        text-align: right;\n",
       "    }\n",
       "</style>\n",
       "<table border=\"1\" class=\"dataframe\">\n",
       "  <thead>\n",
       "    <tr style=\"text-align: right;\">\n",
       "      <th></th>\n",
       "      <th>id</th>\n",
       "      <th>dept</th>\n",
       "      <th>level</th>\n",
       "      <th>workload</th>\n",
       "      <th>employment_years</th>\n",
       "      <th>last_year_promo</th>\n",
       "      <th>last_year_violations</th>\n",
       "      <th>supervisor_evaluation</th>\n",
       "      <th>salary</th>\n",
       "      <th>job_satisfaction_rate</th>\n",
       "    </tr>\n",
       "  </thead>\n",
       "  <tbody>\n",
       "    <tr>\n",
       "      <th>0</th>\n",
       "      <td>155278</td>\n",
       "      <td>sales</td>\n",
       "      <td>junior</td>\n",
       "      <td>medium</td>\n",
       "      <td>2</td>\n",
       "      <td>no</td>\n",
       "      <td>no</td>\n",
       "      <td>1</td>\n",
       "      <td>24000</td>\n",
       "      <td>0.58</td>\n",
       "    </tr>\n",
       "    <tr>\n",
       "      <th>1</th>\n",
       "      <td>653870</td>\n",
       "      <td>hr</td>\n",
       "      <td>junior</td>\n",
       "      <td>high</td>\n",
       "      <td>2</td>\n",
       "      <td>no</td>\n",
       "      <td>no</td>\n",
       "      <td>5</td>\n",
       "      <td>38400</td>\n",
       "      <td>0.76</td>\n",
       "    </tr>\n",
       "    <tr>\n",
       "      <th>2</th>\n",
       "      <td>184592</td>\n",
       "      <td>sales</td>\n",
       "      <td>junior</td>\n",
       "      <td>low</td>\n",
       "      <td>1</td>\n",
       "      <td>no</td>\n",
       "      <td>no</td>\n",
       "      <td>2</td>\n",
       "      <td>12000</td>\n",
       "      <td>0.11</td>\n",
       "    </tr>\n",
       "    <tr>\n",
       "      <th>3</th>\n",
       "      <td>171431</td>\n",
       "      <td>technology</td>\n",
       "      <td>junior</td>\n",
       "      <td>low</td>\n",
       "      <td>4</td>\n",
       "      <td>no</td>\n",
       "      <td>no</td>\n",
       "      <td>2</td>\n",
       "      <td>18000</td>\n",
       "      <td>0.37</td>\n",
       "    </tr>\n",
       "    <tr>\n",
       "      <th>4</th>\n",
       "      <td>693419</td>\n",
       "      <td>hr</td>\n",
       "      <td>junior</td>\n",
       "      <td>medium</td>\n",
       "      <td>1</td>\n",
       "      <td>no</td>\n",
       "      <td>no</td>\n",
       "      <td>3</td>\n",
       "      <td>22800</td>\n",
       "      <td>0.20</td>\n",
       "    </tr>\n",
       "  </tbody>\n",
       "</table>\n",
       "</div>"
      ],
      "text/plain": [
       "       id        dept   level workload  employment_years last_year_promo  \\\n",
       "0  155278       sales  junior   medium                 2              no   \n",
       "1  653870          hr  junior     high                 2              no   \n",
       "2  184592       sales  junior      low                 1              no   \n",
       "3  171431  technology  junior      low                 4              no   \n",
       "4  693419          hr  junior   medium                 1              no   \n",
       "\n",
       "  last_year_violations  supervisor_evaluation  salary  job_satisfaction_rate  \n",
       "0                   no                      1   24000                   0.58  \n",
       "1                   no                      5   38400                   0.76  \n",
       "2                   no                      2   12000                   0.11  \n",
       "3                   no                      2   18000                   0.37  \n",
       "4                   no                      3   22800                   0.20  "
      ]
     },
     "metadata": {},
     "output_type": "display_data"
    },
    {
     "name": "stdout",
     "output_type": "stream",
     "text": [
      "\n",
      "Общая информация о датафрейме df_train:\n",
      "<class 'pandas.core.frame.DataFrame'>\n",
      "RangeIndex: 4000 entries, 0 to 3999\n",
      "Data columns (total 10 columns):\n",
      " #   Column                 Non-Null Count  Dtype  \n",
      "---  ------                 --------------  -----  \n",
      " 0   id                     4000 non-null   int64  \n",
      " 1   dept                   3994 non-null   object \n",
      " 2   level                  3996 non-null   object \n",
      " 3   workload               4000 non-null   object \n",
      " 4   employment_years       4000 non-null   int64  \n",
      " 5   last_year_promo        4000 non-null   object \n",
      " 6   last_year_violations   4000 non-null   object \n",
      " 7   supervisor_evaluation  4000 non-null   int64  \n",
      " 8   salary                 4000 non-null   int64  \n",
      " 9   job_satisfaction_rate  4000 non-null   float64\n",
      "dtypes: float64(1), int64(4), object(5)\n",
      "memory usage: 312.6+ KB\n",
      "\n",
      "Первые пять строчек датафрейма X_test:\n"
     ]
    },
    {
     "data": {
      "text/html": [
       "<div>\n",
       "<style scoped>\n",
       "    .dataframe tbody tr th:only-of-type {\n",
       "        vertical-align: middle;\n",
       "    }\n",
       "\n",
       "    .dataframe tbody tr th {\n",
       "        vertical-align: top;\n",
       "    }\n",
       "\n",
       "    .dataframe thead th {\n",
       "        text-align: right;\n",
       "    }\n",
       "</style>\n",
       "<table border=\"1\" class=\"dataframe\">\n",
       "  <thead>\n",
       "    <tr style=\"text-align: right;\">\n",
       "      <th></th>\n",
       "      <th>id</th>\n",
       "      <th>dept</th>\n",
       "      <th>level</th>\n",
       "      <th>workload</th>\n",
       "      <th>employment_years</th>\n",
       "      <th>last_year_promo</th>\n",
       "      <th>last_year_violations</th>\n",
       "      <th>supervisor_evaluation</th>\n",
       "      <th>salary</th>\n",
       "    </tr>\n",
       "  </thead>\n",
       "  <tbody>\n",
       "    <tr>\n",
       "      <th>0</th>\n",
       "      <td>485046</td>\n",
       "      <td>marketing</td>\n",
       "      <td>junior</td>\n",
       "      <td>medium</td>\n",
       "      <td>2</td>\n",
       "      <td>no</td>\n",
       "      <td>no</td>\n",
       "      <td>5</td>\n",
       "      <td>28800</td>\n",
       "    </tr>\n",
       "    <tr>\n",
       "      <th>1</th>\n",
       "      <td>686555</td>\n",
       "      <td>hr</td>\n",
       "      <td>junior</td>\n",
       "      <td>medium</td>\n",
       "      <td>1</td>\n",
       "      <td>no</td>\n",
       "      <td>no</td>\n",
       "      <td>4</td>\n",
       "      <td>30000</td>\n",
       "    </tr>\n",
       "    <tr>\n",
       "      <th>2</th>\n",
       "      <td>467458</td>\n",
       "      <td>sales</td>\n",
       "      <td>middle</td>\n",
       "      <td>low</td>\n",
       "      <td>5</td>\n",
       "      <td>no</td>\n",
       "      <td>no</td>\n",
       "      <td>4</td>\n",
       "      <td>19200</td>\n",
       "    </tr>\n",
       "    <tr>\n",
       "      <th>3</th>\n",
       "      <td>418655</td>\n",
       "      <td>sales</td>\n",
       "      <td>middle</td>\n",
       "      <td>low</td>\n",
       "      <td>6</td>\n",
       "      <td>no</td>\n",
       "      <td>no</td>\n",
       "      <td>4</td>\n",
       "      <td>19200</td>\n",
       "    </tr>\n",
       "    <tr>\n",
       "      <th>4</th>\n",
       "      <td>789145</td>\n",
       "      <td>hr</td>\n",
       "      <td>middle</td>\n",
       "      <td>medium</td>\n",
       "      <td>5</td>\n",
       "      <td>no</td>\n",
       "      <td>no</td>\n",
       "      <td>5</td>\n",
       "      <td>40800</td>\n",
       "    </tr>\n",
       "  </tbody>\n",
       "</table>\n",
       "</div>"
      ],
      "text/plain": [
       "       id       dept   level workload  employment_years last_year_promo  \\\n",
       "0  485046  marketing  junior   medium                 2              no   \n",
       "1  686555         hr  junior   medium                 1              no   \n",
       "2  467458      sales  middle      low                 5              no   \n",
       "3  418655      sales  middle      low                 6              no   \n",
       "4  789145         hr  middle   medium                 5              no   \n",
       "\n",
       "  last_year_violations  supervisor_evaluation  salary  \n",
       "0                   no                      5   28800  \n",
       "1                   no                      4   30000  \n",
       "2                   no                      4   19200  \n",
       "3                   no                      4   19200  \n",
       "4                   no                      5   40800  "
      ]
     },
     "metadata": {},
     "output_type": "display_data"
    },
    {
     "name": "stdout",
     "output_type": "stream",
     "text": [
      "\n",
      "Общая информация о датафрейме X_test:\n",
      "<class 'pandas.core.frame.DataFrame'>\n",
      "RangeIndex: 2000 entries, 0 to 1999\n",
      "Data columns (total 9 columns):\n",
      " #   Column                 Non-Null Count  Dtype \n",
      "---  ------                 --------------  ----- \n",
      " 0   id                     2000 non-null   int64 \n",
      " 1   dept                   1998 non-null   object\n",
      " 2   level                  1999 non-null   object\n",
      " 3   workload               2000 non-null   object\n",
      " 4   employment_years       2000 non-null   int64 \n",
      " 5   last_year_promo        2000 non-null   object\n",
      " 6   last_year_violations   2000 non-null   object\n",
      " 7   supervisor_evaluation  2000 non-null   int64 \n",
      " 8   salary                 2000 non-null   int64 \n",
      "dtypes: int64(4), object(5)\n",
      "memory usage: 140.8+ KB\n",
      "\n",
      "Первые пять строчек датафрейма y_test:\n"
     ]
    },
    {
     "data": {
      "text/html": [
       "<div>\n",
       "<style scoped>\n",
       "    .dataframe tbody tr th:only-of-type {\n",
       "        vertical-align: middle;\n",
       "    }\n",
       "\n",
       "    .dataframe tbody tr th {\n",
       "        vertical-align: top;\n",
       "    }\n",
       "\n",
       "    .dataframe thead th {\n",
       "        text-align: right;\n",
       "    }\n",
       "</style>\n",
       "<table border=\"1\" class=\"dataframe\">\n",
       "  <thead>\n",
       "    <tr style=\"text-align: right;\">\n",
       "      <th></th>\n",
       "      <th>id</th>\n",
       "      <th>job_satisfaction_rate</th>\n",
       "    </tr>\n",
       "  </thead>\n",
       "  <tbody>\n",
       "    <tr>\n",
       "      <th>0</th>\n",
       "      <td>130604</td>\n",
       "      <td>0.74</td>\n",
       "    </tr>\n",
       "    <tr>\n",
       "      <th>1</th>\n",
       "      <td>825977</td>\n",
       "      <td>0.75</td>\n",
       "    </tr>\n",
       "    <tr>\n",
       "      <th>2</th>\n",
       "      <td>418490</td>\n",
       "      <td>0.60</td>\n",
       "    </tr>\n",
       "    <tr>\n",
       "      <th>3</th>\n",
       "      <td>555320</td>\n",
       "      <td>0.72</td>\n",
       "    </tr>\n",
       "    <tr>\n",
       "      <th>4</th>\n",
       "      <td>826430</td>\n",
       "      <td>0.08</td>\n",
       "    </tr>\n",
       "  </tbody>\n",
       "</table>\n",
       "</div>"
      ],
      "text/plain": [
       "       id  job_satisfaction_rate\n",
       "0  130604                   0.74\n",
       "1  825977                   0.75\n",
       "2  418490                   0.60\n",
       "3  555320                   0.72\n",
       "4  826430                   0.08"
      ]
     },
     "metadata": {},
     "output_type": "display_data"
    },
    {
     "name": "stdout",
     "output_type": "stream",
     "text": [
      "\n",
      "Общая информация о датафрейме y_test:\n",
      "<class 'pandas.core.frame.DataFrame'>\n",
      "RangeIndex: 2000 entries, 0 to 1999\n",
      "Data columns (total 2 columns):\n",
      " #   Column                 Non-Null Count  Dtype  \n",
      "---  ------                 --------------  -----  \n",
      " 0   id                     2000 non-null   int64  \n",
      " 1   job_satisfaction_rate  2000 non-null   float64\n",
      "dtypes: float64(1), int64(1)\n",
      "memory usage: 31.4 KB\n",
      "\n"
     ]
    }
   ],
   "source": [
    "for df in df_list:\n",
    "    print(f'Первые пять строчек датафрейма {df.name}:')\n",
    "    display(df.head())\n",
    "    print()\n",
    "    print(f'Общая информация о датафрейме {df.name}:')\n",
    "    df.info()\n",
    "    print()"
   ]
  },
  {
   "cell_type": "code",
   "execution_count": 10,
   "id": "55987335",
   "metadata": {},
   "outputs": [
    {
     "name": "stdout",
     "output_type": "stream",
     "text": [
      "Количество явных дубликатов в df_train - 0\n",
      "Количество явных дубликатов в X_test - 0\n",
      "Количество явных дубликатов в y_test - 0\n"
     ]
    }
   ],
   "source": [
    "# циклом проходимся по всем датафреймам для поиска явных дубликатов\n",
    "for df in df_list:\n",
    "    print(f'Количество явных дубликатов в {df.name} - {df.duplicated().sum()}')"
   ]
  },
  {
   "cell_type": "code",
   "execution_count": 11,
   "id": "69f28369",
   "metadata": {
    "scrolled": true
   },
   "outputs": [
    {
     "name": "stdout",
     "output_type": "stream",
     "text": [
      " Список уникальных значений столбца \"dept\" датафрейма df_train\n",
      "['sales' 'hr' 'technology' 'purchasing' 'marketing' nan]\n",
      "\n",
      " Список уникальных значений столбца \"level\" датафрейма df_train\n",
      "['junior' 'middle' 'sinior' nan]\n",
      "\n",
      " Список уникальных значений столбца \"workload\" датафрейма df_train\n",
      "['medium' 'high' 'low']\n",
      "\n",
      " Список уникальных значений столбца \"last_year_promo\" датафрейма df_train\n",
      "['no' 'yes']\n",
      "\n",
      " Список уникальных значений столбца \"last_year_violations\" датафрейма df_train\n",
      "['no' 'yes']\n",
      "\n",
      " Список уникальных значений столбца \"dept\" датафрейма X_test\n",
      "['marketing' 'hr' 'sales' 'purchasing' 'technology' nan ' ']\n",
      "\n",
      " Список уникальных значений столбца \"level\" датафрейма X_test\n",
      "['junior' 'middle' 'sinior' nan]\n",
      "\n",
      " Список уникальных значений столбца \"workload\" датафрейма X_test\n",
      "['medium' 'low' 'high' ' ']\n",
      "\n",
      " Список уникальных значений столбца \"last_year_promo\" датафрейма X_test\n",
      "['no' 'yes']\n",
      "\n",
      " Список уникальных значений столбца \"last_year_violations\" датафрейма X_test\n",
      "['no' 'yes']\n",
      "\n"
     ]
    }
   ],
   "source": [
    "# смотрим неявные дубликаты и коррекность значений \n",
    "for df in df_list:\n",
    "    for column in df.select_dtypes(exclude=np.number).columns.to_list():\n",
    "        print(f' Список уникальных значений столбца \"{column}\" датафрейма {df.name}')\n",
    "        print(df[column].unique())\n",
    "        print()"
   ]
  },
  {
   "cell_type": "markdown",
   "id": "d5a36056",
   "metadata": {},
   "source": [
    "***Предварительные выводы:***\n",
    "\n",
    "**df_train** - типизация данных корректна, явных дубликатов необнаружено, есть пропуски в колонках dept и level, есть некорректные данные в колонках level.\n",
    "\n",
    "**X_test** - типизация данных корректна, явных дубликатов необнаружено, есть пропуски в колонках dept и level, есть некорректные данные в колонках level, dept и workload.\n",
    "\n",
    "**y_test** - типизация данных корректна, явных дубликатов необнаружено, нет пропусков данных."
   ]
  },
  {
   "cell_type": "markdown",
   "id": "fea1c098",
   "metadata": {},
   "source": [
    "### Предобработка данных"
   ]
  },
  {
   "cell_type": "code",
   "execution_count": 12,
   "id": "b010cf3f",
   "metadata": {},
   "outputs": [],
   "source": [
    "# устраним орфографические ошибки в данных\n",
    "df_train['level'] = df_train['level'].replace('sinior', 'senior')\n",
    "X_test['level'] = X_test['level'].replace('sinior', 'senior')"
   ]
  },
  {
   "cell_type": "code",
   "execution_count": 13,
   "id": "a4442297",
   "metadata": {},
   "outputs": [
    {
     "data": {
      "text/plain": [
       "array(['junior', 'middle', 'senior', nan], dtype=object)"
      ]
     },
     "execution_count": 13,
     "metadata": {},
     "output_type": "execute_result"
    }
   ],
   "source": [
    "df_train['level'].unique()"
   ]
  },
  {
   "cell_type": "code",
   "execution_count": 14,
   "id": "466db1bb",
   "metadata": {},
   "outputs": [],
   "source": [
    "# заполним некорректные пропуски значением Nan, что бы корректно обработать в пайплайне\n",
    "X_test[X_test['dept']==' ']=np.nan\n",
    "X_test[X_test['workload']==' ']=np.nan"
   ]
  },
  {
   "cell_type": "code",
   "execution_count": 15,
   "id": "6180208f",
   "metadata": {},
   "outputs": [
    {
     "data": {
      "text/plain": [
       "array(['marketing', 'hr', 'sales', 'purchasing', 'technology', nan],\n",
       "      dtype=object)"
      ]
     },
     "execution_count": 15,
     "metadata": {},
     "output_type": "execute_result"
    }
   ],
   "source": [
    "X_test['dept'].unique()"
   ]
  },
  {
   "cell_type": "markdown",
   "id": "c55037a4",
   "metadata": {},
   "source": [
    "***Предварительные выводы:***\n",
    "\n",
    "**df_train** - обработали орфографические ошибки в колонках level.\n",
    "\n",
    "**X_test** - обработали орфографические ошибки в колонках level, обработали некорректные пропуски dept и workload.\n"
   ]
  },
  {
   "cell_type": "code",
   "execution_count": 19,
   "id": "1998f5a1",
   "metadata": {},
   "outputs": [
    {
     "data": {
      "image/png": "[encoded data removed]",
      "text/plain": [
       "<Figure size 1440x1080 with 2 Axes>"
      ]
     },
     "metadata": {
      "needs_background": "light"
     },
     "output_type": "display_data"
    }
   ],
   "source": [
    "phik_overview = (\n",
    "    df_train\n",
    "    .drop('id', axis=1)\n",
    "    .phik_matrix(verbose=False, interval_cols=['supervisor_evaluation','salary', 'job_satisfaction_rate']))\n",
    "\n",
    "plot_correlation_matrix(\n",
    "    phik_overview.values,\n",
    "    x_labels=phik_overview.columns,\n",
    "    y_labels=phik_overview.index,\n",
    "    vmin=0, vmax=1, color_map='summer',\n",
    "    title=r'Корреляция $\\phi_K$ df_train',\n",
    "    fontsize_factor=1.5,\n",
    "    figsize=(20, 15)\n",
    ")"
   ]
  },
  {
   "cell_type": "markdown",
   "id": "fefae28d",
   "metadata": {},
   "source": [
    "О мультиколлинеарности свидетельствует значение коэффициента корреляции от 0.9 до 0.95 по модулю, в данном случае мультиколлинеарность отсутствует.\n",
    "\n",
    "Самая значимая взаимосвязь между входными признаками выражена значением - 0.79 - между workload и salary, а так же level и salary - 0.72.\n",
    "\n",
    "Наиболее значимые взимосвязи видим между целевым признаком 'job_satisfaction_rate' и входными признаками:\n",
    "\n",
    "'supervisor_evaluation' - 0.76;\n",
    "'last_year_violations' - 0.56.\n"
   ]
  },
  {
   "cell_type": "code",
   "execution_count": 20,
   "id": "056bd0cc",
   "metadata": {
    "scrolled": false
   },
   "outputs": [
    {
     "data": {
      "image/png": "[encoded data removed]",
      "text/plain": [
       "<Figure size 1440x1080 with 2 Axes>"
      ]
     },
     "metadata": {
      "needs_background": "light"
     },
     "output_type": "display_data"
    }
   ],
   "source": [
    "phik_overview = (\n",
    "    X_test\n",
    "    .drop('id', axis=1)\n",
    "    .phik_matrix(verbose=False, interval_cols=['supervisor_evaluation','salary']))\n",
    "\n",
    "plot_correlation_matrix(\n",
    "    phik_overview.values,\n",
    "    x_labels=phik_overview.columns,\n",
    "    y_labels=phik_overview.index,\n",
    "    vmin=0, vmax=1, color_map='summer',\n",
    "    title=r'Корреляция $\\phi_K$ X_test',\n",
    "    fontsize_factor=1.5,\n",
    "    figsize=(20, 15)\n",
    ")"
   ]
  },
  {
   "cell_type": "markdown",
   "id": "b3c434a9",
   "metadata": {},
   "source": [
    "Похожую картину наблюдаем на выборке тестовых признаков. Отсутствие мультиколлинеарности. Самая значимая взаимосвязь между входными признаками выражена значением - 0.79 - между workload и salary, а так же level и salary - 0.75.\n"
   ]
  },
  {
   "cell_type": "markdown",
   "id": "e5dd6ae9",
   "metadata": {},
   "source": [
    "***Промежуточные выводы:***\n",
    "\n",
    "**df_train**\n",
    "Явных дубликатов не обнаружено, типизация данных корректна.\n",
    "Категориальные данные:\n",
    "dept, level, workload,last_year_promo,last_year_violations - данные корректны. Исправлены пропуски данных на значение Nan для успешной обработки в пайплайне.\n",
    "\n",
    "Количественные данные: \n",
    "employment_years, supervisor_evaluation, salary, job_satisfaction_rate - данные корректы крупных аномалий и выбросов не обнаружено. Пропусков данных нет.\n",
    "\n",
    "Мультиколлинеарность отсутствует. Можем увидеть высокую корреляцию между признаками \n",
    "employment_years/level, salary/level, workload/salary.\n",
    "\n",
    "**X_test**\n",
    "Явных дубликатов не обнаружено, типизация данных корректна.\n",
    "Категориальные данные:\n",
    "dept, level, workload,last_year_promo,last_year_violations - данные корректны. Исправлены пропуски данных на значение Nan для успешной обработки в пайплайне.\n",
    "\n",
    "Количественные данные: \n",
    "employment_years, supervisor_evaluation, salary - данные корректы крупных аномалий и выбросов не обнаружено. Пропусков данных нет.\n",
    "Мультиколлинеарность отсутствует. Можем увидеть высокую корреляцию между признаками \n",
    "employment_years/level, salary/level, workload/salary.\n",
    "\n",
    "**y_test**\n",
    "Пропусков не обнаружено, типизация данных корректна. "
   ]
  },
  {
   "cell_type": "markdown",
   "id": "35bfbda5",
   "metadata": {},
   "source": [
    "### Подготовка пайплайна"
   ]
  },
  {
   "cell_type": "markdown",
   "id": "0e5fe4d0",
   "metadata": {},
   "source": [
    "#### Предобработка данных для пайплайна"
   ]
  },
  {
   "cell_type": "code",
   "execution_count": 21,
   "id": "9d39f7b5",
   "metadata": {},
   "outputs": [
    {
     "data": {
      "text/html": [
       "<div>\n",
       "<style scoped>\n",
       "    .dataframe tbody tr th:only-of-type {\n",
       "        vertical-align: middle;\n",
       "    }\n",
       "\n",
       "    .dataframe tbody tr th {\n",
       "        vertical-align: top;\n",
       "    }\n",
       "\n",
       "    .dataframe thead th {\n",
       "        text-align: right;\n",
       "    }\n",
       "</style>\n",
       "<table border=\"1\" class=\"dataframe\">\n",
       "  <thead>\n",
       "    <tr style=\"text-align: right;\">\n",
       "      <th></th>\n",
       "      <th>id</th>\n",
       "      <th>dept</th>\n",
       "      <th>level</th>\n",
       "      <th>workload</th>\n",
       "      <th>employment_years</th>\n",
       "      <th>last_year_promo</th>\n",
       "      <th>last_year_violations</th>\n",
       "      <th>supervisor_evaluation</th>\n",
       "      <th>salary</th>\n",
       "      <th>job_satisfaction_rate</th>\n",
       "    </tr>\n",
       "  </thead>\n",
       "  <tbody>\n",
       "    <tr>\n",
       "      <th>0</th>\n",
       "      <td>485046.0</td>\n",
       "      <td>marketing</td>\n",
       "      <td>junior</td>\n",
       "      <td>medium</td>\n",
       "      <td>2.0</td>\n",
       "      <td>no</td>\n",
       "      <td>no</td>\n",
       "      <td>5.0</td>\n",
       "      <td>28800.0</td>\n",
       "      <td>0.79</td>\n",
       "    </tr>\n",
       "    <tr>\n",
       "      <th>1</th>\n",
       "      <td>686555.0</td>\n",
       "      <td>hr</td>\n",
       "      <td>junior</td>\n",
       "      <td>medium</td>\n",
       "      <td>1.0</td>\n",
       "      <td>no</td>\n",
       "      <td>no</td>\n",
       "      <td>4.0</td>\n",
       "      <td>30000.0</td>\n",
       "      <td>0.72</td>\n",
       "    </tr>\n",
       "    <tr>\n",
       "      <th>2</th>\n",
       "      <td>467458.0</td>\n",
       "      <td>sales</td>\n",
       "      <td>middle</td>\n",
       "      <td>low</td>\n",
       "      <td>5.0</td>\n",
       "      <td>no</td>\n",
       "      <td>no</td>\n",
       "      <td>4.0</td>\n",
       "      <td>19200.0</td>\n",
       "      <td>0.64</td>\n",
       "    </tr>\n",
       "    <tr>\n",
       "      <th>3</th>\n",
       "      <td>418655.0</td>\n",
       "      <td>sales</td>\n",
       "      <td>middle</td>\n",
       "      <td>low</td>\n",
       "      <td>6.0</td>\n",
       "      <td>no</td>\n",
       "      <td>no</td>\n",
       "      <td>4.0</td>\n",
       "      <td>19200.0</td>\n",
       "      <td>0.60</td>\n",
       "    </tr>\n",
       "    <tr>\n",
       "      <th>4</th>\n",
       "      <td>789145.0</td>\n",
       "      <td>hr</td>\n",
       "      <td>middle</td>\n",
       "      <td>medium</td>\n",
       "      <td>5.0</td>\n",
       "      <td>no</td>\n",
       "      <td>no</td>\n",
       "      <td>5.0</td>\n",
       "      <td>40800.0</td>\n",
       "      <td>0.75</td>\n",
       "    </tr>\n",
       "  </tbody>\n",
       "</table>\n",
       "</div>"
      ],
      "text/plain": [
       "         id       dept   level workload  employment_years last_year_promo  \\\n",
       "0  485046.0  marketing  junior   medium               2.0              no   \n",
       "1  686555.0         hr  junior   medium               1.0              no   \n",
       "2  467458.0      sales  middle      low               5.0              no   \n",
       "3  418655.0      sales  middle      low               6.0              no   \n",
       "4  789145.0         hr  middle   medium               5.0              no   \n",
       "\n",
       "  last_year_violations  supervisor_evaluation   salary  job_satisfaction_rate  \n",
       "0                   no                    5.0  28800.0                   0.79  \n",
       "1                   no                    4.0  30000.0                   0.72  \n",
       "2                   no                    4.0  19200.0                   0.64  \n",
       "3                   no                    4.0  19200.0                   0.60  \n",
       "4                   no                    5.0  40800.0                   0.75  "
      ]
     },
     "execution_count": 21,
     "metadata": {},
     "output_type": "execute_result"
    }
   ],
   "source": [
    "# подготовим тестовый датасет, совместим по индексам признаки\n",
    "df_test=X_test.merge(y_test, on='id')\n",
    "df_test.head()"
   ]
  },
  {
   "cell_type": "code",
   "execution_count": 22,
   "id": "7c6f5329",
   "metadata": {},
   "outputs": [
    {
     "data": {
      "text/html": [
       "<div>\n",
       "<style scoped>\n",
       "    .dataframe tbody tr th:only-of-type {\n",
       "        vertical-align: middle;\n",
       "    }\n",
       "\n",
       "    .dataframe tbody tr th {\n",
       "        vertical-align: top;\n",
       "    }\n",
       "\n",
       "    .dataframe thead th {\n",
       "        text-align: right;\n",
       "    }\n",
       "</style>\n",
       "<table border=\"1\" class=\"dataframe\">\n",
       "  <thead>\n",
       "    <tr style=\"text-align: right;\">\n",
       "      <th></th>\n",
       "      <th>dept</th>\n",
       "      <th>level</th>\n",
       "      <th>workload</th>\n",
       "      <th>employment_years</th>\n",
       "      <th>last_year_promo</th>\n",
       "      <th>last_year_violations</th>\n",
       "      <th>supervisor_evaluation</th>\n",
       "      <th>salary</th>\n",
       "    </tr>\n",
       "  </thead>\n",
       "  <tbody>\n",
       "    <tr>\n",
       "      <th>0</th>\n",
       "      <td>sales</td>\n",
       "      <td>junior</td>\n",
       "      <td>medium</td>\n",
       "      <td>2</td>\n",
       "      <td>no</td>\n",
       "      <td>no</td>\n",
       "      <td>1</td>\n",
       "      <td>24000</td>\n",
       "    </tr>\n",
       "    <tr>\n",
       "      <th>1</th>\n",
       "      <td>hr</td>\n",
       "      <td>junior</td>\n",
       "      <td>high</td>\n",
       "      <td>2</td>\n",
       "      <td>no</td>\n",
       "      <td>no</td>\n",
       "      <td>5</td>\n",
       "      <td>38400</td>\n",
       "    </tr>\n",
       "    <tr>\n",
       "      <th>2</th>\n",
       "      <td>sales</td>\n",
       "      <td>junior</td>\n",
       "      <td>low</td>\n",
       "      <td>1</td>\n",
       "      <td>no</td>\n",
       "      <td>no</td>\n",
       "      <td>2</td>\n",
       "      <td>12000</td>\n",
       "    </tr>\n",
       "    <tr>\n",
       "      <th>3</th>\n",
       "      <td>technology</td>\n",
       "      <td>junior</td>\n",
       "      <td>low</td>\n",
       "      <td>4</td>\n",
       "      <td>no</td>\n",
       "      <td>no</td>\n",
       "      <td>2</td>\n",
       "      <td>18000</td>\n",
       "    </tr>\n",
       "    <tr>\n",
       "      <th>4</th>\n",
       "      <td>hr</td>\n",
       "      <td>junior</td>\n",
       "      <td>medium</td>\n",
       "      <td>1</td>\n",
       "      <td>no</td>\n",
       "      <td>no</td>\n",
       "      <td>3</td>\n",
       "      <td>22800</td>\n",
       "    </tr>\n",
       "  </tbody>\n",
       "</table>\n",
       "</div>"
      ],
      "text/plain": [
       "         dept   level workload  employment_years last_year_promo  \\\n",
       "0       sales  junior   medium                 2              no   \n",
       "1          hr  junior     high                 2              no   \n",
       "2       sales  junior      low                 1              no   \n",
       "3  technology  junior      low                 4              no   \n",
       "4          hr  junior   medium                 1              no   \n",
       "\n",
       "  last_year_violations  supervisor_evaluation  salary  \n",
       "0                   no                      1   24000  \n",
       "1                   no                      5   38400  \n",
       "2                   no                      2   12000  \n",
       "3                   no                      2   18000  \n",
       "4                   no                      3   22800  "
      ]
     },
     "execution_count": 22,
     "metadata": {},
     "output_type": "execute_result"
    }
   ],
   "source": [
    "# выделяем в отдельные переменные целевой признак и входные признаки\n",
    "X_train = df_train.drop(columns=['job_satisfaction_rate', 'id'], axis=True)\n",
    "y_train = df_train['job_satisfaction_rate']\n",
    "X_train.head()"
   ]
  },
  {
   "cell_type": "code",
   "execution_count": 23,
   "id": "f20b2717",
   "metadata": {},
   "outputs": [],
   "source": [
    "# создаём списки с названиями признаков \n",
    "num_columns = ['salary',\n",
    "               'employment_years',\n",
    "               'supervisor_evaluation'\n",
    "               ]\n",
    "\n",
    "ohe_columns = ['dept', 'last_year_promo', 'last_year_violations']\n",
    "\n",
    "ord_columns = ['level', 'workload']"
   ]
  },
  {
   "cell_type": "code",
   "execution_count": 24,
   "id": "2ecbbb00",
   "metadata": {},
   "outputs": [],
   "source": [
    "# создаём пайплайн для подготовки признаков из списка ohe_columns\n",
    "ohe_pipe = Pipeline(\n",
    "    [('simpleImputer_ohe', \n",
    "            SimpleImputer(missing_values=np.nan, strategy='most_frequent')),\n",
    "     ('ohe', \n",
    "            OneHotEncoder(drop='first', handle_unknown='ignore', sparse_output =False))\n",
    "    ]\n",
    ") \n",
    "\n",
    "# создаём пайплайн для подготовки признаков из списка ord_columns\n",
    "ord_pipe = Pipeline(\n",
    "    [('simpleImputer_before_ord', SimpleImputer(missing_values=np.nan, strategy='most_frequent')),\n",
    "     ('ord',  OrdinalEncoder(\n",
    "                categories=[['junior', 'middle', 'senior'], \n",
    "                    ['low', 'medium', 'high']], \n",
    "                handle_unknown='use_encoded_value', unknown_value=np.nan)),\n",
    "     ('simpleImputer_after_ord', SimpleImputer(missing_values=np.nan, strategy='most_frequent')),\n",
    "    ]\n",
    ") \n",
    "\n",
    "# создаём общий пайплайн для подготовки данных\n",
    "data_preprocessor = ColumnTransformer(\n",
    "    [('ohe', ohe_pipe, ohe_columns),\n",
    "     ('ord', ord_pipe, ord_columns),\n",
    "     ('num', MinMaxScaler(), num_columns)\n",
    "    ], \n",
    "    remainder='passthrough'\n",
    ")"
   ]
  },
  {
   "cell_type": "code",
   "execution_count": 25,
   "id": "d40bde29",
   "metadata": {},
   "outputs": [],
   "source": [
    "# напишем функцию для рассчета метрики SMAP\n",
    "def smape(y_true, y_pred):\n",
    "    \"\"\"\n",
    "    Вычисляет симметричную среднюю абсолютную процентную ошибку между фактическими и прогнозируемыми значениями.\n",
    "    \n",
    "    :param y_true: список фактических значений\n",
    "    :param y_pred: список прогнозируемых значений\n",
    "    \"\"\"\n",
    "    # Проверка, что списки имеют одинаковую длину\n",
    "    assert len(y_true) == len(y_pred), \"Списки должны быть одинаковой длины\"\n",
    "    \n",
    "    # Расчет абсолютных процентных ошибок\n",
    "    errors = [2 * abs(true - pred) / (abs(true) + abs(pred)) for true, pred in zip(y_true, y_pred) if (true + pred) != 0]\n",
    "    \n",
    "    # Исключение случаев, когда сумма фактического и прогнозируемого значения равна 0, для предотвращения деления на 0\n",
    "    # Расчет среднего значения (SMAPE)\n",
    "    smape_value = sum(errors) / len(errors) * 100\n",
    "    return smape_value\n",
    "    \n",
    "smape_scorer = make_scorer(smape, greater_is_better = False)"
   ]
  },
  {
   "cell_type": "markdown",
   "id": "9fc0c152",
   "metadata": {},
   "source": [
    "#### Создание итогового пайплайна"
   ]
  },
  {
   "cell_type": "markdown",
   "id": "27620832",
   "metadata": {},
   "source": [
    "Создадим пайплайн, который выберет лучшую комбинацию модели и гиперпараметров. Используем модели:\n",
    "\n",
    "- DecisionTreeRegressor() с гиперпараметрами max_depth None или 2 до 15 включительно, max_features от 2 до 15 включительно, min_sample_split  от 2 до 15;\n",
    "\n",
    "- KNeighborsRegressor() с гиперпараметром n_neighbors от 2 до 11 включительно, вариацией алгоритма ['auto', 'ball_tree', 'kd_tree', 'brute'];\n",
    "\n",
    "- LinearRegression;\n",
    "\n",
    "Рассчитаем метрику SMAPE на тренировочной и тестовой выборках для лучшей модели.Критерий успеха: SMAPE≤15 на тестовой выборке."
   ]
  },
  {
   "cell_type": "code",
   "execution_count": 26,
   "id": "bae91650",
   "metadata": {},
   "outputs": [],
   "source": [
    "# создаём итоговый пайплайн: подготовка данных и модель\n",
    "pipe_final = Pipeline([\n",
    "    ('preprocessor', data_preprocessor),\n",
    "    ('models', DecisionTreeRegressor(random_state=RANDOM_STATE))\n",
    "])\n",
    "\n",
    "param_grid = [\n",
    "    # словарь для модели DecisionTreeRegressor()\n",
    "    {\n",
    "        'models': [DecisionTreeRegressor(random_state=RANDOM_STATE)],\n",
    "        'models__max_depth': [None] + [i for i in range(2, 15)],\n",
    "        'models__max_features': range(2, 15),\n",
    "        'models__min_samples_split': range(2, 15),\n",
    "        'preprocessor__num': [StandardScaler(), MinMaxScaler(), RobustScaler()]  \n",
    "    },\n",
    "    # словарь для модели KNeighborsRegressor()\n",
    "        {\n",
    "        'models': [KNeighborsRegressor()],\n",
    "        'models__n_neighbors': range(2, 11),\n",
    "        'models__algorithm':['auto', 'ball_tree', 'kd_tree', 'brute'],\n",
    "        'preprocessor__num': [StandardScaler(), MinMaxScaler(), RobustScaler()]   \n",
    "    },\n",
    "\n",
    "    # словарь для модели LinearRegression()\n",
    "    {\n",
    "        'models': [LinearRegression()],\n",
    "        'preprocessor__num': [StandardScaler(), MinMaxScaler(), RobustScaler(), 'passthrough']  \n",
    "    },\n",
    "    \n",
    "   \n",
    "]\n"
   ]
  },
  {
   "cell_type": "code",
   "execution_count": 27,
   "id": "ae81c3a9",
   "metadata": {},
   "outputs": [
    {
     "name": "stdout",
     "output_type": "stream",
     "text": [
      "Лучшая модель и её параметры:\n",
      "\n",
      " Pipeline(steps=[('preprocessor',\n",
      "                 ColumnTransformer(remainder='passthrough',\n",
      "                                   transformers=[('ohe',\n",
      "                                                  Pipeline(steps=[('simpleImputer_ohe',\n",
      "                                                                   SimpleImputer(strategy='most_frequent')),\n",
      "                                                                  ('ohe',\n",
      "                                                                   OneHotEncoder(drop='first',\n",
      "                                                                                 handle_unknown='ignore',\n",
      "                                                                                 sparse_output=False))]),\n",
      "                                                  ['dept', 'last_year_promo',\n",
      "                                                   'last_year_violations']),\n",
      "                                                 ('ord',\n",
      "                                                  Pipeline(steps=[('simpleImputer_befor...\n",
      "                                                                                               'senior'],\n",
      "                                                                                              ['low',\n",
      "                                                                                               'medium',\n",
      "                                                                                               'high']],\n",
      "                                                                                  handle_unknown='use_encoded_value',\n",
      "                                                                                  unknown_value=nan)),\n",
      "                                                                  ('simpleImputer_after_ord',\n",
      "                                                                   SimpleImputer(strategy='most_frequent'))]),\n",
      "                                                  ['level', 'workload']),\n",
      "                                                 ('num', MinMaxScaler(),\n",
      "                                                  ['salary', 'employment_years',\n",
      "                                                   'supervisor_evaluation'])])),\n",
      "                ('models',\n",
      "                 DecisionTreeRegressor(max_features=13, min_samples_split=14,\n",
      "                                       random_state=42))])\n",
      "\n",
      "\n",
      "Параметры лучшей модели:\n",
      "{'preprocessor__num': MinMaxScaler(), 'models__min_samples_split': 14, 'models__max_features': 13, 'models__max_depth': None, 'models': DecisionTreeRegressor(random_state=42)}\n",
      "\n",
      "\n",
      "Метрика лучшей модели на тренировочной выборке: 14.737956569585364\n"
     ]
    }
   ],
   "source": [
    "# ищем лучшую модель \n",
    "random_search = RandomizedSearchCV(\n",
    "    pipe_final, \n",
    "    param_grid, \n",
    "    cv=5,\n",
    "    scoring=smape_scorer,\n",
    "    random_state=RANDOM_STATE,\n",
    "    n_jobs=-1\n",
    ")\n",
    "random_search.fit(X_train, y_train)\n",
    "print('Лучшая модель и её параметры:\\n\\n', random_search.best_estimator_)\n",
    "print()\n",
    "print()\n",
    "print(f'Параметры лучшей модели:\\n{random_search.best_params_}')\n",
    "print()\n",
    "print()\n",
    "print ('Метрика лучшей модели на тренировочной выборке:', -random_search.best_score_)"
   ]
  },
  {
   "cell_type": "code",
   "execution_count": 28,
   "id": "dd4c9776",
   "metadata": {},
   "outputs": [
    {
     "data": {
      "text/html": [
       "<div>\n",
       "<style scoped>\n",
       "    .dataframe tbody tr th:only-of-type {\n",
       "        vertical-align: middle;\n",
       "    }\n",
       "\n",
       "    .dataframe tbody tr th {\n",
       "        vertical-align: top;\n",
       "    }\n",
       "\n",
       "    .dataframe thead th {\n",
       "        text-align: right;\n",
       "    }\n",
       "</style>\n",
       "<table border=\"1\" class=\"dataframe\">\n",
       "  <thead>\n",
       "    <tr style=\"text-align: right;\">\n",
       "      <th></th>\n",
       "      <th>std_test_score</th>\n",
       "      <th>rank_test_score</th>\n",
       "      <th>param_models</th>\n",
       "      <th>mean_test_score</th>\n",
       "      <th>params</th>\n",
       "    </tr>\n",
       "  </thead>\n",
       "  <tbody>\n",
       "    <tr>\n",
       "      <th>8</th>\n",
       "      <td>0.552968</td>\n",
       "      <td>1</td>\n",
       "      <td>DecisionTreeRegressor(random_state=42)</td>\n",
       "      <td>-14.737957</td>\n",
       "      <td>{'preprocessor__num': MinMaxScaler(), 'models__min_samples_split': 14, 'models__max_features': 13, 'models__max_depth': None, 'models': DecisionTreeRegressor(random_state=42)}</td>\n",
       "    </tr>\n",
       "    <tr>\n",
       "      <th>1</th>\n",
       "      <td>0.592211</td>\n",
       "      <td>2</td>\n",
       "      <td>DecisionTreeRegressor(random_state=42)</td>\n",
       "      <td>-15.405354</td>\n",
       "      <td>{'preprocessor__num': RobustScaler(), 'models__min_samples_split': 4, 'models__max_features': 10, 'models__max_depth': 11, 'models': DecisionTreeRegressor(random_state=42)}</td>\n",
       "    </tr>\n",
       "    <tr>\n",
       "      <th>7</th>\n",
       "      <td>0.357713</td>\n",
       "      <td>3</td>\n",
       "      <td>DecisionTreeRegressor(random_state=42)</td>\n",
       "      <td>-15.420736</td>\n",
       "      <td>{'preprocessor__num': MinMaxScaler(), 'models__min_samples_split': 10, 'models__max_features': 6, 'models__max_depth': 13, 'models': DecisionTreeRegressor(random_state=42)}</td>\n",
       "    </tr>\n",
       "    <tr>\n",
       "      <th>9</th>\n",
       "      <td>0.595822</td>\n",
       "      <td>4</td>\n",
       "      <td>DecisionTreeRegressor(random_state=42)</td>\n",
       "      <td>-15.444281</td>\n",
       "      <td>{'preprocessor__num': StandardScaler(), 'models__min_samples_split': 12, 'models__max_features': 8, 'models__max_depth': 11, 'models': DecisionTreeRegressor(random_state=42)}</td>\n",
       "    </tr>\n",
       "    <tr>\n",
       "      <th>6</th>\n",
       "      <td>0.435018</td>\n",
       "      <td>5</td>\n",
       "      <td>DecisionTreeRegressor(random_state=42)</td>\n",
       "      <td>-16.253427</td>\n",
       "      <td>{'preprocessor__num': MinMaxScaler(), 'models__min_samples_split': 2, 'models__max_features': 6, 'models__max_depth': 12, 'models': DecisionTreeRegressor(random_state=42)}</td>\n",
       "    </tr>\n",
       "  </tbody>\n",
       "</table>\n",
       "</div>"
      ],
      "text/plain": [
       "   std_test_score  rank_test_score                            param_models  \\\n",
       "8        0.552968                1  DecisionTreeRegressor(random_state=42)   \n",
       "1        0.592211                2  DecisionTreeRegressor(random_state=42)   \n",
       "7        0.357713                3  DecisionTreeRegressor(random_state=42)   \n",
       "9        0.595822                4  DecisionTreeRegressor(random_state=42)   \n",
       "6        0.435018                5  DecisionTreeRegressor(random_state=42)   \n",
       "\n",
       "   mean_test_score  \\\n",
       "8       -14.737957   \n",
       "1       -15.405354   \n",
       "7       -15.420736   \n",
       "9       -15.444281   \n",
       "6       -16.253427   \n",
       "\n",
       "                                                                                                                                                                            params  \n",
       "8  {'preprocessor__num': MinMaxScaler(), 'models__min_samples_split': 14, 'models__max_features': 13, 'models__max_depth': None, 'models': DecisionTreeRegressor(random_state=42)}  \n",
       "1     {'preprocessor__num': RobustScaler(), 'models__min_samples_split': 4, 'models__max_features': 10, 'models__max_depth': 11, 'models': DecisionTreeRegressor(random_state=42)}  \n",
       "7     {'preprocessor__num': MinMaxScaler(), 'models__min_samples_split': 10, 'models__max_features': 6, 'models__max_depth': 13, 'models': DecisionTreeRegressor(random_state=42)}  \n",
       "9   {'preprocessor__num': StandardScaler(), 'models__min_samples_split': 12, 'models__max_features': 8, 'models__max_depth': 11, 'models': DecisionTreeRegressor(random_state=42)}  \n",
       "6      {'preprocessor__num': MinMaxScaler(), 'models__min_samples_split': 2, 'models__max_features': 6, 'models__max_depth': 12, 'models': DecisionTreeRegressor(random_state=42)}  "
      ]
     },
     "execution_count": 28,
     "metadata": {},
     "output_type": "execute_result"
    }
   ],
   "source": [
    "# посмотрим на метрики 5 лучших моделей\n",
    "pd.DataFrame(random_search.cv_results_)[\n",
    "    ['std_test_score', 'rank_test_score', 'param_models', 'mean_test_score','params']\n",
    "].sort_values('rank_test_score')[:5]"
   ]
  },
  {
   "cell_type": "markdown",
   "id": "bc8d79bf",
   "metadata": {},
   "source": [
    "#### Проверка лучшей модели"
   ]
  },
  {
   "cell_type": "code",
   "execution_count": 29,
   "id": "0b262eb0",
   "metadata": {},
   "outputs": [],
   "source": [
    "# достаем нашу лучшую обученную модель\n",
    "best_model = random_search.best_estimator_\n",
    "# получаем предсказания для тестовой выборки\n",
    "y_predict = best_model.predict(df_test.drop(['id','job_satisfaction_rate'], axis=True))"
   ]
  },
  {
   "cell_type": "code",
   "execution_count": 30,
   "id": "b1cb6980",
   "metadata": {
    "scrolled": true
   },
   "outputs": [
    {
     "name": "stdout",
     "output_type": "stream",
     "text": [
      "Метрика SMAPE у лучшей модели на тестовых данных составляет -  13.64\n"
     ]
    }
   ],
   "source": [
    "print('Метрика SMAPE у лучшей модели на тестовых данных составляет - ',\n",
    "      round(smape(df_test['job_satisfaction_rate'], y_predict),2))"
   ]
  },
  {
   "cell_type": "markdown",
   "id": "ad9a41a5",
   "metadata": {},
   "source": [
    "***Промежуточные выводы***\n",
    "\n",
    "Успех! На тренировочных данных лучшая из обученных моделей ***DecisionTreeRegressor*** (с гиперпараметрами  'models__min_samples_split': 14, 'models__max_features': 13, 'models__max_depth': None, предобработка данных при помощи  MinMaxScaler()) имеет показатель SMAP - ***14.73***, на тестовых - ***13.64***. Это соответствует критериям отбора по условию. Лучшая модель найдена."
   ]
  },
  {
   "cell_type": "markdown",
   "id": "575162bc",
   "metadata": {},
   "source": [
    "### Выводы по задаче 1"
   ]
  },
  {
   "cell_type": "markdown",
   "id": "f7f4f5f0",
   "metadata": {},
   "source": [
    "На данном шаге были изучены и обработаны данные анкетировани сотрудников компании для построения модели, которая сможет предсказать уровень удовлетворённости сотрудника на основе данных заказчика. Т.к. многие признаки связаны между собой нелинейно лучшей себя показала модель DecisionTreeRegressor (с гиперпараметрами 'models__min_samples_split': 14, 'models__max_features': 13, 'models__max_depth': None, предобработка данных при помощи MinMaxScaler()), метрика на тестовых данных соответствует критериям успеха. Будем использовать данную модель для дальнейшего исследования."
   ]
  },
  {
   "cell_type": "markdown",
   "id": "0db540cd",
   "metadata": {},
   "source": [
    "## Задача 2"
   ]
  },
  {
   "cell_type": "markdown",
   "id": "7ba1fb93",
   "metadata": {},
   "source": [
    "### Загрузка данных"
   ]
  },
  {
   "cell_type": "code",
   "execution_count": 31,
   "id": "21ee2df1",
   "metadata": {},
   "outputs": [],
   "source": [
    "X_test_quit = X_test.copy()"
   ]
  },
  {
   "cell_type": "code",
   "execution_count": 32,
   "id": "749696c3",
   "metadata": {},
   "outputs": [],
   "source": [
    "try:\n",
    "    df_train_quit=pd.read_csv('/datasets/train_quit.csv')\n",
    "    df_train_quit.name='df_train_quit'\n",
    "except:\n",
    "    df_train_quit=pd.read_csv('https://code.s3.yandex.net/datasets/train_quit.csv')\n",
    "    df_train_quit.name='df_train_quit'\n"
   ]
  },
  {
   "cell_type": "code",
   "execution_count": 33,
   "id": "1f307bbb",
   "metadata": {},
   "outputs": [],
   "source": [
    "try:\n",
    "    y_test_quit=pd.read_csv('/datasets/test_target_quit.csv')\n",
    "    y_test_quit.name='y_test_quit'\n",
    "except:\n",
    "    y_test_quit=pd.read_csv('https://code.s3.yandex.net/datasets/test_target_quit.csv')\n",
    "    y_test_quit.name='y_test_quit'\n"
   ]
  },
  {
   "cell_type": "markdown",
   "id": "c28d7fa8",
   "metadata": {},
   "source": [
    "### Предварительный осмотр данных"
   ]
  },
  {
   "cell_type": "code",
   "execution_count": 34,
   "id": "368239c8",
   "metadata": {},
   "outputs": [],
   "source": [
    "df_list=[df_train_quit, y_test_quit]"
   ]
  },
  {
   "cell_type": "code",
   "execution_count": 35,
   "id": "66ee4419",
   "metadata": {
    "scrolled": true
   },
   "outputs": [
    {
     "name": "stdout",
     "output_type": "stream",
     "text": [
      "Первые пять строчек датафрейма df_train_quit:\n"
     ]
    },
    {
     "data": {
      "text/html": [
       "<div>\n",
       "<style scoped>\n",
       "    .dataframe tbody tr th:only-of-type {\n",
       "        vertical-align: middle;\n",
       "    }\n",
       "\n",
       "    .dataframe tbody tr th {\n",
       "        vertical-align: top;\n",
       "    }\n",
       "\n",
       "    .dataframe thead th {\n",
       "        text-align: right;\n",
       "    }\n",
       "</style>\n",
       "<table border=\"1\" class=\"dataframe\">\n",
       "  <thead>\n",
       "    <tr style=\"text-align: right;\">\n",
       "      <th></th>\n",
       "      <th>id</th>\n",
       "      <th>dept</th>\n",
       "      <th>level</th>\n",
       "      <th>workload</th>\n",
       "      <th>employment_years</th>\n",
       "      <th>last_year_promo</th>\n",
       "      <th>last_year_violations</th>\n",
       "      <th>supervisor_evaluation</th>\n",
       "      <th>salary</th>\n",
       "      <th>quit</th>\n",
       "    </tr>\n",
       "  </thead>\n",
       "  <tbody>\n",
       "    <tr>\n",
       "      <th>0</th>\n",
       "      <td>723290</td>\n",
       "      <td>sales</td>\n",
       "      <td>middle</td>\n",
       "      <td>high</td>\n",
       "      <td>2</td>\n",
       "      <td>no</td>\n",
       "      <td>no</td>\n",
       "      <td>4</td>\n",
       "      <td>54000</td>\n",
       "      <td>no</td>\n",
       "    </tr>\n",
       "    <tr>\n",
       "      <th>1</th>\n",
       "      <td>814010</td>\n",
       "      <td>sales</td>\n",
       "      <td>junior</td>\n",
       "      <td>medium</td>\n",
       "      <td>2</td>\n",
       "      <td>no</td>\n",
       "      <td>no</td>\n",
       "      <td>4</td>\n",
       "      <td>27600</td>\n",
       "      <td>no</td>\n",
       "    </tr>\n",
       "    <tr>\n",
       "      <th>2</th>\n",
       "      <td>155091</td>\n",
       "      <td>purchasing</td>\n",
       "      <td>middle</td>\n",
       "      <td>medium</td>\n",
       "      <td>5</td>\n",
       "      <td>no</td>\n",
       "      <td>no</td>\n",
       "      <td>1</td>\n",
       "      <td>37200</td>\n",
       "      <td>no</td>\n",
       "    </tr>\n",
       "    <tr>\n",
       "      <th>3</th>\n",
       "      <td>257132</td>\n",
       "      <td>sales</td>\n",
       "      <td>junior</td>\n",
       "      <td>medium</td>\n",
       "      <td>2</td>\n",
       "      <td>no</td>\n",
       "      <td>yes</td>\n",
       "      <td>3</td>\n",
       "      <td>24000</td>\n",
       "      <td>yes</td>\n",
       "    </tr>\n",
       "    <tr>\n",
       "      <th>4</th>\n",
       "      <td>910140</td>\n",
       "      <td>marketing</td>\n",
       "      <td>junior</td>\n",
       "      <td>medium</td>\n",
       "      <td>2</td>\n",
       "      <td>no</td>\n",
       "      <td>no</td>\n",
       "      <td>5</td>\n",
       "      <td>25200</td>\n",
       "      <td>no</td>\n",
       "    </tr>\n",
       "  </tbody>\n",
       "</table>\n",
       "</div>"
      ],
      "text/plain": [
       "       id        dept   level workload  employment_years last_year_promo  \\\n",
       "0  723290       sales  middle     high                 2              no   \n",
       "1  814010       sales  junior   medium                 2              no   \n",
       "2  155091  purchasing  middle   medium                 5              no   \n",
       "3  257132       sales  junior   medium                 2              no   \n",
       "4  910140   marketing  junior   medium                 2              no   \n",
       "\n",
       "  last_year_violations  supervisor_evaluation  salary quit  \n",
       "0                   no                      4   54000   no  \n",
       "1                   no                      4   27600   no  \n",
       "2                   no                      1   37200   no  \n",
       "3                  yes                      3   24000  yes  \n",
       "4                   no                      5   25200   no  "
      ]
     },
     "metadata": {},
     "output_type": "display_data"
    },
    {
     "name": "stdout",
     "output_type": "stream",
     "text": [
      "\n",
      "Общая информация о датафрейме df_train_quit:\n",
      "<class 'pandas.core.frame.DataFrame'>\n",
      "RangeIndex: 4000 entries, 0 to 3999\n",
      "Data columns (total 10 columns):\n",
      " #   Column                 Non-Null Count  Dtype \n",
      "---  ------                 --------------  ----- \n",
      " 0   id                     4000 non-null   int64 \n",
      " 1   dept                   4000 non-null   object\n",
      " 2   level                  4000 non-null   object\n",
      " 3   workload               4000 non-null   object\n",
      " 4   employment_years       4000 non-null   int64 \n",
      " 5   last_year_promo        4000 non-null   object\n",
      " 6   last_year_violations   4000 non-null   object\n",
      " 7   supervisor_evaluation  4000 non-null   int64 \n",
      " 8   salary                 4000 non-null   int64 \n",
      " 9   quit                   4000 non-null   object\n",
      "dtypes: int64(4), object(6)\n",
      "memory usage: 312.6+ KB\n",
      "\n",
      "Первые пять строчек датафрейма y_test_quit:\n"
     ]
    },
    {
     "data": {
      "text/html": [
       "<div>\n",
       "<style scoped>\n",
       "    .dataframe tbody tr th:only-of-type {\n",
       "        vertical-align: middle;\n",
       "    }\n",
       "\n",
       "    .dataframe tbody tr th {\n",
       "        vertical-align: top;\n",
       "    }\n",
       "\n",
       "    .dataframe thead th {\n",
       "        text-align: right;\n",
       "    }\n",
       "</style>\n",
       "<table border=\"1\" class=\"dataframe\">\n",
       "  <thead>\n",
       "    <tr style=\"text-align: right;\">\n",
       "      <th></th>\n",
       "      <th>id</th>\n",
       "      <th>quit</th>\n",
       "    </tr>\n",
       "  </thead>\n",
       "  <tbody>\n",
       "    <tr>\n",
       "      <th>0</th>\n",
       "      <td>999029</td>\n",
       "      <td>yes</td>\n",
       "    </tr>\n",
       "    <tr>\n",
       "      <th>1</th>\n",
       "      <td>372846</td>\n",
       "      <td>no</td>\n",
       "    </tr>\n",
       "    <tr>\n",
       "      <th>2</th>\n",
       "      <td>726767</td>\n",
       "      <td>no</td>\n",
       "    </tr>\n",
       "    <tr>\n",
       "      <th>3</th>\n",
       "      <td>490105</td>\n",
       "      <td>no</td>\n",
       "    </tr>\n",
       "    <tr>\n",
       "      <th>4</th>\n",
       "      <td>416898</td>\n",
       "      <td>yes</td>\n",
       "    </tr>\n",
       "  </tbody>\n",
       "</table>\n",
       "</div>"
      ],
      "text/plain": [
       "       id quit\n",
       "0  999029  yes\n",
       "1  372846   no\n",
       "2  726767   no\n",
       "3  490105   no\n",
       "4  416898  yes"
      ]
     },
     "metadata": {},
     "output_type": "display_data"
    },
    {
     "name": "stdout",
     "output_type": "stream",
     "text": [
      "\n",
      "Общая информация о датафрейме y_test_quit:\n",
      "<class 'pandas.core.frame.DataFrame'>\n",
      "RangeIndex: 2000 entries, 0 to 1999\n",
      "Data columns (total 2 columns):\n",
      " #   Column  Non-Null Count  Dtype \n",
      "---  ------  --------------  ----- \n",
      " 0   id      2000 non-null   int64 \n",
      " 1   quit    2000 non-null   object\n",
      "dtypes: int64(1), object(1)\n",
      "memory usage: 31.4+ KB\n",
      "\n"
     ]
    }
   ],
   "source": [
    "for df in df_list:\n",
    "    print(f'Первые пять строчек датафрейма {df.name}:')\n",
    "    display(df.head())\n",
    "    print()\n",
    "    print(f'Общая информация о датафрейме {df.name}:')\n",
    "    df.info()\n",
    "    print()"
   ]
  },
  {
   "cell_type": "code",
   "execution_count": 36,
   "id": "c9eb3987",
   "metadata": {
    "scrolled": true
   },
   "outputs": [
    {
     "name": "stdout",
     "output_type": "stream",
     "text": [
      " Список уникальных значений столбца \"dept\" датафрейма df_train_quit\n",
      "['sales' 'purchasing' 'marketing' 'technology' 'hr']\n",
      "\n",
      " Список уникальных значений столбца \"level\" датафрейма df_train_quit\n",
      "['middle' 'junior' 'sinior']\n",
      "\n",
      " Список уникальных значений столбца \"workload\" датафрейма df_train_quit\n",
      "['high' 'medium' 'low']\n",
      "\n",
      " Список уникальных значений столбца \"last_year_promo\" датафрейма df_train_quit\n",
      "['no' 'yes']\n",
      "\n",
      " Список уникальных значений столбца \"last_year_violations\" датафрейма df_train_quit\n",
      "['no' 'yes']\n",
      "\n",
      " Список уникальных значений столбца \"quit\" датафрейма df_train_quit\n",
      "['no' 'yes']\n",
      "\n",
      " Список уникальных значений столбца \"quit\" датафрейма y_test_quit\n",
      "['yes' 'no']\n",
      "\n"
     ]
    }
   ],
   "source": [
    "# смотрим неявные дубликаты и коррекность значений \n",
    "for df in df_list:\n",
    "    for column in df.select_dtypes(exclude=np.number).columns.to_list():\n",
    "        print(f' Список уникальных значений столбца \"{column}\" датафрейма {df.name}')\n",
    "        print(df[column].unique())\n",
    "        print()"
   ]
  },
  {
   "cell_type": "markdown",
   "id": "60078ec1",
   "metadata": {},
   "source": [
    "Данные в  df_train_quit и y_test_quit корректно типизированы, нет явных и неявных дубликатов и пропусков."
   ]
  },
  {
   "cell_type": "code",
   "execution_count": 39,
   "id": "f78f5ac0",
   "metadata": {},
   "outputs": [],
   "source": [
    "df_train_quit['level'] = df_train['level'].replace('sinior', 'senior')"
   ]
  },
  {
   "cell_type": "code",
   "execution_count": 40,
   "id": "6d9a6c43",
   "metadata": {
    "scrolled": true
   },
   "outputs": [
    {
     "data": {
      "image/png": "[encoded data removed]",
      "text/plain": [
       "<Figure size 1440x1080 with 2 Axes>"
      ]
     },
     "metadata": {
      "needs_background": "light"
     },
     "output_type": "display_data"
    }
   ],
   "source": [
    "phik_overview = (\n",
    "    df_train_quit\n",
    "    .drop('id', axis=1)\n",
    "    .phik_matrix(verbose=False, interval_cols=['supervisor_evaluation','salary']))\n",
    "\n",
    "plot_correlation_matrix(\n",
    "    phik_overview.values,\n",
    "    x_labels=phik_overview.columns,\n",
    "    y_labels=phik_overview.index,\n",
    "    vmin=0, vmax=1, color_map='summer',\n",
    "    title=r'Корреляция $\\phi_K$ df_train',\n",
    "    fontsize_factor=1.5,\n",
    "    figsize=(20, 15)\n",
    ")"
   ]
  },
  {
   "cell_type": "markdown",
   "id": "d91c2608",
   "metadata": {},
   "source": [
    "О мультиколлинеарности свидетельствует значение коэффициента корреляции от 0.9 до 0.95 по модулю, в данном случае мультиколлинеарность отсутствует.\n",
    "Самая значимая взаимосвязь между входными признаками выражена значением - 0.79 - между workload и salary.\n",
    "\n",
    "Наиболее значимые взимосвязи видим между целевым признаком 'quit' и входными признаками:\n",
    "\n",
    "- 'employment_years' - 0.66;\n",
    "- 'salary' - 0.56."
   ]
  },
  {
   "cell_type": "markdown",
   "id": "f5b19456",
   "metadata": {},
   "source": [
    "Промежуточные выводы:\n",
    "\n",
    "***df_train_quit***\n",
    "\n",
    "Категориальные признаки  - данные корректны, есть пропущенные яцейки в колонке \"level\", они будут обработыны в пайплайне. Поправили орфографические ошибки.\n",
    "\n",
    "Количественные признаки: - крупных выбросов и аномалий не обнаружено. Пропусков данных нет. \n",
    "\n",
    "Мультиколлинеарность отсутствует. Но можно увидель высокую корреляцию(>65) между признаками employment_years/quit, salary/workload.\n",
    "\n",
    "\n",
    "***y_test_quit*** - данные корректы, пропусков нет. Распределение непропорционально, но в нашем исследовании это не повредит, т.к. выбоки уже подготовлены."
   ]
  },
  {
   "cell_type": "markdown",
   "id": "cf4d7ed4",
   "metadata": {},
   "source": [
    "### Исследование признаков уволившихся сотрудников"
   ]
  },
  {
   "cell_type": "code",
   "execution_count": 41,
   "id": "15610664",
   "metadata": {},
   "outputs": [],
   "source": [
    "def countplot(data, x, hue, count):\n",
    "    \"\"\"Функция для построения графика countplot и pie\"\"\"\n",
    "    if count==2:\n",
    "        fig, axes = plt.subplots(nrows=1, ncols=2, figsize=(12,5), dpi=100)\n",
    "        sns.countplot(data=data, x=x, hue=hue, palette=['g', 'yellow'], ax=axes[0])\n",
    "        axes[0].grid(True, axis='y', linestyle='--')\n",
    "        data.query('quit == \"yes\"')[x].value_counts().plot(y = 'count',\n",
    "                                                           kind = 'pie',\n",
    "                                                           autopct='%1.0f%%',\n",
    "                                                           label='',\n",
    "                                                           ax=axes[1],\n",
    "                                                           colormap='summer',)\n",
    "        axes[1].set_title('Процентное соотношение всех уволившихся');\n",
    "    else:\n",
    "        plt.figure(figsize=(10,5), dpi=100)\n",
    "        sns.countplot(data=data, x=x, hue=hue, palette=['g', 'yellow'])\n",
    "        plt.grid(True, axis='y', linestyle='--');\n"
   ]
  },
  {
   "cell_type": "code",
   "execution_count": 42,
   "id": "5a6b1406",
   "metadata": {},
   "outputs": [],
   "source": [
    "def df_percent(data, col):\n",
    "    \"\"\"функция для отображения датафрейма визуализируего доли уволившихся сотрудников\"\"\"\n",
    "    df_new=pd.merge(data[col].value_counts(),data.query('quit==\"yes\"')[col].value_counts(),left_index=True, right_index=True)\n",
    "    df_new.columns=['всего_сотрудников','уволилось_сотрудников']\n",
    "    df_new['%_соотношение'] = round(df_new['уволилось_сотрудников']/df_new['всего_сотрудников']*100,2)\n",
    "    display(df_new.sort_values(by='%_соотношение', ascending=False))"
   ]
  },
  {
   "cell_type": "code",
   "execution_count": 43,
   "id": "96839bd4",
   "metadata": {
    "scrolled": true
   },
   "outputs": [
    {
     "data": {
      "text/html": [
       "<div>\n",
       "<style scoped>\n",
       "    .dataframe tbody tr th:only-of-type {\n",
       "        vertical-align: middle;\n",
       "    }\n",
       "\n",
       "    .dataframe tbody tr th {\n",
       "        vertical-align: top;\n",
       "    }\n",
       "\n",
       "    .dataframe thead th {\n",
       "        text-align: right;\n",
       "    }\n",
       "</style>\n",
       "<table border=\"1\" class=\"dataframe\">\n",
       "  <thead>\n",
       "    <tr style=\"text-align: right;\">\n",
       "      <th></th>\n",
       "      <th>id</th>\n",
       "      <th>dept</th>\n",
       "      <th>level</th>\n",
       "      <th>workload</th>\n",
       "      <th>employment_years</th>\n",
       "      <th>last_year_promo</th>\n",
       "      <th>last_year_violations</th>\n",
       "      <th>supervisor_evaluation</th>\n",
       "      <th>salary</th>\n",
       "      <th>quit</th>\n",
       "    </tr>\n",
       "  </thead>\n",
       "  <tbody>\n",
       "    <tr>\n",
       "      <th>0</th>\n",
       "      <td>723290</td>\n",
       "      <td>sales</td>\n",
       "      <td>junior</td>\n",
       "      <td>high</td>\n",
       "      <td>2</td>\n",
       "      <td>no</td>\n",
       "      <td>no</td>\n",
       "      <td>4</td>\n",
       "      <td>54000</td>\n",
       "      <td>no</td>\n",
       "    </tr>\n",
       "    <tr>\n",
       "      <th>1</th>\n",
       "      <td>814010</td>\n",
       "      <td>sales</td>\n",
       "      <td>junior</td>\n",
       "      <td>medium</td>\n",
       "      <td>2</td>\n",
       "      <td>no</td>\n",
       "      <td>no</td>\n",
       "      <td>4</td>\n",
       "      <td>27600</td>\n",
       "      <td>no</td>\n",
       "    </tr>\n",
       "    <tr>\n",
       "      <th>2</th>\n",
       "      <td>155091</td>\n",
       "      <td>purchasing</td>\n",
       "      <td>junior</td>\n",
       "      <td>medium</td>\n",
       "      <td>5</td>\n",
       "      <td>no</td>\n",
       "      <td>no</td>\n",
       "      <td>1</td>\n",
       "      <td>37200</td>\n",
       "      <td>no</td>\n",
       "    </tr>\n",
       "    <tr>\n",
       "      <th>3</th>\n",
       "      <td>257132</td>\n",
       "      <td>sales</td>\n",
       "      <td>junior</td>\n",
       "      <td>medium</td>\n",
       "      <td>2</td>\n",
       "      <td>no</td>\n",
       "      <td>yes</td>\n",
       "      <td>3</td>\n",
       "      <td>24000</td>\n",
       "      <td>yes</td>\n",
       "    </tr>\n",
       "    <tr>\n",
       "      <th>4</th>\n",
       "      <td>910140</td>\n",
       "      <td>marketing</td>\n",
       "      <td>junior</td>\n",
       "      <td>medium</td>\n",
       "      <td>2</td>\n",
       "      <td>no</td>\n",
       "      <td>no</td>\n",
       "      <td>5</td>\n",
       "      <td>25200</td>\n",
       "      <td>no</td>\n",
       "    </tr>\n",
       "  </tbody>\n",
       "</table>\n",
       "</div>"
      ],
      "text/plain": [
       "       id        dept   level workload  employment_years last_year_promo  \\\n",
       "0  723290       sales  junior     high                 2              no   \n",
       "1  814010       sales  junior   medium                 2              no   \n",
       "2  155091  purchasing  junior   medium                 5              no   \n",
       "3  257132       sales  junior   medium                 2              no   \n",
       "4  910140   marketing  junior   medium                 2              no   \n",
       "\n",
       "  last_year_violations  supervisor_evaluation  salary quit  \n",
       "0                   no                      4   54000   no  \n",
       "1                   no                      4   27600   no  \n",
       "2                   no                      1   37200   no  \n",
       "3                  yes                      3   24000  yes  \n",
       "4                   no                      5   25200   no  "
      ]
     },
     "execution_count": 43,
     "metadata": {},
     "output_type": "execute_result"
    }
   ],
   "source": [
    "df_train_quit.head()"
   ]
  },
  {
   "cell_type": "markdown",
   "id": "42c7bd90",
   "metadata": {},
   "source": [
    "Помотрим насколько зависит увольнение сотрудника от времени его пребывания в компании и заработной планы."
   ]
  },
  {
   "cell_type": "code",
   "execution_count": 44,
   "id": "254ab1e0",
   "metadata": {
    "scrolled": true
   },
   "outputs": [
    {
     "data": {
      "image/png": "[encoded data removed]",
      "text/plain": [
       "<Figure size 1000x500 with 1 Axes>"
      ]
     },
     "metadata": {
      "needs_background": "light"
     },
     "output_type": "display_data"
    }
   ],
   "source": [
    "plt.figure(figsize=(10,5), dpi=100)\n",
    "sns.scatterplot(x='salary', y='employment_years', hue='quit', data=df_train_quit, alpha=0.5, palette=['g', 'yellow']);"
   ]
  },
  {
   "cell_type": "markdown",
   "id": "ed78a0ba",
   "metadata": {},
   "source": [
    "Основная часть уволившихся сотрудников проработала в компании менее 4х лет, а так же имела заработную плану < 500000."
   ]
  },
  {
   "cell_type": "markdown",
   "id": "c00ab3ec",
   "metadata": {},
   "source": [
    "Детальнее рассмотрим распределение уволившихся/оставшихся по времени работы в компании."
   ]
  },
  {
   "cell_type": "code",
   "execution_count": 45,
   "id": "995ec039",
   "metadata": {},
   "outputs": [
    {
     "data": {
      "text/html": [
       "<div>\n",
       "<style scoped>\n",
       "    .dataframe tbody tr th:only-of-type {\n",
       "        vertical-align: middle;\n",
       "    }\n",
       "\n",
       "    .dataframe tbody tr th {\n",
       "        vertical-align: top;\n",
       "    }\n",
       "\n",
       "    .dataframe thead th {\n",
       "        text-align: right;\n",
       "    }\n",
       "</style>\n",
       "<table border=\"1\" class=\"dataframe\">\n",
       "  <thead>\n",
       "    <tr style=\"text-align: right;\">\n",
       "      <th></th>\n",
       "      <th>всего_сотрудников</th>\n",
       "      <th>уволилось_сотрудников</th>\n",
       "      <th>%_соотношение</th>\n",
       "    </tr>\n",
       "  </thead>\n",
       "  <tbody>\n",
       "    <tr>\n",
       "      <th>1</th>\n",
       "      <td>985</td>\n",
       "      <td>599</td>\n",
       "      <td>60.81</td>\n",
       "    </tr>\n",
       "    <tr>\n",
       "      <th>2</th>\n",
       "      <td>777</td>\n",
       "      <td>290</td>\n",
       "      <td>37.32</td>\n",
       "    </tr>\n",
       "    <tr>\n",
       "      <th>3</th>\n",
       "      <td>479</td>\n",
       "      <td>163</td>\n",
       "      <td>34.03</td>\n",
       "    </tr>\n",
       "    <tr>\n",
       "      <th>4</th>\n",
       "      <td>393</td>\n",
       "      <td>27</td>\n",
       "      <td>6.87</td>\n",
       "    </tr>\n",
       "    <tr>\n",
       "      <th>5</th>\n",
       "      <td>362</td>\n",
       "      <td>23</td>\n",
       "      <td>6.35</td>\n",
       "    </tr>\n",
       "    <tr>\n",
       "      <th>6</th>\n",
       "      <td>296</td>\n",
       "      <td>10</td>\n",
       "      <td>3.38</td>\n",
       "    </tr>\n",
       "    <tr>\n",
       "      <th>10</th>\n",
       "      <td>90</td>\n",
       "      <td>3</td>\n",
       "      <td>3.33</td>\n",
       "    </tr>\n",
       "    <tr>\n",
       "      <th>7</th>\n",
       "      <td>308</td>\n",
       "      <td>7</td>\n",
       "      <td>2.27</td>\n",
       "    </tr>\n",
       "    <tr>\n",
       "      <th>9</th>\n",
       "      <td>136</td>\n",
       "      <td>3</td>\n",
       "      <td>2.21</td>\n",
       "    </tr>\n",
       "    <tr>\n",
       "      <th>8</th>\n",
       "      <td>174</td>\n",
       "      <td>3</td>\n",
       "      <td>1.72</td>\n",
       "    </tr>\n",
       "  </tbody>\n",
       "</table>\n",
       "</div>"
      ],
      "text/plain": [
       "    всего_сотрудников  уволилось_сотрудников  %_соотношение\n",
       "1                 985                    599          60.81\n",
       "2                 777                    290          37.32\n",
       "3                 479                    163          34.03\n",
       "4                 393                     27           6.87\n",
       "5                 362                     23           6.35\n",
       "6                 296                     10           3.38\n",
       "10                 90                      3           3.33\n",
       "7                 308                      7           2.27\n",
       "9                 136                      3           2.21\n",
       "8                 174                      3           1.72"
      ]
     },
     "metadata": {},
     "output_type": "display_data"
    }
   ],
   "source": [
    "df_percent(df_train_quit, \"employment_years\")"
   ]
  },
  {
   "cell_type": "code",
   "execution_count": 46,
   "id": "ea7691d4",
   "metadata": {
    "scrolled": true
   },
   "outputs": [
    {
     "data": {
      "image/png": "[encoded data removed]",
      "text/plain": [
       "<Figure size 1000x500 with 1 Axes>"
      ]
     },
     "metadata": {
      "needs_background": "light"
     },
     "output_type": "display_data"
    }
   ],
   "source": [
    "countplot(df_train_quit, \"employment_years\", \"quit\", 1)"
   ]
  },
  {
   "cell_type": "markdown",
   "id": "07a2f109",
   "metadata": {},
   "source": [
    "Итак, больше всего увольнений просходит в 1-3 год работы в компании. Лидирует безусловно 1 год работы, больше уволившихся чем осташихся.\n",
    "\n",
    "В процентном соотношеннии картина следующая:\n",
    "- 60% сотрудников первого года уволились,\n",
    "- 37-34% сотрудников увольняются на 2-3 год\n",
    "- далее % увольнений падает ниже уровня 7% и колеблеблется в диапазоне 2-7%."
   ]
  },
  {
   "cell_type": "code",
   "execution_count": 47,
   "id": "506a7a17",
   "metadata": {
    "scrolled": true
   },
   "outputs": [
    {
     "data": {
      "text/html": [
       "<div>\n",
       "<style scoped>\n",
       "    .dataframe tbody tr th:only-of-type {\n",
       "        vertical-align: middle;\n",
       "    }\n",
       "\n",
       "    .dataframe tbody tr th {\n",
       "        vertical-align: top;\n",
       "    }\n",
       "\n",
       "    .dataframe thead th {\n",
       "        text-align: right;\n",
       "    }\n",
       "</style>\n",
       "<table border=\"1\" class=\"dataframe\">\n",
       "  <thead>\n",
       "    <tr style=\"text-align: right;\">\n",
       "      <th></th>\n",
       "      <th>salary</th>\n",
       "    </tr>\n",
       "    <tr>\n",
       "      <th>quit</th>\n",
       "      <th></th>\n",
       "    </tr>\n",
       "  </thead>\n",
       "  <tbody>\n",
       "    <tr>\n",
       "      <th>no</th>\n",
       "      <td>37702.228412</td>\n",
       "    </tr>\n",
       "    <tr>\n",
       "      <th>yes</th>\n",
       "      <td>23885.106383</td>\n",
       "    </tr>\n",
       "  </tbody>\n",
       "</table>\n",
       "</div>"
      ],
      "text/plain": [
       "            salary\n",
       "quit              \n",
       "no    37702.228412\n",
       "yes   23885.106383"
      ]
     },
     "metadata": {},
     "output_type": "display_data"
    },
    {
     "name": "stdout",
     "output_type": "stream",
     "text": [
      "Разница в средней зарплате 36.65 %\n"
     ]
    },
    {
     "data": {
      "image/png": "[encoded data removed]",
      "text/plain": [
       "<Figure size 576x576 with 2 Axes>"
      ]
     },
     "metadata": {
      "needs_background": "light"
     },
     "output_type": "display_data"
    }
   ],
   "source": [
    "df_piv=df_train_quit.pivot_table(values='salary', index='quit', aggfunc='mean')\n",
    "display(df_piv)\n",
    "print('Разница в средней зарплате',round(((1-df_piv.min().values/df_piv.max().values)*100)[0],2), '%')\n",
    "\n",
    "fig, axes = plt.subplots(nrows=2, ncols=1,figsize=(8,8))\n",
    "df_train_quit.pivot_table(values='salary', index='quit', aggfunc='mean').plot(kind='barh', subplots=True, color='green', ax=axes[0])\n",
    "sns.kdeplot(df_train_quit[df_train_quit['quit']=='no']['salary'], color='g', fill=True, ax=axes[1])\n",
    "sns.kdeplot(df_train_quit[df_train_quit['quit']=='yes']['salary'], color='yellow', fill=True, ax=axes[1]);"
   ]
  },
  {
   "cell_type": "markdown",
   "id": "07327739",
   "metadata": {},
   "source": [
    "Средняя зарплата уволившегося сотрудника - 23 885, оставшегося - 37 702.\n",
    "\n",
    "Т.е. средняя зарплата уволившегося сотрудникак на 36.65 % меньше.\n",
    "\n",
    "График плотности распределения заработной платы так же показывает, что зарплаты уволившихся сотрудников меньше."
   ]
  },
  {
   "cell_type": "markdown",
   "id": "635a1bc5",
   "metadata": {},
   "source": [
    "Посмотрим как обстоят дела с распределение увольнений в зависимости от отдела/грейда/загруженности."
   ]
  },
  {
   "cell_type": "code",
   "execution_count": 48,
   "id": "8b26ee07",
   "metadata": {},
   "outputs": [
    {
     "data": {
      "text/html": [
       "<div>\n",
       "<style scoped>\n",
       "    .dataframe tbody tr th:only-of-type {\n",
       "        vertical-align: middle;\n",
       "    }\n",
       "\n",
       "    .dataframe tbody tr th {\n",
       "        vertical-align: top;\n",
       "    }\n",
       "\n",
       "    .dataframe thead th {\n",
       "        text-align: right;\n",
       "    }\n",
       "</style>\n",
       "<table border=\"1\" class=\"dataframe\">\n",
       "  <thead>\n",
       "    <tr style=\"text-align: right;\">\n",
       "      <th></th>\n",
       "      <th>всего_сотрудников</th>\n",
       "      <th>уволилось_сотрудников</th>\n",
       "      <th>%_соотношение</th>\n",
       "    </tr>\n",
       "  </thead>\n",
       "  <tbody>\n",
       "    <tr>\n",
       "      <th>technology</th>\n",
       "      <td>928</td>\n",
       "      <td>276</td>\n",
       "      <td>29.74</td>\n",
       "    </tr>\n",
       "    <tr>\n",
       "      <th>sales</th>\n",
       "      <td>1438</td>\n",
       "      <td>407</td>\n",
       "      <td>28.30</td>\n",
       "    </tr>\n",
       "    <tr>\n",
       "      <th>purchasing</th>\n",
       "      <td>588</td>\n",
       "      <td>166</td>\n",
       "      <td>28.23</td>\n",
       "    </tr>\n",
       "    <tr>\n",
       "      <th>marketing</th>\n",
       "      <td>582</td>\n",
       "      <td>163</td>\n",
       "      <td>28.01</td>\n",
       "    </tr>\n",
       "    <tr>\n",
       "      <th>hr</th>\n",
       "      <td>464</td>\n",
       "      <td>116</td>\n",
       "      <td>25.00</td>\n",
       "    </tr>\n",
       "  </tbody>\n",
       "</table>\n",
       "</div>"
      ],
      "text/plain": [
       "            всего_сотрудников  уволилось_сотрудников  %_соотношение\n",
       "technology                928                    276          29.74\n",
       "sales                    1438                    407          28.30\n",
       "purchasing                588                    166          28.23\n",
       "marketing                 582                    163          28.01\n",
       "hr                        464                    116          25.00"
      ]
     },
     "metadata": {},
     "output_type": "display_data"
    }
   ],
   "source": [
    "df_percent(df_train_quit, \"dept\")"
   ]
  },
  {
   "cell_type": "code",
   "execution_count": 49,
   "id": "1b9eb3df",
   "metadata": {
    "scrolled": false
   },
   "outputs": [
    {
     "data": {
      "image/png": "[encoded data removed]",
      "text/plain": [
       "<Figure size 1200x500 with 2 Axes>"
      ]
     },
     "metadata": {
      "needs_background": "light"
     },
     "output_type": "display_data"
    }
   ],
   "source": [
    "countplot(df_train_quit, \"dept\", \"quit\", 2)"
   ]
  },
  {
   "cell_type": "markdown",
   "id": "a8abe391",
   "metadata": {},
   "source": [
    "Распределение увольнений по отделам в целом достаточно равномерное, зависит скорее от общего количетства сотрудников в отделе, чем от специализации. Количественно больше всего увольнений в самых крупных отделах - продажи и техотдел.\n",
    "\n",
    "Самый большой процент увольнений в отделе technology - 29,74% \n",
    "\n",
    "Самый малый в отделе hr - 25%\n",
    "\n",
    "Но как мы видим разрыв абсолютно незначительный."
   ]
  },
  {
   "cell_type": "code",
   "execution_count": 50,
   "id": "2e7a428c",
   "metadata": {},
   "outputs": [
    {
     "data": {
      "text/html": [
       "<div>\n",
       "<style scoped>\n",
       "    .dataframe tbody tr th:only-of-type {\n",
       "        vertical-align: middle;\n",
       "    }\n",
       "\n",
       "    .dataframe tbody tr th {\n",
       "        vertical-align: top;\n",
       "    }\n",
       "\n",
       "    .dataframe thead th {\n",
       "        text-align: right;\n",
       "    }\n",
       "</style>\n",
       "<table border=\"1\" class=\"dataframe\">\n",
       "  <thead>\n",
       "    <tr style=\"text-align: right;\">\n",
       "      <th></th>\n",
       "      <th>всего_сотрудников</th>\n",
       "      <th>уволилось_сотрудников</th>\n",
       "      <th>%_соотношение</th>\n",
       "    </tr>\n",
       "  </thead>\n",
       "  <tbody>\n",
       "    <tr>\n",
       "      <th>middle</th>\n",
       "      <td>1744</td>\n",
       "      <td>514</td>\n",
       "      <td>29.47</td>\n",
       "    </tr>\n",
       "    <tr>\n",
       "      <th>junior</th>\n",
       "      <td>1894</td>\n",
       "      <td>527</td>\n",
       "      <td>27.82</td>\n",
       "    </tr>\n",
       "    <tr>\n",
       "      <th>senior</th>\n",
       "      <td>358</td>\n",
       "      <td>86</td>\n",
       "      <td>24.02</td>\n",
       "    </tr>\n",
       "  </tbody>\n",
       "</table>\n",
       "</div>"
      ],
      "text/plain": [
       "        всего_сотрудников  уволилось_сотрудников  %_соотношение\n",
       "middle               1744                    514          29.47\n",
       "junior               1894                    527          27.82\n",
       "senior                358                     86          24.02"
      ]
     },
     "metadata": {},
     "output_type": "display_data"
    }
   ],
   "source": [
    "df_percent(df_train_quit, \"level\")"
   ]
  },
  {
   "cell_type": "code",
   "execution_count": 51,
   "id": "dc55d5b6",
   "metadata": {},
   "outputs": [
    {
     "data": {
      "image/png": "[encoded data removed]",
      "text/plain": [
       "<Figure size 1200x500 with 2 Axes>"
      ]
     },
     "metadata": {
      "needs_background": "light"
     },
     "output_type": "display_data"
    }
   ],
   "source": [
    "countplot(df_train_quit, \"level\", \"quit\", 2)"
   ]
  },
  {
   "cell_type": "markdown",
   "id": "fda23c45",
   "metadata": {},
   "source": [
    "Примерное при всех уровенях занимаемой должности увольняется около трети сотрудников. Количественно соответственно больше увольнений среди мидл- и джуниор- сотрудников.\n",
    "\n",
    "Наибольший процент увольнений среди middle-сотрудников - 29.47%, наименьший среди senior - 24.02%"
   ]
  },
  {
   "cell_type": "code",
   "execution_count": 52,
   "id": "3c7b5704",
   "metadata": {},
   "outputs": [
    {
     "data": {
      "text/html": [
       "<div>\n",
       "<style scoped>\n",
       "    .dataframe tbody tr th:only-of-type {\n",
       "        vertical-align: middle;\n",
       "    }\n",
       "\n",
       "    .dataframe tbody tr th {\n",
       "        vertical-align: top;\n",
       "    }\n",
       "\n",
       "    .dataframe thead th {\n",
       "        text-align: right;\n",
       "    }\n",
       "</style>\n",
       "<table border=\"1\" class=\"dataframe\">\n",
       "  <thead>\n",
       "    <tr style=\"text-align: right;\">\n",
       "      <th></th>\n",
       "      <th>всего_сотрудников</th>\n",
       "      <th>уволилось_сотрудников</th>\n",
       "      <th>%_соотношение</th>\n",
       "    </tr>\n",
       "  </thead>\n",
       "  <tbody>\n",
       "    <tr>\n",
       "      <th>low</th>\n",
       "      <td>1208</td>\n",
       "      <td>519</td>\n",
       "      <td>42.96</td>\n",
       "    </tr>\n",
       "    <tr>\n",
       "      <th>medium</th>\n",
       "      <td>2118</td>\n",
       "      <td>488</td>\n",
       "      <td>23.04</td>\n",
       "    </tr>\n",
       "    <tr>\n",
       "      <th>high</th>\n",
       "      <td>674</td>\n",
       "      <td>121</td>\n",
       "      <td>17.95</td>\n",
       "    </tr>\n",
       "  </tbody>\n",
       "</table>\n",
       "</div>"
      ],
      "text/plain": [
       "        всего_сотрудников  уволилось_сотрудников  %_соотношение\n",
       "low                  1208                    519          42.96\n",
       "medium               2118                    488          23.04\n",
       "high                  674                    121          17.95"
      ]
     },
     "metadata": {},
     "output_type": "display_data"
    }
   ],
   "source": [
    "df_percent(df_train_quit, \"workload\")"
   ]
  },
  {
   "cell_type": "code",
   "execution_count": 53,
   "id": "665f7b7e",
   "metadata": {
    "scrolled": true
   },
   "outputs": [
    {
     "data": {
      "image/png": "[encoded data removed]",
      "text/plain": [
       "<Figure size 1200x500 with 2 Axes>"
      ]
     },
     "metadata": {
      "needs_background": "light"
     },
     "output_type": "display_data"
    }
   ],
   "source": [
    "countplot(df_train_quit, \"workload\", \"quit\", 2)"
   ]
  },
  {
   "cell_type": "markdown",
   "id": "6542a474",
   "metadata": {},
   "source": [
    "Загруженность у уволившихся сотрудников скорее средняя или низкая, чем высокая. При этом сотрудники с низкой загруженностью увольняются чаще.\n",
    "\n",
    "Самый большой процент увольнений у сотрудников с низкой загрузкой - 43%\n",
    "\n",
    "Сотрудники с высокой загрузкой увольняются реже всего - только 18%."
   ]
  },
  {
   "cell_type": "markdown",
   "id": "4d05fc8a",
   "metadata": {},
   "source": [
    "***Промежуточные выводы:***\n",
    "\n",
    "Уволившиеся сотрудники:\n",
    " - в основном специалисты проработавшие в компании 1-3 года, пик приходится на 1 год работы, увольняется около 60% сотрудников;\n",
    " - занимаюшие джуниор и мидл должности(увольняются 30% мидлов и 28% джунов);\n",
    " - с зарплатой ниже средней по компании на 36.65 %;\n",
    " - и с загруженностью среднего или низкого уровня(из сотрудников с низкой заггруженностью уволилось 43%, со средней 23%)."
   ]
  },
  {
   "cell_type": "markdown",
   "id": "9c5ea14c",
   "metadata": {},
   "source": [
    "### Исследование связи уровень удовлетворения/увольнение"
   ]
  },
  {
   "cell_type": "markdown",
   "id": "b1646bbd",
   "metadata": {},
   "source": [
    "Добавим к входным данным спрогнозированный нами уровень удовлетворенности сотрудников компании и посмотрим как этот признак повлияет на вероятность увольнения."
   ]
  },
  {
   "cell_type": "code",
   "execution_count": 54,
   "id": "a90dfb36",
   "metadata": {},
   "outputs": [
    {
     "data": {
      "text/html": [
       "<div>\n",
       "<style scoped>\n",
       "    .dataframe tbody tr th:only-of-type {\n",
       "        vertical-align: middle;\n",
       "    }\n",
       "\n",
       "    .dataframe tbody tr th {\n",
       "        vertical-align: top;\n",
       "    }\n",
       "\n",
       "    .dataframe thead th {\n",
       "        text-align: right;\n",
       "    }\n",
       "</style>\n",
       "<table border=\"1\" class=\"dataframe\">\n",
       "  <thead>\n",
       "    <tr style=\"text-align: right;\">\n",
       "      <th></th>\n",
       "      <th>id</th>\n",
       "      <th>dept</th>\n",
       "      <th>level</th>\n",
       "      <th>workload</th>\n",
       "      <th>employment_years</th>\n",
       "      <th>last_year_promo</th>\n",
       "      <th>last_year_violations</th>\n",
       "      <th>supervisor_evaluation</th>\n",
       "      <th>salary</th>\n",
       "      <th>quit</th>\n",
       "      <th>job_satisfaction</th>\n",
       "    </tr>\n",
       "  </thead>\n",
       "  <tbody>\n",
       "    <tr>\n",
       "      <th>0</th>\n",
       "      <td>723290</td>\n",
       "      <td>sales</td>\n",
       "      <td>junior</td>\n",
       "      <td>high</td>\n",
       "      <td>2</td>\n",
       "      <td>no</td>\n",
       "      <td>no</td>\n",
       "      <td>4</td>\n",
       "      <td>54000</td>\n",
       "      <td>no</td>\n",
       "      <td>0.808333</td>\n",
       "    </tr>\n",
       "    <tr>\n",
       "      <th>1</th>\n",
       "      <td>814010</td>\n",
       "      <td>sales</td>\n",
       "      <td>junior</td>\n",
       "      <td>medium</td>\n",
       "      <td>2</td>\n",
       "      <td>no</td>\n",
       "      <td>no</td>\n",
       "      <td>4</td>\n",
       "      <td>27600</td>\n",
       "      <td>no</td>\n",
       "      <td>0.826111</td>\n",
       "    </tr>\n",
       "    <tr>\n",
       "      <th>2</th>\n",
       "      <td>155091</td>\n",
       "      <td>purchasing</td>\n",
       "      <td>junior</td>\n",
       "      <td>medium</td>\n",
       "      <td>5</td>\n",
       "      <td>no</td>\n",
       "      <td>no</td>\n",
       "      <td>1</td>\n",
       "      <td>37200</td>\n",
       "      <td>no</td>\n",
       "      <td>0.340000</td>\n",
       "    </tr>\n",
       "    <tr>\n",
       "      <th>3</th>\n",
       "      <td>257132</td>\n",
       "      <td>sales</td>\n",
       "      <td>junior</td>\n",
       "      <td>medium</td>\n",
       "      <td>2</td>\n",
       "      <td>no</td>\n",
       "      <td>yes</td>\n",
       "      <td>3</td>\n",
       "      <td>24000</td>\n",
       "      <td>yes</td>\n",
       "      <td>0.340000</td>\n",
       "    </tr>\n",
       "    <tr>\n",
       "      <th>4</th>\n",
       "      <td>910140</td>\n",
       "      <td>marketing</td>\n",
       "      <td>junior</td>\n",
       "      <td>medium</td>\n",
       "      <td>2</td>\n",
       "      <td>no</td>\n",
       "      <td>no</td>\n",
       "      <td>5</td>\n",
       "      <td>25200</td>\n",
       "      <td>no</td>\n",
       "      <td>0.690000</td>\n",
       "    </tr>\n",
       "  </tbody>\n",
       "</table>\n",
       "</div>"
      ],
      "text/plain": [
       "       id        dept   level workload  employment_years last_year_promo  \\\n",
       "0  723290       sales  junior     high                 2              no   \n",
       "1  814010       sales  junior   medium                 2              no   \n",
       "2  155091  purchasing  junior   medium                 5              no   \n",
       "3  257132       sales  junior   medium                 2              no   \n",
       "4  910140   marketing  junior   medium                 2              no   \n",
       "\n",
       "  last_year_violations  supervisor_evaluation  salary quit  job_satisfaction  \n",
       "0                   no                      4   54000   no          0.808333  \n",
       "1                   no                      4   27600   no          0.826111  \n",
       "2                   no                      1   37200   no          0.340000  \n",
       "3                  yes                      3   24000  yes          0.340000  \n",
       "4                   no                      5   25200   no          0.690000  "
      ]
     },
     "execution_count": 54,
     "metadata": {},
     "output_type": "execute_result"
    }
   ],
   "source": [
    "df_train_quit['job_satisfaction'] =best_model.predict(df_train_quit.drop(columns=['id', 'quit'], axis=True))\n",
    "df_train_quit.head()"
   ]
  },
  {
   "cell_type": "code",
   "execution_count": 55,
   "id": "0cebd8c0",
   "metadata": {
    "scrolled": true
   },
   "outputs": [
    {
     "data": {
      "text/html": [
       "<div>\n",
       "<style scoped>\n",
       "    .dataframe tbody tr th:only-of-type {\n",
       "        vertical-align: middle;\n",
       "    }\n",
       "\n",
       "    .dataframe tbody tr th {\n",
       "        vertical-align: top;\n",
       "    }\n",
       "\n",
       "    .dataframe thead th {\n",
       "        text-align: right;\n",
       "    }\n",
       "</style>\n",
       "<table border=\"1\" class=\"dataframe\">\n",
       "  <thead>\n",
       "    <tr style=\"text-align: right;\">\n",
       "      <th></th>\n",
       "      <th>job_satisfaction</th>\n",
       "    </tr>\n",
       "    <tr>\n",
       "      <th>quit</th>\n",
       "      <th></th>\n",
       "    </tr>\n",
       "  </thead>\n",
       "  <tbody>\n",
       "    <tr>\n",
       "      <th>no</th>\n",
       "      <td>0.582398</td>\n",
       "    </tr>\n",
       "    <tr>\n",
       "      <th>yes</th>\n",
       "      <td>0.359021</td>\n",
       "    </tr>\n",
       "  </tbody>\n",
       "</table>\n",
       "</div>"
      ],
      "text/plain": [
       "      job_satisfaction\n",
       "quit                  \n",
       "no            0.582398\n",
       "yes           0.359021"
      ]
     },
     "metadata": {},
     "output_type": "display_data"
    },
    {
     "name": "stdout",
     "output_type": "stream",
     "text": [
      "Разница в удовлетвлренности работой 38.35 %\n"
     ]
    },
    {
     "data": {
      "image/png": "[encoded data removed]",
      "text/plain": [
       "<Figure size 576x576 with 2 Axes>"
      ]
     },
     "metadata": {
      "needs_background": "light"
     },
     "output_type": "display_data"
    }
   ],
   "source": [
    "#print(df_train_quit.pivot_table(values='job_satisfaction', index='quit', aggfunc='mean'))\n",
    "df_piv=df_train_quit.pivot_table(values='job_satisfaction', index='quit', aggfunc='mean')\n",
    "display(df_piv)\n",
    "print('Разница в удовлетвлренности работой',round(((1-df_piv.min().values/df_piv.max().values)*100)[0],2), '%')\n",
    "fig, axes = plt.subplots(nrows=2, ncols=1,figsize=(8,8))\n",
    "df_train_quit.pivot_table(values='job_satisfaction', index='quit', aggfunc='mean').plot(kind='barh', subplots=True, color='green', ax=axes[0])\n",
    "sns.kdeplot(df_train_quit[df_train_quit['quit']=='no']['job_satisfaction'], color='g', fill=True, ax=axes[1])\n",
    "sns.kdeplot(df_train_quit[df_train_quit['quit']=='yes']['job_satisfaction'], color='yellow', fill=True, ax=axes[1]);"
   ]
  },
  {
   "cell_type": "markdown",
   "id": "24c9e50c",
   "metadata": {},
   "source": [
    "Уровень удовлетворённости работой уволившегося сотрудника на 38,35% ниже, чем оставшегося в копании. Плотность распределения чвно смещена влево в сторону ухудшения, а средний показатель у уволившихся - 0.35."
   ]
  },
  {
   "cell_type": "markdown",
   "id": "cab8995a",
   "metadata": {},
   "source": [
    "### Подготовка пайплайна"
   ]
  },
  {
   "cell_type": "markdown",
   "id": "56071540",
   "metadata": {},
   "source": [
    "#### Предобработка входных данных"
   ]
  },
  {
   "cell_type": "code",
   "execution_count": 56,
   "id": "b9b54d5e",
   "metadata": {},
   "outputs": [],
   "source": [
    "#создаем экземпляр класса LabelEncoder для кодирования целевого признака\n",
    "lb_encoder = LabelEncoder()"
   ]
  },
  {
   "cell_type": "code",
   "execution_count": 57,
   "id": "c69acd96",
   "metadata": {},
   "outputs": [
    {
     "data": {
      "text/html": [
       "<div>\n",
       "<style scoped>\n",
       "    .dataframe tbody tr th:only-of-type {\n",
       "        vertical-align: middle;\n",
       "    }\n",
       "\n",
       "    .dataframe tbody tr th {\n",
       "        vertical-align: top;\n",
       "    }\n",
       "\n",
       "    .dataframe thead th {\n",
       "        text-align: right;\n",
       "    }\n",
       "</style>\n",
       "<table border=\"1\" class=\"dataframe\">\n",
       "  <thead>\n",
       "    <tr style=\"text-align: right;\">\n",
       "      <th></th>\n",
       "      <th>id</th>\n",
       "      <th>dept</th>\n",
       "      <th>level</th>\n",
       "      <th>workload</th>\n",
       "      <th>employment_years</th>\n",
       "      <th>last_year_promo</th>\n",
       "      <th>last_year_violations</th>\n",
       "      <th>supervisor_evaluation</th>\n",
       "      <th>salary</th>\n",
       "      <th>quit</th>\n",
       "      <th>job_satisfaction</th>\n",
       "    </tr>\n",
       "  </thead>\n",
       "  <tbody>\n",
       "    <tr>\n",
       "      <th>0</th>\n",
       "      <td>485046.0</td>\n",
       "      <td>marketing</td>\n",
       "      <td>junior</td>\n",
       "      <td>medium</td>\n",
       "      <td>2.0</td>\n",
       "      <td>no</td>\n",
       "      <td>no</td>\n",
       "      <td>5.0</td>\n",
       "      <td>28800.0</td>\n",
       "      <td>no</td>\n",
       "      <td>0.883333</td>\n",
       "    </tr>\n",
       "    <tr>\n",
       "      <th>1</th>\n",
       "      <td>686555.0</td>\n",
       "      <td>hr</td>\n",
       "      <td>junior</td>\n",
       "      <td>medium</td>\n",
       "      <td>1.0</td>\n",
       "      <td>no</td>\n",
       "      <td>no</td>\n",
       "      <td>4.0</td>\n",
       "      <td>30000.0</td>\n",
       "      <td>no</td>\n",
       "      <td>0.676667</td>\n",
       "    </tr>\n",
       "    <tr>\n",
       "      <th>2</th>\n",
       "      <td>467458.0</td>\n",
       "      <td>sales</td>\n",
       "      <td>middle</td>\n",
       "      <td>low</td>\n",
       "      <td>5.0</td>\n",
       "      <td>no</td>\n",
       "      <td>no</td>\n",
       "      <td>4.0</td>\n",
       "      <td>19200.0</td>\n",
       "      <td>no</td>\n",
       "      <td>0.654167</td>\n",
       "    </tr>\n",
       "    <tr>\n",
       "      <th>3</th>\n",
       "      <td>418655.0</td>\n",
       "      <td>sales</td>\n",
       "      <td>middle</td>\n",
       "      <td>low</td>\n",
       "      <td>6.0</td>\n",
       "      <td>no</td>\n",
       "      <td>no</td>\n",
       "      <td>4.0</td>\n",
       "      <td>19200.0</td>\n",
       "      <td>no</td>\n",
       "      <td>0.666000</td>\n",
       "    </tr>\n",
       "    <tr>\n",
       "      <th>4</th>\n",
       "      <td>789145.0</td>\n",
       "      <td>hr</td>\n",
       "      <td>middle</td>\n",
       "      <td>medium</td>\n",
       "      <td>5.0</td>\n",
       "      <td>no</td>\n",
       "      <td>no</td>\n",
       "      <td>5.0</td>\n",
       "      <td>40800.0</td>\n",
       "      <td>no</td>\n",
       "      <td>0.825556</td>\n",
       "    </tr>\n",
       "  </tbody>\n",
       "</table>\n",
       "</div>"
      ],
      "text/plain": [
       "         id       dept   level workload  employment_years last_year_promo  \\\n",
       "0  485046.0  marketing  junior   medium               2.0              no   \n",
       "1  686555.0         hr  junior   medium               1.0              no   \n",
       "2  467458.0      sales  middle      low               5.0              no   \n",
       "3  418655.0      sales  middle      low               6.0              no   \n",
       "4  789145.0         hr  middle   medium               5.0              no   \n",
       "\n",
       "  last_year_violations  supervisor_evaluation   salary quit  job_satisfaction  \n",
       "0                   no                    5.0  28800.0   no          0.883333  \n",
       "1                   no                    4.0  30000.0   no          0.676667  \n",
       "2                   no                    4.0  19200.0   no          0.654167  \n",
       "3                   no                    4.0  19200.0   no          0.666000  \n",
       "4                   no                    5.0  40800.0   no          0.825556  "
      ]
     },
     "execution_count": 57,
     "metadata": {},
     "output_type": "execute_result"
    }
   ],
   "source": [
    "#готовим тестовую выборку\n",
    "df_test_q = X_test_quit.merge(y_test_quit, on='id')\n",
    "df_test_q['job_satisfaction'] =best_model.predict(df_test_q.drop(columns=['id'], axis=True))\n",
    "df_test_q.head()"
   ]
  },
  {
   "cell_type": "code",
   "execution_count": 58,
   "id": "0eaa0960",
   "metadata": {},
   "outputs": [],
   "source": [
    "X_test_q=df_test_q.drop(columns=['quit', 'id'], axis=True)\n",
    "y_test_q=df_test_q['quit']\n"
   ]
  },
  {
   "cell_type": "code",
   "execution_count": 59,
   "id": "41bebc82",
   "metadata": {
    "scrolled": false
   },
   "outputs": [
    {
     "data": {
      "text/html": [
       "<div>\n",
       "<style scoped>\n",
       "    .dataframe tbody tr th:only-of-type {\n",
       "        vertical-align: middle;\n",
       "    }\n",
       "\n",
       "    .dataframe tbody tr th {\n",
       "        vertical-align: top;\n",
       "    }\n",
       "\n",
       "    .dataframe thead th {\n",
       "        text-align: right;\n",
       "    }\n",
       "</style>\n",
       "<table border=\"1\" class=\"dataframe\">\n",
       "  <thead>\n",
       "    <tr style=\"text-align: right;\">\n",
       "      <th></th>\n",
       "      <th>dept</th>\n",
       "      <th>level</th>\n",
       "      <th>workload</th>\n",
       "      <th>employment_years</th>\n",
       "      <th>last_year_promo</th>\n",
       "      <th>last_year_violations</th>\n",
       "      <th>supervisor_evaluation</th>\n",
       "      <th>salary</th>\n",
       "      <th>job_satisfaction</th>\n",
       "    </tr>\n",
       "  </thead>\n",
       "  <tbody>\n",
       "    <tr>\n",
       "      <th>0</th>\n",
       "      <td>sales</td>\n",
       "      <td>junior</td>\n",
       "      <td>high</td>\n",
       "      <td>2</td>\n",
       "      <td>no</td>\n",
       "      <td>no</td>\n",
       "      <td>4</td>\n",
       "      <td>54000</td>\n",
       "      <td>0.808333</td>\n",
       "    </tr>\n",
       "    <tr>\n",
       "      <th>1</th>\n",
       "      <td>sales</td>\n",
       "      <td>junior</td>\n",
       "      <td>medium</td>\n",
       "      <td>2</td>\n",
       "      <td>no</td>\n",
       "      <td>no</td>\n",
       "      <td>4</td>\n",
       "      <td>27600</td>\n",
       "      <td>0.826111</td>\n",
       "    </tr>\n",
       "    <tr>\n",
       "      <th>2</th>\n",
       "      <td>purchasing</td>\n",
       "      <td>junior</td>\n",
       "      <td>medium</td>\n",
       "      <td>5</td>\n",
       "      <td>no</td>\n",
       "      <td>no</td>\n",
       "      <td>1</td>\n",
       "      <td>37200</td>\n",
       "      <td>0.340000</td>\n",
       "    </tr>\n",
       "    <tr>\n",
       "      <th>3</th>\n",
       "      <td>sales</td>\n",
       "      <td>junior</td>\n",
       "      <td>medium</td>\n",
       "      <td>2</td>\n",
       "      <td>no</td>\n",
       "      <td>yes</td>\n",
       "      <td>3</td>\n",
       "      <td>24000</td>\n",
       "      <td>0.340000</td>\n",
       "    </tr>\n",
       "    <tr>\n",
       "      <th>4</th>\n",
       "      <td>marketing</td>\n",
       "      <td>junior</td>\n",
       "      <td>medium</td>\n",
       "      <td>2</td>\n",
       "      <td>no</td>\n",
       "      <td>no</td>\n",
       "      <td>5</td>\n",
       "      <td>25200</td>\n",
       "      <td>0.690000</td>\n",
       "    </tr>\n",
       "  </tbody>\n",
       "</table>\n",
       "</div>"
      ],
      "text/plain": [
       "         dept   level workload  employment_years last_year_promo  \\\n",
       "0       sales  junior     high                 2              no   \n",
       "1       sales  junior   medium                 2              no   \n",
       "2  purchasing  junior   medium                 5              no   \n",
       "3       sales  junior   medium                 2              no   \n",
       "4   marketing  junior   medium                 2              no   \n",
       "\n",
       "  last_year_violations  supervisor_evaluation  salary  job_satisfaction  \n",
       "0                   no                      4   54000          0.808333  \n",
       "1                   no                      4   27600          0.826111  \n",
       "2                   no                      1   37200          0.340000  \n",
       "3                  yes                      3   24000          0.340000  \n",
       "4                   no                      5   25200          0.690000  "
      ]
     },
     "execution_count": 59,
     "metadata": {},
     "output_type": "execute_result"
    }
   ],
   "source": [
    "# выделяем в отдельные переменные целевой признак и входные признаки\n",
    "X_train_q = df_train_quit.drop(columns=['quit', 'id'], axis=True)\n",
    "y_train_q = df_train_quit['quit']\n",
    "X_train_q.head()"
   ]
  },
  {
   "cell_type": "code",
   "execution_count": 60,
   "id": "33f6a247",
   "metadata": {},
   "outputs": [
    {
     "data": {
      "text/plain": [
       "array([0, 0, 0, ..., 1, 0, 1])"
      ]
     },
     "execution_count": 60,
     "metadata": {},
     "output_type": "execute_result"
    }
   ],
   "source": [
    "# обучаем энкодер и кодируем целевой признак тренировочной выборки\n",
    "lb_encoder.fit(y_train_q)\n",
    "y_train_q=lb_encoder.transform(y_train_q)\n",
    "y_train_q"
   ]
  },
  {
   "cell_type": "code",
   "execution_count": 61,
   "id": "3a7c385d",
   "metadata": {},
   "outputs": [
    {
     "data": {
      "text/plain": [
       "array([0, 0, 0, ..., 1, 0, 0])"
      ]
     },
     "execution_count": 61,
     "metadata": {},
     "output_type": "execute_result"
    }
   ],
   "source": [
    "#кодируем целевой признак тестовой выборки\n",
    "y_test_q=lb_encoder.transform(y_test_q)\n",
    "y_test_q"
   ]
  },
  {
   "cell_type": "markdown",
   "id": "5272de2a",
   "metadata": {},
   "source": [
    "Возьмем готовый пайплайн препроцессора из первой части исследования, добавив небольшие измениния."
   ]
  },
  {
   "cell_type": "code",
   "execution_count": 62,
   "id": "291231a9",
   "metadata": {},
   "outputs": [],
   "source": [
    "# переопределим только num_columns\n",
    "num_columns = ['salary',\n",
    "               'employment_years',\n",
    "               'supervisor_evaluation',\n",
    "               'job_satisfaction'\n",
    "               ]"
   ]
  },
  {
   "cell_type": "markdown",
   "id": "7844c521",
   "metadata": {},
   "source": [
    "#### Создание итового пайплайна"
   ]
  },
  {
   "cell_type": "markdown",
   "id": "477a1356",
   "metadata": {},
   "source": [
    "Создадим пайплайн, который выберет лучшую комбинацию модели и гиперпараметров. Используем модели:\n",
    "\n",
    "- DecisionTreeClassifier() с гиперпараметрами max_depth от 2 до 15 включительно, max_features от 2 до 15 включительно;\n",
    "\n",
    "- KNeighborsClassifier() с гиперпараметром n_neighbors от 2 до 15 включительно;\n",
    "\n",
    "- LogisticRegression(solver='liblinear', penalty='l1') с гиперпараметром регуляризации С от 1 до 6 включительно;\n",
    "\n",
    "- SVC(kernel='poly') с гиперпараметром degree от 1 до 11 включительно.\n",
    "\n",
    "Рассчитаем метрику ROC-AUC на тренировочной и тестовой выборках для лучшей модели, критерий успеха: ROC-AUC≥0.91 на тестовой выборке."
   ]
  },
  {
   "cell_type": "code",
   "execution_count": 63,
   "id": "8874d208",
   "metadata": {},
   "outputs": [],
   "source": [
    "# создаём итоговый пайплайн: подготовка данных и модель\n",
    "pipe_final_q = Pipeline([\n",
    "    ('preprocessor', data_preprocessor),\n",
    "    ('models', DecisionTreeClassifier(random_state=RANDOM_STATE))\n",
    "])\n",
    "\n",
    "param_grid_q = [\n",
    "    # словарь для модели DecisionTreeClassifier()\n",
    "    {\n",
    "        'models': [DecisionTreeClassifier(random_state=RANDOM_STATE)],\n",
    "        'models__max_depth': [None] + [i for i in range(2, 15)],\n",
    "        'models__max_features': range(2, 15), # максимум признаков 9  - пчм прокатило 15??? неверный момент ухудшивший поиск\n",
    "        # как расчитывается кол-во признаков в зависимости от ohe кодировки????\n",
    "        'preprocessor__num': [StandardScaler(), MinMaxScaler(), RobustScaler()]  \n",
    "    },\n",
    "    \n",
    "    # словарь для модели KNeighborsClassifier() \n",
    "    {\n",
    "        'models': [KNeighborsClassifier()],\n",
    "        'models__n_neighbors': range(2, 15),\n",
    "        'preprocessor__num': [StandardScaler(), MinMaxScaler(), RobustScaler()]   \n",
    "    },\n",
    "\n",
    "    # словарь для модели LogisticRegression()\n",
    "    {\n",
    "        'models': [LogisticRegression(\n",
    "            random_state=RANDOM_STATE, \n",
    "            solver='liblinear', \n",
    "            penalty='l1'\n",
    "        )],\n",
    "        'models__C': range(1, 6),\n",
    "        #'models__C': np.logspace(0, 10, 20), - не прокатило, но это более верный подходб поверить по сетке\n",
    "        'preprocessor__num': [StandardScaler(), MinMaxScaler(), RobustScaler()]  \n",
    "    },\n",
    "    \n",
    "    # словарь для модели SVC()\n",
    "    {\n",
    "        'models': [SVC(random_state=RANDOM_STATE, probability= True)],\n",
    "        'models__kernel': ['rbf', 'linear', 'sigmoid'], #- в сданой работе так, но не лучший метод\n",
    "        'models__degree': range(1,11), # работает только для poly как степень полинома, зря указано в таком варианте\n",
    "        'preprocessor__num': [StandardScaler(), MinMaxScaler(), RobustScaler()]  \n",
    "\n",
    "    },\n",
    "    \n",
    "]"
   ]
  },
  {
   "cell_type": "code",
   "execution_count": 64,
   "id": "85fa73c7",
   "metadata": {},
   "outputs": [
    {
     "name": "stdout",
     "output_type": "stream",
     "text": [
      "Лучшая модель и её параметры:\n",
      "\n",
      " Pipeline(steps=[('preprocessor',\n",
      "                 ColumnTransformer(remainder='passthrough',\n",
      "                                   transformers=[('ohe',\n",
      "                                                  Pipeline(steps=[('simpleImputer_ohe',\n",
      "                                                                   SimpleImputer(strategy='most_frequent')),\n",
      "                                                                  ('ohe',\n",
      "                                                                   OneHotEncoder(drop='first',\n",
      "                                                                                 handle_unknown='ignore',\n",
      "                                                                                 sparse_output=False))]),\n",
      "                                                  ['dept', 'last_year_promo',\n",
      "                                                   'last_year_violations']),\n",
      "                                                 ('ord',\n",
      "                                                  Pipeline(steps=[('simpleImputer_befor...\n",
      "                                                                                               'middle',\n",
      "                                                                                               'senior'],\n",
      "                                                                                              ['low',\n",
      "                                                                                               'medium',\n",
      "                                                                                               'high']],\n",
      "                                                                                  handle_unknown='use_encoded_value',\n",
      "                                                                                  unknown_value=nan)),\n",
      "                                                                  ('simpleImputer_after_ord',\n",
      "                                                                   SimpleImputer(strategy='most_frequent'))]),\n",
      "                                                  ['level', 'workload']),\n",
      "                                                 ('num', RobustScaler(),\n",
      "                                                  ['salary', 'employment_years',\n",
      "                                                   'supervisor_evaluation'])])),\n",
      "                ('models',\n",
      "                 DecisionTreeClassifier(max_depth=7, max_features=9,\n",
      "                                        random_state=42))])\n",
      "\n",
      "\n",
      "Параметры лучшей модели:\n",
      "{'preprocessor__num': RobustScaler(), 'models__max_features': 9, 'models__max_depth': 7, 'models': DecisionTreeClassifier(random_state=42)}\n",
      "\n",
      "\n",
      "Метрика лучшей модели на тренировочной выборке: 0.9144365091073325\n",
      "\n",
      "\n",
      "Площадь ROC-кривой на тестовой выборке: 0.9147032058320227\n"
     ]
    }
   ],
   "source": [
    "random_search_q = RandomizedSearchCV(\n",
    "    pipe_final_q, \n",
    "    param_grid_q, \n",
    "    cv=5,\n",
    "    scoring='roc_auc',\n",
    "    random_state=RANDOM_STATE,\n",
    "    n_jobs=-1\n",
    ")\n",
    "\n",
    "\n",
    "random_search_q.fit(X_train_q, y_train_q)\n",
    "probabilities = random_search_q.predict_proba(X_test_q)\n",
    "probabilities_one = probabilities[:, 1]\n",
    "\n",
    "\n",
    "print('Лучшая модель и её параметры:\\n\\n', random_search_q.best_estimator_)\n",
    "print()\n",
    "print()\n",
    "print(f'Параметры лучшей модели:\\n{random_search_q.best_params_}')\n",
    "print()\n",
    "print()\n",
    "print ('Метрика лучшей модели на тренировочной выборке:', random_search_q.best_score_)\n",
    "print()\n",
    "print()\n",
    "print('Площадь ROC-кривой на тестовой выборке:', roc_auc_score(y_test_q, probabilities_one))"
   ]
  },
  {
   "cell_type": "code",
   "execution_count": 65,
   "id": "6d170773",
   "metadata": {},
   "outputs": [
    {
     "data": {
      "text/html": [
       "<div>\n",
       "<style scoped>\n",
       "    .dataframe tbody tr th:only-of-type {\n",
       "        vertical-align: middle;\n",
       "    }\n",
       "\n",
       "    .dataframe tbody tr th {\n",
       "        vertical-align: top;\n",
       "    }\n",
       "\n",
       "    .dataframe thead th {\n",
       "        text-align: right;\n",
       "    }\n",
       "</style>\n",
       "<table border=\"1\" class=\"dataframe\">\n",
       "  <thead>\n",
       "    <tr style=\"text-align: right;\">\n",
       "      <th></th>\n",
       "      <th>std_test_score</th>\n",
       "      <th>rank_test_score</th>\n",
       "      <th>param_models</th>\n",
       "      <th>mean_test_score</th>\n",
       "      <th>params</th>\n",
       "    </tr>\n",
       "  </thead>\n",
       "  <tbody>\n",
       "    <tr>\n",
       "      <th>2</th>\n",
       "      <td>0.009740</td>\n",
       "      <td>1</td>\n",
       "      <td>DecisionTreeClassifier(random_state=42)</td>\n",
       "      <td>0.914437</td>\n",
       "      <td>{'preprocessor__num': RobustScaler(), 'models__max_features': 9, 'models__max_depth': 7, 'models': DecisionTreeClassifier(random_state=42)}</td>\n",
       "    </tr>\n",
       "    <tr>\n",
       "      <th>9</th>\n",
       "      <td>0.009738</td>\n",
       "      <td>2</td>\n",
       "      <td>DecisionTreeClassifier(random_state=42)</td>\n",
       "      <td>0.914262</td>\n",
       "      <td>{'preprocessor__num': MinMaxScaler(), 'models__max_features': 9, 'models__max_depth': 7, 'models': DecisionTreeClassifier(random_state=42)}</td>\n",
       "    </tr>\n",
       "    <tr>\n",
       "      <th>5</th>\n",
       "      <td>0.014890</td>\n",
       "      <td>3</td>\n",
       "      <td>DecisionTreeClassifier(random_state=42)</td>\n",
       "      <td>0.914103</td>\n",
       "      <td>{'preprocessor__num': MinMaxScaler(), 'models__max_features': 7, 'models__max_depth': 6, 'models': DecisionTreeClassifier(random_state=42)}</td>\n",
       "    </tr>\n",
       "    <tr>\n",
       "      <th>7</th>\n",
       "      <td>0.004637</td>\n",
       "      <td>4</td>\n",
       "      <td>DecisionTreeClassifier(random_state=42)</td>\n",
       "      <td>0.904627</td>\n",
       "      <td>{'preprocessor__num': RobustScaler(), 'models__max_features': 8, 'models__max_depth': 5, 'models': DecisionTreeClassifier(random_state=42)}</td>\n",
       "    </tr>\n",
       "    <tr>\n",
       "      <th>0</th>\n",
       "      <td>0.014281</td>\n",
       "      <td>5</td>\n",
       "      <td>DecisionTreeClassifier(random_state=42)</td>\n",
       "      <td>0.899012</td>\n",
       "      <td>{'preprocessor__num': MinMaxScaler(), 'models__max_features': 6, 'models__max_depth': 8, 'models': DecisionTreeClassifier(random_state=42)}</td>\n",
       "    </tr>\n",
       "  </tbody>\n",
       "</table>\n",
       "</div>"
      ],
      "text/plain": [
       "   std_test_score  rank_test_score                             param_models  \\\n",
       "2        0.009740                1  DecisionTreeClassifier(random_state=42)   \n",
       "9        0.009738                2  DecisionTreeClassifier(random_state=42)   \n",
       "5        0.014890                3  DecisionTreeClassifier(random_state=42)   \n",
       "7        0.004637                4  DecisionTreeClassifier(random_state=42)   \n",
       "0        0.014281                5  DecisionTreeClassifier(random_state=42)   \n",
       "\n",
       "   mean_test_score  \\\n",
       "2         0.914437   \n",
       "9         0.914262   \n",
       "5         0.914103   \n",
       "7         0.904627   \n",
       "0         0.899012   \n",
       "\n",
       "                                                                                                                                        params  \n",
       "2  {'preprocessor__num': RobustScaler(), 'models__max_features': 9, 'models__max_depth': 7, 'models': DecisionTreeClassifier(random_state=42)}  \n",
       "9  {'preprocessor__num': MinMaxScaler(), 'models__max_features': 9, 'models__max_depth': 7, 'models': DecisionTreeClassifier(random_state=42)}  \n",
       "5  {'preprocessor__num': MinMaxScaler(), 'models__max_features': 7, 'models__max_depth': 6, 'models': DecisionTreeClassifier(random_state=42)}  \n",
       "7  {'preprocessor__num': RobustScaler(), 'models__max_features': 8, 'models__max_depth': 5, 'models': DecisionTreeClassifier(random_state=42)}  \n",
       "0  {'preprocessor__num': MinMaxScaler(), 'models__max_features': 6, 'models__max_depth': 8, 'models': DecisionTreeClassifier(random_state=42)}  "
      ]
     },
     "execution_count": 65,
     "metadata": {},
     "output_type": "execute_result"
    }
   ],
   "source": [
    "pd.DataFrame(random_search_q.cv_results_)[\n",
    "    ['std_test_score', 'rank_test_score', 'param_models', 'mean_test_score','params']\n",
    "].sort_values('rank_test_score')[:5]"
   ]
  },
  {
   "cell_type": "markdown",
   "id": "25096310",
   "metadata": {},
   "source": [
    "Лучшая модель - **DecisionTreeClassifier(random_state=42)** с гиперпараметрами **('models__max_features': 9, 'models__max_depth': 7)**\n",
    "\n",
    "Метрика лучшей модели на тренировочной выборке: **0.9144**\n",
    "\n",
    "Площадь ROC-кривой на тестовой выборке: **0.9147**"
   ]
  },
  {
   "cell_type": "markdown",
   "id": "a831d005",
   "metadata": {},
   "source": [
    "### Выводы по задаче 2"
   ]
  },
  {
   "cell_type": "markdown",
   "id": "809ddf69",
   "metadata": {},
   "source": [
    "На данном шаге были изучены и обработаны данные анкетировани сотрудников компании для построения модели, которая сможет предсказать уровень удовлетворённости сотрудника на основе данных заказчика. Т.к. многие признаки связаны между собой нелинейно лучшей себя показала модель DecisionTreeClassifier(random_state=42) (с гиперпараметрами 'models__max_features': 9, 'models__max_depth': 7), метрика на тестовых данных соответствует критериям успеха. Цель исследования можно считать достигнутой. "
   ]
  },
  {
   "cell_type": "markdown",
   "id": "c6a1b3e6",
   "metadata": {},
   "source": [
    "## Итоговые выводы"
   ]
  },
  {
   "cell_type": "markdown",
   "id": "c9ad5bce",
   "metadata": {},
   "source": [
    "\n",
    " - загружены имеющиеся данные из 5 файлов;\n",
    " - проведен анализ данных :\n",
    "    - явные дубликаты не обнаружены;\n",
    "    - исправлены некорректные пропуски данных;\n",
    "    - рассмотрели распределение количественных и качественых признаков в каждом датафрейме;\n",
    "    - выбросов не обнаружено;\n",
    "    - мульколлинеарность отсутствует;\n",
    " - пропусков в данных не обнаружено, типизация данных во всех датафреймах корректна;\n",
    "  \n",
    " - построили использовали пайплайн для задачи 1:\n",
    "    - обьединили датафреймы;\n",
    "    - построили пайплайн с моделями KNeighborsRegressor(), DecisionTreeRegressor(), LinearRegression() используя различные гиперпаметры для каждой;\n",
    "    - по итогу выделили самую успешную модель:\n",
    "        - DecisionTreeRegressor (с гиперпараметрами 'models__min_samples_split': 14, 'models__max_features': 13, 'models__max_depth': None, предобработка данных при помощи MinMaxScaler());\n",
    "        - метрика SMAPE у лучшей модели на тестовых данных составляет -  13.64, что соответствует критерию успеха < 15.\n",
    "        \n",
    " - проанализировали важность признаков для задачи 2:\n",
    "   - составили примерный портрет уволившегося сотрудника:\n",
    "        - в основном специалисты проработавшие в компании 1-3 года, пик приходится на 1 год работы, увольняется около 60% сотрудников;\n",
    "        - занимаюшие джуниор и мидл должности(увольняются 30% мидлов и 28% джунов);\n",
    "        - с зарплатой ниже средней по компании на 36.65 %;\n",
    "        - и с загруженностью среднего или низкого уровня(из сотрудников с низкой заггруженностью уволилось 43%, со средней 23%).\n",
    "        - уровень удовлетворённости работой уволившегося сотрудника на 38,35% ниже, чем оставшегося в копании;\n",
    "          \n",
    " - построили использовали пайплайн для задачи 2:\n",
    "    - закодировали целевой признак;\n",
    "    - построили пайплайн с моделями KNeighborsClassifier(), DecisionTreeClassifier(), LogisticRegression() и  SVC(), спользуя различные гиперпаметры для каждой;\n",
    "    - по итогу выделили самую успешную модель:\n",
    "        - DecisionTreeClassifier(random_state=42) с гиперпараметрами ('models__max_features': 9, 'models__max_depth': 7);\n",
    "        - площадь ROC-кривой на тестовой выборке: у лучшей модели на тестовых данных составляет 0.9147, что соответствует критерию успеха > 0.91.\n",
    "        \n",
    "Дополнительные предложения для бизнеса:\n",
    "- для составления более точного портрета сотрудника компании стоит расширить опросник - дополнительные знания о поле, возрасте, уровне образования, релевантном опыте могут значительно улучшить результаты прогнозов.\n",
    "- рассмотреть задачу для кадрового отдела по анкетированию и тестированию сотрудников по вопросам реализации нематериальх потребностей внутри компании, при необходимости привлечь психолога, котрый будет вести эти исследования;\n",
    "- на данные момент основной отток сотрудников происходит среди новых работников компании:\n",
    "    - стоит обратить внимание на возможность проведения доп.обучений и тестирований сотрудников, при которых будет оцениваться их ценность для компании;\n",
    "    - при развитии перспективных сотрудников сделать упор на визуализации их возможного роста, что бы человек понимал какие перспективы его ждут, конкретная визуализаци трудозатрат;\n",
    "    - по возможности вводить программы лояльности для 'молодых сотрудников' - создания условий для проведения спортивногои культурного досуга, непосредственно в компании или вне ее пределов с частичной компенсацией."
   ]
  },
  {
   "cell_type": "code",
   "execution_count": null,
   "id": "3ceb27ac",
   "metadata": {},
   "outputs": [],
   "source": []
  }
 ],
 "metadata": {
  "ExecuteTimeLog": [
   {
    "duration": 1580,
    "start_time": "2024-06-10T13:31:43.553Z"
   },
   {
    "duration": 54708,
    "start_time": "2024-06-10T13:32:34.902Z"
   },
   {
    "duration": 18782,
    "start_time": "2024-06-10T13:34:39.391Z"
   },
   {
    "duration": 3372,
    "start_time": "2024-06-10T13:34:58.176Z"
   },
   {
    "duration": 71,
    "start_time": "2024-06-10T13:35:22.314Z"
   },
   {
    "duration": 232,
    "start_time": "2024-06-10T13:35:30.552Z"
   },
   {
    "duration": 4,
    "start_time": "2024-06-10T13:35:43.559Z"
   },
   {
    "duration": 3,
    "start_time": "2024-06-10T13:35:52.595Z"
   },
   {
    "duration": 248,
    "start_time": "2024-06-10T13:38:45.370Z"
   },
   {
    "duration": 43,
    "start_time": "2024-06-10T13:40:12.907Z"
   },
   {
    "duration": 216,
    "start_time": "2024-06-10T13:40:45.626Z"
   },
   {
    "duration": 13037,
    "start_time": "2024-06-10T13:40:56.913Z"
   },
   {
    "duration": 3,
    "start_time": "2024-06-10T13:41:35.667Z"
   },
   {
    "duration": 2,
    "start_time": "2024-06-10T13:41:58.270Z"
   },
   {
    "duration": 3,
    "start_time": "2024-06-10T13:42:00.770Z"
   },
   {
    "duration": 11,
    "start_time": "2024-06-10T13:42:13.438Z"
   },
   {
    "duration": 5,
    "start_time": "2024-06-10T13:42:26.567Z"
   },
   {
    "duration": 5,
    "start_time": "2024-06-10T13:42:36.846Z"
   },
   {
    "duration": 5,
    "start_time": "2024-06-10T13:42:47.502Z"
   },
   {
    "duration": 39,
    "start_time": "2024-06-10T13:45:36.178Z"
   },
   {
    "duration": 4,
    "start_time": "2024-06-10T13:45:48.576Z"
   },
   {
    "duration": 12,
    "start_time": "2024-06-10T13:45:57.757Z"
   },
   {
    "duration": 4,
    "start_time": "2024-06-10T13:46:10.453Z"
   },
   {
    "duration": 8,
    "start_time": "2024-06-10T13:46:34.162Z"
   },
   {
    "duration": 5,
    "start_time": "2024-06-10T13:47:21.633Z"
   },
   {
    "duration": 7,
    "start_time": "2024-06-10T13:48:22.285Z"
   },
   {
    "duration": 5,
    "start_time": "2024-06-10T13:48:26.416Z"
   },
   {
    "duration": 2095,
    "start_time": "2024-06-10T13:49:00.647Z"
   },
   {
    "duration": 18,
    "start_time": "2024-06-10T13:49:40.343Z"
   },
   {
    "duration": 17,
    "start_time": "2024-06-10T13:50:17.998Z"
   },
   {
    "duration": 7,
    "start_time": "2024-06-10T13:50:31.347Z"
   },
   {
    "duration": 6,
    "start_time": "2024-06-10T13:50:37.781Z"
   },
   {
    "duration": 149,
    "start_time": "2024-06-10T14:28:26.104Z"
   },
   {
    "duration": 3,
    "start_time": "2024-06-10T14:28:59.418Z"
   },
   {
    "duration": 2,
    "start_time": "2024-06-10T14:29:10.580Z"
   },
   {
    "duration": 4,
    "start_time": "2024-06-10T14:29:19.799Z"
   },
   {
    "duration": 12,
    "start_time": "2024-06-10T14:29:43.765Z"
   },
   {
    "duration": 748,
    "start_time": "2024-06-10T14:29:54.427Z"
   },
   {
    "duration": 314,
    "start_time": "2024-06-10T14:30:06.522Z"
   },
   {
    "duration": 351,
    "start_time": "2024-06-10T14:30:19.893Z"
   },
   {
    "duration": 327,
    "start_time": "2024-06-10T14:30:32.371Z"
   },
   {
    "duration": 290,
    "start_time": "2024-06-10T14:31:03.747Z"
   },
   {
    "duration": 256,
    "start_time": "2024-06-10T14:31:14.099Z"
   },
   {
    "duration": 28,
    "start_time": "2024-06-10T14:31:50.085Z"
   },
   {
    "duration": 1380,
    "start_time": "2024-06-10T14:32:04.078Z"
   },
   {
    "duration": 387,
    "start_time": "2024-06-10T14:32:17.221Z"
   },
   {
    "duration": 3,
    "start_time": "2024-06-10T14:32:29.324Z"
   },
   {
    "duration": 13,
    "start_time": "2024-06-10T14:32:59.897Z"
   },
   {
    "duration": 32,
    "start_time": "2024-06-10T14:33:09.789Z"
   },
   {
    "duration": 5,
    "start_time": "2024-06-10T14:33:26.687Z"
   },
   {
    "duration": 12,
    "start_time": "2024-06-10T14:33:37.488Z"
   },
   {
    "duration": 3,
    "start_time": "2024-06-10T14:33:49.979Z"
   },
   {
    "duration": 6,
    "start_time": "2024-06-10T14:34:17.955Z"
   },
   {
    "duration": 8042,
    "start_time": "2024-06-10T14:34:31.921Z"
   },
   {
    "duration": 26,
    "start_time": "2024-06-10T14:34:44.284Z"
   },
   {
    "duration": 4,
    "start_time": "2024-06-10T14:41:53.275Z"
   },
   {
    "duration": 295,
    "start_time": "2024-06-10T14:42:36.101Z"
   },
   {
    "duration": 297,
    "start_time": "2024-06-10T14:43:22.270Z"
   },
   {
    "duration": 265,
    "start_time": "2024-06-10T14:43:53.691Z"
   },
   {
    "duration": 242,
    "start_time": "2024-06-10T14:44:11.718Z"
   },
   {
    "duration": 2673,
    "start_time": "2024-06-10T14:51:06.925Z"
   },
   {
    "duration": 3,
    "start_time": "2024-06-10T14:54:25.572Z"
   },
   {
    "duration": 12361,
    "start_time": "2024-06-10T14:54:30.272Z"
   },
   {
    "duration": 68,
    "start_time": "2024-06-10T15:15:42.061Z"
   },
   {
    "duration": 374,
    "start_time": "2024-06-10T15:17:22.994Z"
   },
   {
    "duration": 641,
    "start_time": "2024-06-10T15:21:27.324Z"
   },
   {
    "duration": 309,
    "start_time": "2024-06-10T15:26:17.929Z"
   },
   {
    "duration": 50369,
    "start_time": "2024-06-13T09:24:32.144Z"
   },
   {
    "duration": 3685,
    "start_time": "2024-06-13T09:25:22.515Z"
   },
   {
    "duration": 3,
    "start_time": "2024-06-13T09:25:26.201Z"
   },
   {
    "duration": 11,
    "start_time": "2024-06-13T09:25:26.205Z"
   },
   {
    "duration": 276,
    "start_time": "2024-06-13T09:25:26.218Z"
   },
   {
    "duration": 12828,
    "start_time": "2024-06-13T09:25:26.496Z"
   },
   {
    "duration": 9551,
    "start_time": "2024-06-13T09:25:39.326Z"
   },
   {
    "duration": 3658,
    "start_time": "2024-06-13T09:25:48.878Z"
   },
   {
    "duration": 14,
    "start_time": "2024-06-13T09:25:52.538Z"
   },
   {
    "duration": 8,
    "start_time": "2024-06-13T09:25:52.554Z"
   },
   {
    "duration": 6,
    "start_time": "2024-06-13T09:25:52.600Z"
   },
   {
    "duration": 69,
    "start_time": "2024-06-13T09:25:52.608Z"
   },
   {
    "duration": 65,
    "start_time": "2024-06-13T09:25:52.679Z"
   },
   {
    "duration": 38,
    "start_time": "2024-06-13T09:25:52.749Z"
   },
   {
    "duration": 76,
    "start_time": "2024-06-13T09:25:52.788Z"
   },
   {
    "duration": 50,
    "start_time": "2024-06-13T09:25:52.866Z"
   },
   {
    "duration": 29,
    "start_time": "2024-06-13T09:25:52.918Z"
   },
   {
    "duration": 7,
    "start_time": "2024-06-13T09:25:52.949Z"
   },
   {
    "duration": 2075,
    "start_time": "2024-06-13T09:25:52.957Z"
   },
   {
    "duration": 19,
    "start_time": "2024-06-13T09:25:55.033Z"
   },
   {
    "duration": 21,
    "start_time": "2024-06-13T09:25:55.054Z"
   },
   {
    "duration": 5,
    "start_time": "2024-06-13T09:25:55.076Z"
   },
   {
    "duration": 205,
    "start_time": "2024-06-13T09:25:55.099Z"
   },
   {
    "duration": 9597,
    "start_time": "2024-06-13T09:25:55.305Z"
   },
   {
    "duration": 2,
    "start_time": "2024-06-13T09:26:04.904Z"
   },
   {
    "duration": 5,
    "start_time": "2024-06-13T09:26:04.908Z"
   },
   {
    "duration": 4,
    "start_time": "2024-06-13T09:26:04.914Z"
   },
   {
    "duration": 13,
    "start_time": "2024-06-13T09:26:04.919Z"
   },
   {
    "duration": 471,
    "start_time": "2024-06-13T09:26:04.933Z"
   },
   {
    "duration": 317,
    "start_time": "2024-06-13T09:26:05.406Z"
   },
   {
    "duration": 400,
    "start_time": "2024-06-13T09:26:05.725Z"
   },
   {
    "duration": 281,
    "start_time": "2024-06-13T09:26:06.127Z"
   },
   {
    "duration": 273,
    "start_time": "2024-06-13T09:26:06.410Z"
   },
   {
    "duration": 292,
    "start_time": "2024-06-13T09:26:06.684Z"
   },
   {
    "duration": 38,
    "start_time": "2024-06-13T09:26:06.977Z"
   },
   {
    "duration": 1366,
    "start_time": "2024-06-13T09:26:07.017Z"
   },
   {
    "duration": 385,
    "start_time": "2024-06-13T09:26:08.385Z"
   },
   {
    "duration": 13,
    "start_time": "2024-06-13T09:26:08.772Z"
   },
   {
    "duration": 56,
    "start_time": "2024-06-13T09:26:08.799Z"
   },
   {
    "duration": 5,
    "start_time": "2024-06-13T09:26:08.856Z"
   },
   {
    "duration": 14,
    "start_time": "2024-06-13T09:26:08.864Z"
   },
   {
    "duration": 5,
    "start_time": "2024-06-13T09:26:08.879Z"
   },
   {
    "duration": 16,
    "start_time": "2024-06-13T09:26:08.886Z"
   },
   {
    "duration": 8232,
    "start_time": "2024-06-13T09:26:08.904Z"
   },
   {
    "duration": 19,
    "start_time": "2024-06-13T09:26:17.138Z"
   },
   {
    "duration": 226,
    "start_time": "2024-06-13T09:32:19.292Z"
   },
   {
    "duration": 18,
    "start_time": "2024-06-13T09:32:25.251Z"
   },
   {
    "duration": 7,
    "start_time": "2024-06-13T09:32:32.007Z"
   },
   {
    "duration": 9,
    "start_time": "2024-06-13T09:32:48.089Z"
   },
   {
    "duration": 35,
    "start_time": "2024-06-13T09:33:16.212Z"
   },
   {
    "duration": 19,
    "start_time": "2024-06-13T09:33:46.789Z"
   },
   {
    "duration": 8,
    "start_time": "2024-06-13T09:34:16.610Z"
   },
   {
    "duration": 252,
    "start_time": "2024-06-13T09:35:50.831Z"
   },
   {
    "duration": 47,
    "start_time": "2024-06-13T09:41:18.276Z"
   },
   {
    "duration": 81,
    "start_time": "2024-06-13T09:41:38.529Z"
   },
   {
    "duration": 4,
    "start_time": "2024-06-13T09:43:35.052Z"
   },
   {
    "duration": 417,
    "start_time": "2024-06-13T09:43:43.485Z"
   },
   {
    "duration": 4,
    "start_time": "2024-06-13T09:44:22.703Z"
   },
   {
    "duration": 455,
    "start_time": "2024-06-13T09:44:25.655Z"
   },
   {
    "duration": 4,
    "start_time": "2024-06-13T09:44:39.720Z"
   },
   {
    "duration": 423,
    "start_time": "2024-06-13T09:44:43.240Z"
   },
   {
    "duration": 5,
    "start_time": "2024-06-13T09:46:00.655Z"
   },
   {
    "duration": 485,
    "start_time": "2024-06-13T09:46:04.002Z"
   },
   {
    "duration": 378,
    "start_time": "2024-06-13T09:46:28.324Z"
   },
   {
    "duration": 6,
    "start_time": "2024-06-13T09:49:06.420Z"
   },
   {
    "duration": 321,
    "start_time": "2024-06-13T09:49:17.266Z"
   },
   {
    "duration": 14,
    "start_time": "2024-06-13T09:49:23.364Z"
   },
   {
    "duration": 386,
    "start_time": "2024-06-13T09:49:29.666Z"
   },
   {
    "duration": 5,
    "start_time": "2024-06-13T09:50:24.614Z"
   },
   {
    "duration": 318,
    "start_time": "2024-06-13T09:50:34.513Z"
   },
   {
    "duration": 404,
    "start_time": "2024-06-13T09:50:39.736Z"
   },
   {
    "duration": 321,
    "start_time": "2024-06-13T09:50:48.408Z"
   },
   {
    "duration": 322,
    "start_time": "2024-06-13T09:51:03.506Z"
   },
   {
    "duration": 5,
    "start_time": "2024-06-13T09:52:21.066Z"
   },
   {
    "duration": 17525,
    "start_time": "2024-06-13T09:52:29.071Z"
   },
   {
    "duration": 3428,
    "start_time": "2024-06-13T09:52:46.598Z"
   },
   {
    "duration": 3,
    "start_time": "2024-06-13T09:52:50.028Z"
   },
   {
    "duration": 7,
    "start_time": "2024-06-13T09:52:50.033Z"
   },
   {
    "duration": 80,
    "start_time": "2024-06-13T09:52:50.041Z"
   },
   {
    "duration": 12222,
    "start_time": "2024-06-13T09:52:50.122Z"
   },
   {
    "duration": 9517,
    "start_time": "2024-06-13T09:53:02.346Z"
   },
   {
    "duration": 3536,
    "start_time": "2024-06-13T09:53:11.865Z"
   },
   {
    "duration": 10,
    "start_time": "2024-06-13T09:53:15.403Z"
   },
   {
    "duration": 7,
    "start_time": "2024-06-13T09:53:15.416Z"
   },
   {
    "duration": 11,
    "start_time": "2024-06-13T09:53:15.425Z"
   },
   {
    "duration": 6,
    "start_time": "2024-06-13T09:53:15.438Z"
   },
   {
    "duration": 20,
    "start_time": "2024-06-13T09:53:15.446Z"
   },
   {
    "duration": 13,
    "start_time": "2024-06-13T09:53:15.500Z"
   },
   {
    "duration": 26,
    "start_time": "2024-06-13T09:53:15.515Z"
   },
   {
    "duration": 5,
    "start_time": "2024-06-13T09:53:15.543Z"
   },
   {
    "duration": 5,
    "start_time": "2024-06-13T09:53:15.550Z"
   },
   {
    "duration": 7,
    "start_time": "2024-06-13T09:53:15.556Z"
   },
   {
    "duration": 1938,
    "start_time": "2024-06-13T09:53:15.564Z"
   },
   {
    "duration": 18,
    "start_time": "2024-06-13T09:53:17.503Z"
   },
   {
    "duration": 19,
    "start_time": "2024-06-13T09:53:17.522Z"
   },
   {
    "duration": 6,
    "start_time": "2024-06-13T09:53:17.542Z"
   },
   {
    "duration": 77,
    "start_time": "2024-06-13T09:53:17.549Z"
   },
   {
    "duration": 9461,
    "start_time": "2024-06-13T09:53:17.627Z"
   },
   {
    "duration": 2,
    "start_time": "2024-06-13T09:53:27.100Z"
   },
   {
    "duration": 5,
    "start_time": "2024-06-13T09:53:27.104Z"
   },
   {
    "duration": 6,
    "start_time": "2024-06-13T09:53:27.110Z"
   },
   {
    "duration": 12,
    "start_time": "2024-06-13T09:53:27.119Z"
   },
   {
    "duration": 464,
    "start_time": "2024-06-13T09:53:27.132Z"
   },
   {
    "duration": 403,
    "start_time": "2024-06-13T09:53:27.597Z"
   },
   {
    "duration": 638,
    "start_time": "2024-06-13T09:53:28.001Z"
   },
   {
    "duration": 665,
    "start_time": "2024-06-13T09:53:28.640Z"
   },
   {
    "duration": 484,
    "start_time": "2024-06-13T09:53:29.306Z"
   },
   {
    "duration": 328,
    "start_time": "2024-06-13T09:53:29.798Z"
   },
   {
    "duration": 28,
    "start_time": "2024-06-13T09:53:30.128Z"
   },
   {
    "duration": 1410,
    "start_time": "2024-06-13T09:53:30.158Z"
   },
   {
    "duration": 411,
    "start_time": "2024-06-13T09:53:31.570Z"
   },
   {
    "duration": 18,
    "start_time": "2024-06-13T09:53:31.983Z"
   },
   {
    "duration": 38,
    "start_time": "2024-06-13T09:53:32.003Z"
   },
   {
    "duration": 5,
    "start_time": "2024-06-13T09:53:32.042Z"
   },
   {
    "duration": 13,
    "start_time": "2024-06-13T09:53:32.048Z"
   },
   {
    "duration": 3,
    "start_time": "2024-06-13T09:53:32.063Z"
   },
   {
    "duration": 37,
    "start_time": "2024-06-13T09:53:32.067Z"
   },
   {
    "duration": 7791,
    "start_time": "2024-06-13T09:53:32.106Z"
   },
   {
    "duration": 18,
    "start_time": "2024-06-13T09:53:39.898Z"
   },
   {
    "duration": 6,
    "start_time": "2024-06-13T09:55:38.649Z"
   },
   {
    "duration": 17674,
    "start_time": "2024-06-13T09:55:50.121Z"
   },
   {
    "duration": 3419,
    "start_time": "2024-06-13T09:56:07.798Z"
   },
   {
    "duration": 3,
    "start_time": "2024-06-13T09:56:11.219Z"
   },
   {
    "duration": 4,
    "start_time": "2024-06-13T09:56:11.224Z"
   },
   {
    "duration": 79,
    "start_time": "2024-06-13T09:56:11.231Z"
   },
   {
    "duration": 13622,
    "start_time": "2024-06-13T09:56:11.311Z"
   },
   {
    "duration": 10368,
    "start_time": "2024-06-13T09:56:24.935Z"
   },
   {
    "duration": 3760,
    "start_time": "2024-06-13T09:56:35.305Z"
   },
   {
    "duration": 10,
    "start_time": "2024-06-13T09:56:39.066Z"
   },
   {
    "duration": 25,
    "start_time": "2024-06-13T09:56:39.077Z"
   },
   {
    "duration": 4,
    "start_time": "2024-06-13T09:56:39.104Z"
   },
   {
    "duration": 6,
    "start_time": "2024-06-13T09:56:39.110Z"
   },
   {
    "duration": 20,
    "start_time": "2024-06-13T09:56:39.117Z"
   },
   {
    "duration": 12,
    "start_time": "2024-06-13T09:56:39.140Z"
   },
   {
    "duration": 48,
    "start_time": "2024-06-13T09:56:39.153Z"
   },
   {
    "duration": 6,
    "start_time": "2024-06-13T09:56:39.203Z"
   },
   {
    "duration": 8,
    "start_time": "2024-06-13T09:56:39.211Z"
   },
   {
    "duration": 11,
    "start_time": "2024-06-13T09:56:39.221Z"
   },
   {
    "duration": 2018,
    "start_time": "2024-06-13T09:56:39.233Z"
   },
   {
    "duration": 19,
    "start_time": "2024-06-13T09:56:41.253Z"
   },
   {
    "duration": 36,
    "start_time": "2024-06-13T09:56:41.274Z"
   },
   {
    "duration": 6,
    "start_time": "2024-06-13T09:56:41.311Z"
   },
   {
    "duration": 59,
    "start_time": "2024-06-13T09:56:41.318Z"
   },
   {
    "duration": 9923,
    "start_time": "2024-06-13T09:56:41.378Z"
   },
   {
    "duration": 3,
    "start_time": "2024-06-13T09:56:51.303Z"
   },
   {
    "duration": 7,
    "start_time": "2024-06-13T09:56:51.307Z"
   },
   {
    "duration": 8,
    "start_time": "2024-06-13T09:56:51.316Z"
   },
   {
    "duration": 16,
    "start_time": "2024-06-13T09:56:51.326Z"
   },
   {
    "duration": 489,
    "start_time": "2024-06-13T09:56:51.344Z"
   },
   {
    "duration": 345,
    "start_time": "2024-06-13T09:56:51.835Z"
   },
   {
    "duration": 409,
    "start_time": "2024-06-13T09:56:52.182Z"
   },
   {
    "duration": 652,
    "start_time": "2024-06-13T09:56:52.593Z"
   },
   {
    "duration": 0,
    "start_time": "2024-06-13T09:56:53.247Z"
   },
   {
    "duration": 0,
    "start_time": "2024-06-13T09:56:53.248Z"
   },
   {
    "duration": 0,
    "start_time": "2024-06-13T09:56:53.250Z"
   },
   {
    "duration": 0,
    "start_time": "2024-06-13T09:56:53.251Z"
   },
   {
    "duration": 0,
    "start_time": "2024-06-13T09:56:53.252Z"
   },
   {
    "duration": 0,
    "start_time": "2024-06-13T09:56:53.253Z"
   },
   {
    "duration": 0,
    "start_time": "2024-06-13T09:56:53.254Z"
   },
   {
    "duration": 0,
    "start_time": "2024-06-13T09:56:53.255Z"
   },
   {
    "duration": 0,
    "start_time": "2024-06-13T09:56:53.256Z"
   },
   {
    "duration": 0,
    "start_time": "2024-06-13T09:56:53.257Z"
   },
   {
    "duration": 0,
    "start_time": "2024-06-13T09:56:53.258Z"
   },
   {
    "duration": 0,
    "start_time": "2024-06-13T09:56:53.259Z"
   },
   {
    "duration": 0,
    "start_time": "2024-06-13T09:56:53.260Z"
   },
   {
    "duration": 5,
    "start_time": "2024-06-13T09:58:13.899Z"
   },
   {
    "duration": 378,
    "start_time": "2024-06-13T09:58:19.222Z"
   },
   {
    "duration": 331,
    "start_time": "2024-06-13T09:58:37.500Z"
   },
   {
    "duration": 335,
    "start_time": "2024-06-13T09:58:40.310Z"
   },
   {
    "duration": 29,
    "start_time": "2024-06-13T09:58:43.914Z"
   },
   {
    "duration": 1452,
    "start_time": "2024-06-13T09:58:46.564Z"
   },
   {
    "duration": 394,
    "start_time": "2024-06-13T09:58:51.283Z"
   },
   {
    "duration": 17979,
    "start_time": "2024-06-13T09:59:13.863Z"
   },
   {
    "duration": 3500,
    "start_time": "2024-06-13T09:59:31.845Z"
   },
   {
    "duration": 3,
    "start_time": "2024-06-13T09:59:35.347Z"
   },
   {
    "duration": 4,
    "start_time": "2024-06-13T09:59:35.352Z"
   },
   {
    "duration": 77,
    "start_time": "2024-06-13T09:59:35.358Z"
   },
   {
    "duration": 12947,
    "start_time": "2024-06-13T09:59:35.437Z"
   },
   {
    "duration": 9674,
    "start_time": "2024-06-13T09:59:48.386Z"
   },
   {
    "duration": 3874,
    "start_time": "2024-06-13T09:59:58.062Z"
   },
   {
    "duration": 10,
    "start_time": "2024-06-13T10:00:01.938Z"
   },
   {
    "duration": 22,
    "start_time": "2024-06-13T10:00:01.950Z"
   },
   {
    "duration": 35,
    "start_time": "2024-06-13T10:00:01.974Z"
   },
   {
    "duration": 23,
    "start_time": "2024-06-13T10:00:02.011Z"
   },
   {
    "duration": 46,
    "start_time": "2024-06-13T10:00:02.035Z"
   },
   {
    "duration": 21,
    "start_time": "2024-06-13T10:00:02.085Z"
   },
   {
    "duration": 43,
    "start_time": "2024-06-13T10:00:02.108Z"
   },
   {
    "duration": 54,
    "start_time": "2024-06-13T10:00:02.153Z"
   },
   {
    "duration": 23,
    "start_time": "2024-06-13T10:00:02.209Z"
   },
   {
    "duration": 28,
    "start_time": "2024-06-13T10:00:02.234Z"
   },
   {
    "duration": 2053,
    "start_time": "2024-06-13T10:00:02.264Z"
   },
   {
    "duration": 21,
    "start_time": "2024-06-13T10:00:04.319Z"
   },
   {
    "duration": 20,
    "start_time": "2024-06-13T10:00:04.341Z"
   },
   {
    "duration": 7,
    "start_time": "2024-06-13T10:00:04.364Z"
   },
   {
    "duration": 81,
    "start_time": "2024-06-13T10:00:04.374Z"
   },
   {
    "duration": 2,
    "start_time": "2024-06-13T10:00:04.457Z"
   },
   {
    "duration": 20,
    "start_time": "2024-06-13T10:00:04.461Z"
   },
   {
    "duration": 14,
    "start_time": "2024-06-13T10:00:04.483Z"
   },
   {
    "duration": 16,
    "start_time": "2024-06-13T10:00:04.499Z"
   },
   {
    "duration": 12,
    "start_time": "2024-06-13T10:00:04.517Z"
   },
   {
    "duration": 415,
    "start_time": "2024-06-13T10:00:04.531Z"
   },
   {
    "duration": 377,
    "start_time": "2024-06-13T10:00:04.947Z"
   },
   {
    "duration": 423,
    "start_time": "2024-06-13T10:00:05.326Z"
   },
   {
    "duration": 432,
    "start_time": "2024-06-13T10:00:05.751Z"
   },
   {
    "duration": 373,
    "start_time": "2024-06-13T10:00:06.185Z"
   },
   {
    "duration": 375,
    "start_time": "2024-06-13T10:00:06.560Z"
   },
   {
    "duration": 31,
    "start_time": "2024-06-13T10:00:06.937Z"
   },
   {
    "duration": 1436,
    "start_time": "2024-06-13T10:00:06.970Z"
   },
   {
    "duration": 396,
    "start_time": "2024-06-13T10:00:08.408Z"
   },
   {
    "duration": 14,
    "start_time": "2024-06-13T10:00:08.807Z"
   },
   {
    "duration": 35,
    "start_time": "2024-06-13T10:00:08.823Z"
   },
   {
    "duration": 5,
    "start_time": "2024-06-13T10:00:08.860Z"
   },
   {
    "duration": 41,
    "start_time": "2024-06-13T10:00:08.869Z"
   },
   {
    "duration": 4,
    "start_time": "2024-06-13T10:00:08.912Z"
   },
   {
    "duration": 7,
    "start_time": "2024-06-13T10:00:08.919Z"
   },
   {
    "duration": 8274,
    "start_time": "2024-06-13T10:00:08.928Z"
   },
   {
    "duration": 19,
    "start_time": "2024-06-13T10:00:17.204Z"
   },
   {
    "duration": 46,
    "start_time": "2024-06-13T17:11:21.822Z"
   },
   {
    "duration": 4,
    "start_time": "2024-06-13T17:12:29.954Z"
   },
   {
    "duration": 47861,
    "start_time": "2024-06-13T17:14:29.573Z"
   },
   {
    "duration": 3032,
    "start_time": "2024-06-13T17:15:17.436Z"
   },
   {
    "duration": 3,
    "start_time": "2024-06-13T17:15:20.469Z"
   },
   {
    "duration": 24,
    "start_time": "2024-06-13T17:15:20.473Z"
   },
   {
    "duration": 239,
    "start_time": "2024-06-13T17:15:20.499Z"
   },
   {
    "duration": 3,
    "start_time": "2024-06-13T17:15:20.739Z"
   },
   {
    "duration": 101,
    "start_time": "2024-06-13T17:15:20.743Z"
   },
   {
    "duration": 3,
    "start_time": "2024-06-13T17:15:20.845Z"
   },
   {
    "duration": 8,
    "start_time": "2024-06-13T17:15:20.849Z"
   },
   {
    "duration": 13,
    "start_time": "2024-06-13T17:15:20.858Z"
   },
   {
    "duration": 14,
    "start_time": "2024-06-13T17:15:20.873Z"
   },
   {
    "duration": 28,
    "start_time": "2024-06-13T17:15:20.888Z"
   },
   {
    "duration": 22,
    "start_time": "2024-06-13T17:15:20.918Z"
   },
   {
    "duration": 4,
    "start_time": "2024-06-13T17:15:20.944Z"
   },
   {
    "duration": 28,
    "start_time": "2024-06-13T17:15:20.949Z"
   },
   {
    "duration": 18,
    "start_time": "2024-06-13T17:15:20.979Z"
   },
   {
    "duration": 23,
    "start_time": "2024-06-13T17:15:20.998Z"
   },
   {
    "duration": 7,
    "start_time": "2024-06-13T17:15:21.022Z"
   },
   {
    "duration": 13,
    "start_time": "2024-06-13T17:15:21.030Z"
   },
   {
    "duration": 6,
    "start_time": "2024-06-13T17:15:21.045Z"
   },
   {
    "duration": 1543,
    "start_time": "2024-06-13T17:15:21.053Z"
   },
   {
    "duration": 14,
    "start_time": "2024-06-13T17:15:22.601Z"
   },
   {
    "duration": 16,
    "start_time": "2024-06-13T17:15:22.616Z"
   },
   {
    "duration": 5,
    "start_time": "2024-06-13T17:15:22.633Z"
   },
   {
    "duration": 150,
    "start_time": "2024-06-13T17:15:22.639Z"
   },
   {
    "duration": 2,
    "start_time": "2024-06-13T17:15:22.790Z"
   },
   {
    "duration": 67,
    "start_time": "2024-06-13T17:15:22.793Z"
   },
   {
    "duration": 3,
    "start_time": "2024-06-13T17:15:22.861Z"
   },
   {
    "duration": 4,
    "start_time": "2024-06-13T17:15:22.865Z"
   },
   {
    "duration": 8,
    "start_time": "2024-06-13T17:15:22.871Z"
   },
   {
    "duration": 440,
    "start_time": "2024-06-13T17:15:22.880Z"
   },
   {
    "duration": 249,
    "start_time": "2024-06-13T17:15:23.321Z"
   },
   {
    "duration": 348,
    "start_time": "2024-06-13T17:15:23.571Z"
   },
   {
    "duration": 312,
    "start_time": "2024-06-13T17:15:23.920Z"
   },
   {
    "duration": 304,
    "start_time": "2024-06-13T17:15:24.233Z"
   },
   {
    "duration": 312,
    "start_time": "2024-06-13T17:15:24.538Z"
   },
   {
    "duration": 23,
    "start_time": "2024-06-13T17:15:24.851Z"
   },
   {
    "duration": 471,
    "start_time": "2024-06-13T17:15:24.875Z"
   },
   {
    "duration": 11,
    "start_time": "2024-06-13T17:15:25.347Z"
   },
   {
    "duration": 28,
    "start_time": "2024-06-13T17:15:25.360Z"
   },
   {
    "duration": 4,
    "start_time": "2024-06-13T17:15:25.402Z"
   },
   {
    "duration": 12,
    "start_time": "2024-06-13T17:15:25.407Z"
   },
   {
    "duration": 29,
    "start_time": "2024-06-13T17:15:25.420Z"
   },
   {
    "duration": 14,
    "start_time": "2024-06-13T17:15:25.450Z"
   },
   {
    "duration": 6966,
    "start_time": "2024-06-13T17:15:25.465Z"
   },
   {
    "duration": 15,
    "start_time": "2024-06-13T17:15:32.433Z"
   },
   {
    "duration": 9,
    "start_time": "2024-06-13T17:17:35.827Z"
   },
   {
    "duration": 13,
    "start_time": "2024-06-13T17:17:56.622Z"
   },
   {
    "duration": 17779,
    "start_time": "2024-06-13T17:19:58.487Z"
   },
   {
    "duration": 3050,
    "start_time": "2024-06-13T17:20:16.268Z"
   },
   {
    "duration": 3,
    "start_time": "2024-06-13T17:20:19.319Z"
   },
   {
    "duration": 20,
    "start_time": "2024-06-13T17:20:19.324Z"
   },
   {
    "duration": 76,
    "start_time": "2024-06-13T17:20:19.345Z"
   },
   {
    "duration": 3,
    "start_time": "2024-06-13T17:20:19.422Z"
   },
   {
    "duration": 70,
    "start_time": "2024-06-13T17:20:19.427Z"
   },
   {
    "duration": 9,
    "start_time": "2024-06-13T17:20:19.499Z"
   },
   {
    "duration": 17,
    "start_time": "2024-06-13T17:20:19.510Z"
   },
   {
    "duration": 8,
    "start_time": "2024-06-13T17:20:19.530Z"
   },
   {
    "duration": 20,
    "start_time": "2024-06-13T17:20:19.541Z"
   },
   {
    "duration": 52,
    "start_time": "2024-06-13T17:20:19.562Z"
   },
   {
    "duration": 13,
    "start_time": "2024-06-13T17:20:19.616Z"
   },
   {
    "duration": 7,
    "start_time": "2024-06-13T17:20:19.631Z"
   },
   {
    "duration": 14,
    "start_time": "2024-06-13T17:20:19.639Z"
   },
   {
    "duration": 20,
    "start_time": "2024-06-13T17:20:19.655Z"
   },
   {
    "duration": 31,
    "start_time": "2024-06-13T17:20:19.676Z"
   },
   {
    "duration": 23,
    "start_time": "2024-06-13T17:20:19.709Z"
   },
   {
    "duration": 14,
    "start_time": "2024-06-13T17:20:19.734Z"
   },
   {
    "duration": 29,
    "start_time": "2024-06-13T17:20:19.750Z"
   },
   {
    "duration": 16,
    "start_time": "2024-06-13T17:20:19.781Z"
   },
   {
    "duration": 28,
    "start_time": "2024-06-13T17:20:19.799Z"
   },
   {
    "duration": 1714,
    "start_time": "2024-06-13T17:20:19.828Z"
   },
   {
    "duration": 15,
    "start_time": "2024-06-13T17:20:21.544Z"
   },
   {
    "duration": 25,
    "start_time": "2024-06-13T17:20:21.560Z"
   },
   {
    "duration": 10,
    "start_time": "2024-06-13T17:20:21.586Z"
   },
   {
    "duration": 65,
    "start_time": "2024-06-13T17:20:21.597Z"
   },
   {
    "duration": 2,
    "start_time": "2024-06-13T17:20:21.665Z"
   },
   {
    "duration": 42,
    "start_time": "2024-06-13T17:20:21.668Z"
   },
   {
    "duration": 8,
    "start_time": "2024-06-13T17:20:21.711Z"
   },
   {
    "duration": 7,
    "start_time": "2024-06-13T17:20:21.720Z"
   },
   {
    "duration": 16,
    "start_time": "2024-06-13T17:20:21.728Z"
   },
   {
    "duration": 506,
    "start_time": "2024-06-13T17:20:21.746Z"
   },
   {
    "duration": 306,
    "start_time": "2024-06-13T17:20:22.253Z"
   },
   {
    "duration": 376,
    "start_time": "2024-06-13T17:20:22.561Z"
   },
   {
    "duration": 349,
    "start_time": "2024-06-13T17:20:22.938Z"
   },
   {
    "duration": 298,
    "start_time": "2024-06-13T17:20:23.288Z"
   },
   {
    "duration": 310,
    "start_time": "2024-06-13T17:20:23.587Z"
   },
   {
    "duration": 23,
    "start_time": "2024-06-13T17:20:23.902Z"
   },
   {
    "duration": 313,
    "start_time": "2024-06-13T17:20:23.926Z"
   },
   {
    "duration": 11,
    "start_time": "2024-06-13T17:20:24.240Z"
   },
   {
    "duration": 46,
    "start_time": "2024-06-13T17:20:24.252Z"
   },
   {
    "duration": 4,
    "start_time": "2024-06-13T17:20:24.299Z"
   },
   {
    "duration": 28,
    "start_time": "2024-06-13T17:20:24.305Z"
   },
   {
    "duration": 14,
    "start_time": "2024-06-13T17:20:24.335Z"
   },
   {
    "duration": 17,
    "start_time": "2024-06-13T17:20:24.350Z"
   },
   {
    "duration": 7400,
    "start_time": "2024-06-13T17:20:24.369Z"
   },
   {
    "duration": 15,
    "start_time": "2024-06-13T17:20:31.770Z"
   },
   {
    "duration": 1083,
    "start_time": "2024-06-13T17:23:53.392Z"
   },
   {
    "duration": 18898,
    "start_time": "2024-06-13T17:25:39.714Z"
   },
   {
    "duration": 3082,
    "start_time": "2024-06-13T17:25:58.614Z"
   },
   {
    "duration": 5,
    "start_time": "2024-06-13T17:26:01.697Z"
   },
   {
    "duration": 54,
    "start_time": "2024-06-13T17:26:01.703Z"
   },
   {
    "duration": 130,
    "start_time": "2024-06-13T17:26:01.759Z"
   },
   {
    "duration": 2,
    "start_time": "2024-06-13T17:26:01.891Z"
   },
   {
    "duration": 93,
    "start_time": "2024-06-13T17:26:01.895Z"
   },
   {
    "duration": 41,
    "start_time": "2024-06-13T17:26:01.989Z"
   },
   {
    "duration": 67,
    "start_time": "2024-06-13T17:26:02.031Z"
   },
   {
    "duration": 48,
    "start_time": "2024-06-13T17:26:02.100Z"
   },
   {
    "duration": 56,
    "start_time": "2024-06-13T17:26:02.149Z"
   },
   {
    "duration": 38,
    "start_time": "2024-06-13T17:26:02.206Z"
   },
   {
    "duration": 59,
    "start_time": "2024-06-13T17:26:02.245Z"
   },
   {
    "duration": 23,
    "start_time": "2024-06-13T17:26:02.307Z"
   },
   {
    "duration": 63,
    "start_time": "2024-06-13T17:26:02.331Z"
   },
   {
    "duration": 58,
    "start_time": "2024-06-13T17:26:02.395Z"
   },
   {
    "duration": 71,
    "start_time": "2024-06-13T17:26:02.454Z"
   },
   {
    "duration": 0,
    "start_time": "2024-06-13T17:26:02.526Z"
   },
   {
    "duration": 0,
    "start_time": "2024-06-13T17:26:02.527Z"
   },
   {
    "duration": 0,
    "start_time": "2024-06-13T17:26:02.529Z"
   },
   {
    "duration": 0,
    "start_time": "2024-06-13T17:26:02.530Z"
   },
   {
    "duration": 0,
    "start_time": "2024-06-13T17:26:02.531Z"
   },
   {
    "duration": 0,
    "start_time": "2024-06-13T17:26:02.532Z"
   },
   {
    "duration": 0,
    "start_time": "2024-06-13T17:26:02.533Z"
   },
   {
    "duration": 0,
    "start_time": "2024-06-13T17:26:02.534Z"
   },
   {
    "duration": 0,
    "start_time": "2024-06-13T17:26:02.535Z"
   },
   {
    "duration": 0,
    "start_time": "2024-06-13T17:26:02.536Z"
   },
   {
    "duration": 0,
    "start_time": "2024-06-13T17:26:02.537Z"
   },
   {
    "duration": 0,
    "start_time": "2024-06-13T17:26:02.538Z"
   },
   {
    "duration": 0,
    "start_time": "2024-06-13T17:26:02.539Z"
   },
   {
    "duration": 0,
    "start_time": "2024-06-13T17:26:02.540Z"
   },
   {
    "duration": 0,
    "start_time": "2024-06-13T17:26:02.542Z"
   },
   {
    "duration": 0,
    "start_time": "2024-06-13T17:26:02.543Z"
   },
   {
    "duration": 0,
    "start_time": "2024-06-13T17:26:02.544Z"
   },
   {
    "duration": 0,
    "start_time": "2024-06-13T17:26:02.551Z"
   },
   {
    "duration": 0,
    "start_time": "2024-06-13T17:26:02.552Z"
   },
   {
    "duration": 0,
    "start_time": "2024-06-13T17:26:02.553Z"
   },
   {
    "duration": 0,
    "start_time": "2024-06-13T17:26:02.554Z"
   },
   {
    "duration": 0,
    "start_time": "2024-06-13T17:26:02.555Z"
   },
   {
    "duration": 0,
    "start_time": "2024-06-13T17:26:02.556Z"
   },
   {
    "duration": 0,
    "start_time": "2024-06-13T17:26:02.556Z"
   },
   {
    "duration": 0,
    "start_time": "2024-06-13T17:26:02.557Z"
   },
   {
    "duration": 0,
    "start_time": "2024-06-13T17:26:02.558Z"
   },
   {
    "duration": 0,
    "start_time": "2024-06-13T17:26:02.559Z"
   },
   {
    "duration": 0,
    "start_time": "2024-06-13T17:26:02.560Z"
   },
   {
    "duration": 0,
    "start_time": "2024-06-13T17:26:02.560Z"
   },
   {
    "duration": 0,
    "start_time": "2024-06-13T17:26:02.562Z"
   },
   {
    "duration": 0,
    "start_time": "2024-06-13T17:26:02.562Z"
   },
   {
    "duration": 0,
    "start_time": "2024-06-13T17:26:02.563Z"
   },
   {
    "duration": 389,
    "start_time": "2024-06-13T17:26:13.424Z"
   },
   {
    "duration": 1134,
    "start_time": "2024-06-13T17:26:56.686Z"
   },
   {
    "duration": 990,
    "start_time": "2024-06-13T17:28:38.174Z"
   },
   {
    "duration": 1209,
    "start_time": "2024-06-13T17:29:13.549Z"
   },
   {
    "duration": 67,
    "start_time": "2024-06-13T17:30:00.014Z"
   },
   {
    "duration": 54031,
    "start_time": "2024-06-14T08:15:25.601Z"
   },
   {
    "duration": 4039,
    "start_time": "2024-06-14T08:16:19.634Z"
   },
   {
    "duration": 3,
    "start_time": "2024-06-14T08:16:23.674Z"
   },
   {
    "duration": 15,
    "start_time": "2024-06-14T08:16:23.679Z"
   },
   {
    "duration": 253,
    "start_time": "2024-06-14T08:16:23.696Z"
   },
   {
    "duration": 3,
    "start_time": "2024-06-14T08:16:23.951Z"
   },
   {
    "duration": 71,
    "start_time": "2024-06-14T08:16:23.955Z"
   },
   {
    "duration": 11,
    "start_time": "2024-06-14T08:16:24.027Z"
   },
   {
    "duration": 15,
    "start_time": "2024-06-14T08:16:24.040Z"
   },
   {
    "duration": 3,
    "start_time": "2024-06-14T08:16:24.057Z"
   },
   {
    "duration": 32,
    "start_time": "2024-06-14T08:16:24.061Z"
   },
   {
    "duration": 6,
    "start_time": "2024-06-14T08:16:24.094Z"
   },
   {
    "duration": 15,
    "start_time": "2024-06-14T08:16:24.102Z"
   },
   {
    "duration": 6,
    "start_time": "2024-06-14T08:16:24.119Z"
   },
   {
    "duration": 6,
    "start_time": "2024-06-14T08:16:24.127Z"
   },
   {
    "duration": 9,
    "start_time": "2024-06-14T08:16:24.135Z"
   },
   {
    "duration": 1814,
    "start_time": "2024-06-14T08:16:24.146Z"
   },
   {
    "duration": 23,
    "start_time": "2024-06-14T08:16:25.962Z"
   },
   {
    "duration": 17,
    "start_time": "2024-06-14T08:16:25.987Z"
   },
   {
    "duration": 10,
    "start_time": "2024-06-14T08:16:26.006Z"
   },
   {
    "duration": 7,
    "start_time": "2024-06-14T08:16:26.018Z"
   },
   {
    "duration": 8,
    "start_time": "2024-06-14T08:16:26.027Z"
   },
   {
    "duration": 8,
    "start_time": "2024-06-14T08:16:26.036Z"
   },
   {
    "duration": 2125,
    "start_time": "2024-06-14T08:16:26.046Z"
   },
   {
    "duration": 24,
    "start_time": "2024-06-14T08:16:28.173Z"
   },
   {
    "duration": 19,
    "start_time": "2024-06-14T08:16:28.199Z"
   },
   {
    "duration": 6,
    "start_time": "2024-06-14T08:16:28.220Z"
   },
   {
    "duration": 187,
    "start_time": "2024-06-14T08:16:28.229Z"
   },
   {
    "duration": 3,
    "start_time": "2024-06-14T08:16:28.417Z"
   },
   {
    "duration": 7,
    "start_time": "2024-06-14T08:16:28.421Z"
   },
   {
    "duration": 20,
    "start_time": "2024-06-14T08:16:28.430Z"
   },
   {
    "duration": 32,
    "start_time": "2024-06-14T08:16:28.452Z"
   },
   {
    "duration": 16,
    "start_time": "2024-06-14T08:16:28.486Z"
   },
   {
    "duration": 410,
    "start_time": "2024-06-14T08:16:28.504Z"
   },
   {
    "duration": 312,
    "start_time": "2024-06-14T08:16:28.916Z"
   },
   {
    "duration": 444,
    "start_time": "2024-06-14T08:16:29.230Z"
   },
   {
    "duration": 397,
    "start_time": "2024-06-14T08:16:29.676Z"
   },
   {
    "duration": 561,
    "start_time": "2024-06-14T08:16:30.074Z"
   },
   {
    "duration": 421,
    "start_time": "2024-06-14T08:16:30.637Z"
   },
   {
    "duration": 42,
    "start_time": "2024-06-14T08:16:31.060Z"
   },
   {
    "duration": 467,
    "start_time": "2024-06-14T08:16:31.104Z"
   },
   {
    "duration": 3,
    "start_time": "2024-06-14T08:16:31.573Z"
   },
   {
    "duration": 54,
    "start_time": "2024-06-14T08:16:31.578Z"
   },
   {
    "duration": 15,
    "start_time": "2024-06-14T08:16:31.635Z"
   },
   {
    "duration": 37,
    "start_time": "2024-06-14T08:16:31.652Z"
   },
   {
    "duration": 13,
    "start_time": "2024-06-14T08:16:31.692Z"
   },
   {
    "duration": 9,
    "start_time": "2024-06-14T08:16:31.707Z"
   },
   {
    "duration": 8224,
    "start_time": "2024-06-14T08:16:31.717Z"
   },
   {
    "duration": 19,
    "start_time": "2024-06-14T08:16:39.943Z"
   },
   {
    "duration": 31,
    "start_time": "2024-06-14T08:27:47.537Z"
   },
   {
    "duration": 28,
    "start_time": "2024-06-14T08:27:49.495Z"
   },
   {
    "duration": 35,
    "start_time": "2024-06-14T08:27:51.304Z"
   },
   {
    "duration": 3,
    "start_time": "2024-06-14T08:27:58.089Z"
   },
   {
    "duration": 53,
    "start_time": "2024-06-14T08:28:00.154Z"
   },
   {
    "duration": 5,
    "start_time": "2024-06-14T08:31:35.974Z"
   },
   {
    "duration": 205,
    "start_time": "2024-06-14T08:31:41.242Z"
   },
   {
    "duration": 18943,
    "start_time": "2024-06-14T08:31:59.928Z"
   },
   {
    "duration": 3650,
    "start_time": "2024-06-14T08:32:18.874Z"
   },
   {
    "duration": 3,
    "start_time": "2024-06-14T08:32:22.526Z"
   },
   {
    "duration": 21,
    "start_time": "2024-06-14T08:32:22.530Z"
   },
   {
    "duration": 217,
    "start_time": "2024-06-14T08:32:22.553Z"
   },
   {
    "duration": 0,
    "start_time": "2024-06-14T08:32:22.773Z"
   },
   {
    "duration": 0,
    "start_time": "2024-06-14T08:32:22.774Z"
   },
   {
    "duration": 0,
    "start_time": "2024-06-14T08:32:22.776Z"
   },
   {
    "duration": 0,
    "start_time": "2024-06-14T08:32:22.777Z"
   },
   {
    "duration": 0,
    "start_time": "2024-06-14T08:32:22.779Z"
   },
   {
    "duration": 0,
    "start_time": "2024-06-14T08:32:22.792Z"
   },
   {
    "duration": 0,
    "start_time": "2024-06-14T08:32:22.793Z"
   },
   {
    "duration": 0,
    "start_time": "2024-06-14T08:32:22.796Z"
   },
   {
    "duration": 0,
    "start_time": "2024-06-14T08:32:22.797Z"
   },
   {
    "duration": 0,
    "start_time": "2024-06-14T08:32:22.799Z"
   },
   {
    "duration": 0,
    "start_time": "2024-06-14T08:32:22.800Z"
   },
   {
    "duration": 1,
    "start_time": "2024-06-14T08:32:22.801Z"
   },
   {
    "duration": 0,
    "start_time": "2024-06-14T08:32:22.803Z"
   },
   {
    "duration": 0,
    "start_time": "2024-06-14T08:32:22.804Z"
   },
   {
    "duration": 0,
    "start_time": "2024-06-14T08:32:22.806Z"
   },
   {
    "duration": 0,
    "start_time": "2024-06-14T08:32:22.807Z"
   },
   {
    "duration": 0,
    "start_time": "2024-06-14T08:32:22.809Z"
   },
   {
    "duration": 0,
    "start_time": "2024-06-14T08:32:22.810Z"
   },
   {
    "duration": 0,
    "start_time": "2024-06-14T08:32:22.811Z"
   },
   {
    "duration": 0,
    "start_time": "2024-06-14T08:32:22.813Z"
   },
   {
    "duration": 0,
    "start_time": "2024-06-14T08:32:22.814Z"
   },
   {
    "duration": 0,
    "start_time": "2024-06-14T08:32:22.815Z"
   },
   {
    "duration": 0,
    "start_time": "2024-06-14T08:32:22.816Z"
   },
   {
    "duration": 0,
    "start_time": "2024-06-14T08:32:22.817Z"
   },
   {
    "duration": 0,
    "start_time": "2024-06-14T08:32:22.818Z"
   },
   {
    "duration": 0,
    "start_time": "2024-06-14T08:32:22.819Z"
   },
   {
    "duration": 0,
    "start_time": "2024-06-14T08:32:22.821Z"
   },
   {
    "duration": 0,
    "start_time": "2024-06-14T08:32:22.822Z"
   },
   {
    "duration": 0,
    "start_time": "2024-06-14T08:32:22.823Z"
   },
   {
    "duration": 0,
    "start_time": "2024-06-14T08:32:22.824Z"
   },
   {
    "duration": 0,
    "start_time": "2024-06-14T08:32:22.825Z"
   },
   {
    "duration": 0,
    "start_time": "2024-06-14T08:32:22.826Z"
   },
   {
    "duration": 0,
    "start_time": "2024-06-14T08:32:22.827Z"
   },
   {
    "duration": 0,
    "start_time": "2024-06-14T08:32:22.828Z"
   },
   {
    "duration": 0,
    "start_time": "2024-06-14T08:32:22.829Z"
   },
   {
    "duration": 0,
    "start_time": "2024-06-14T08:32:22.830Z"
   },
   {
    "duration": 0,
    "start_time": "2024-06-14T08:32:22.831Z"
   },
   {
    "duration": 0,
    "start_time": "2024-06-14T08:32:22.892Z"
   },
   {
    "duration": 0,
    "start_time": "2024-06-14T08:32:22.893Z"
   },
   {
    "duration": 0,
    "start_time": "2024-06-14T08:32:22.894Z"
   },
   {
    "duration": 0,
    "start_time": "2024-06-14T08:32:22.895Z"
   },
   {
    "duration": 0,
    "start_time": "2024-06-14T08:32:22.897Z"
   },
   {
    "duration": 0,
    "start_time": "2024-06-14T08:32:22.898Z"
   },
   {
    "duration": 0,
    "start_time": "2024-06-14T08:32:22.899Z"
   },
   {
    "duration": 0,
    "start_time": "2024-06-14T08:32:22.900Z"
   },
   {
    "duration": 0,
    "start_time": "2024-06-14T08:32:22.901Z"
   },
   {
    "duration": 0,
    "start_time": "2024-06-14T08:32:22.902Z"
   },
   {
    "duration": 0,
    "start_time": "2024-06-14T08:32:22.903Z"
   },
   {
    "duration": 3,
    "start_time": "2024-06-14T08:33:10.840Z"
   },
   {
    "duration": 16,
    "start_time": "2024-06-14T08:34:25.727Z"
   },
   {
    "duration": 84,
    "start_time": "2024-06-14T08:36:39.469Z"
   },
   {
    "duration": 89,
    "start_time": "2024-06-14T08:37:03.644Z"
   },
   {
    "duration": 15,
    "start_time": "2024-06-14T08:37:11.625Z"
   },
   {
    "duration": 18,
    "start_time": "2024-06-14T08:38:22.718Z"
   },
   {
    "duration": 3,
    "start_time": "2024-06-14T08:39:38.892Z"
   },
   {
    "duration": 16,
    "start_time": "2024-06-14T08:39:44.094Z"
   },
   {
    "duration": 18,
    "start_time": "2024-06-14T08:39:53.903Z"
   },
   {
    "duration": 5,
    "start_time": "2024-06-14T08:39:58.965Z"
   },
   {
    "duration": 65,
    "start_time": "2024-06-14T08:40:44.890Z"
   },
   {
    "duration": 15,
    "start_time": "2024-06-14T08:42:50.265Z"
   },
   {
    "duration": 32,
    "start_time": "2024-06-14T08:44:33.782Z"
   },
   {
    "duration": 29,
    "start_time": "2024-06-14T08:44:35.568Z"
   },
   {
    "duration": 36,
    "start_time": "2024-06-14T08:44:37.419Z"
   },
   {
    "duration": 2,
    "start_time": "2024-06-14T08:44:42.080Z"
   },
   {
    "duration": 64,
    "start_time": "2024-06-14T08:44:44.013Z"
   },
   {
    "duration": 76,
    "start_time": "2024-06-14T08:45:30.358Z"
   },
   {
    "duration": 19440,
    "start_time": "2024-06-14T08:48:13.682Z"
   },
   {
    "duration": 3680,
    "start_time": "2024-06-14T08:48:33.124Z"
   },
   {
    "duration": 3,
    "start_time": "2024-06-14T08:48:36.806Z"
   },
   {
    "duration": 32,
    "start_time": "2024-06-14T08:48:36.811Z"
   },
   {
    "duration": 51,
    "start_time": "2024-06-14T08:48:36.845Z"
   },
   {
    "duration": 18,
    "start_time": "2024-06-14T08:48:36.898Z"
   },
   {
    "duration": 29,
    "start_time": "2024-06-14T08:48:36.918Z"
   },
   {
    "duration": 4,
    "start_time": "2024-06-14T08:48:36.949Z"
   },
   {
    "duration": 65,
    "start_time": "2024-06-14T08:48:36.955Z"
   },
   {
    "duration": 10,
    "start_time": "2024-06-14T08:48:37.023Z"
   },
   {
    "duration": 47,
    "start_time": "2024-06-14T08:48:37.034Z"
   },
   {
    "duration": 12,
    "start_time": "2024-06-14T08:48:37.083Z"
   },
   {
    "duration": 19,
    "start_time": "2024-06-14T08:48:37.096Z"
   },
   {
    "duration": 33,
    "start_time": "2024-06-14T08:48:37.117Z"
   },
   {
    "duration": 25,
    "start_time": "2024-06-14T08:48:37.154Z"
   },
   {
    "duration": 11,
    "start_time": "2024-06-14T08:48:37.182Z"
   },
   {
    "duration": 16,
    "start_time": "2024-06-14T08:48:37.195Z"
   },
   {
    "duration": 18,
    "start_time": "2024-06-14T08:48:37.213Z"
   },
   {
    "duration": 1802,
    "start_time": "2024-06-14T08:48:37.232Z"
   },
   {
    "duration": 21,
    "start_time": "2024-06-14T08:48:39.036Z"
   },
   {
    "duration": 12,
    "start_time": "2024-06-14T08:48:39.058Z"
   },
   {
    "duration": 3,
    "start_time": "2024-06-14T08:48:39.091Z"
   },
   {
    "duration": 8,
    "start_time": "2024-06-14T08:48:39.096Z"
   },
   {
    "duration": 5,
    "start_time": "2024-06-14T08:48:39.105Z"
   },
   {
    "duration": 9,
    "start_time": "2024-06-14T08:48:39.112Z"
   },
   {
    "duration": 2067,
    "start_time": "2024-06-14T08:48:39.122Z"
   },
   {
    "duration": 21,
    "start_time": "2024-06-14T08:48:41.191Z"
   },
   {
    "duration": 22,
    "start_time": "2024-06-14T08:48:41.217Z"
   },
   {
    "duration": 27,
    "start_time": "2024-06-14T08:48:41.241Z"
   },
   {
    "duration": 59,
    "start_time": "2024-06-14T08:48:41.270Z"
   },
   {
    "duration": 3,
    "start_time": "2024-06-14T08:48:41.331Z"
   },
   {
    "duration": 4,
    "start_time": "2024-06-14T08:48:41.336Z"
   },
   {
    "duration": 7,
    "start_time": "2024-06-14T08:48:41.342Z"
   },
   {
    "duration": 24,
    "start_time": "2024-06-14T08:48:41.351Z"
   },
   {
    "duration": 15,
    "start_time": "2024-06-14T08:48:41.377Z"
   },
   {
    "duration": 423,
    "start_time": "2024-06-14T08:48:41.393Z"
   },
   {
    "duration": 355,
    "start_time": "2024-06-14T08:48:41.818Z"
   },
   {
    "duration": 406,
    "start_time": "2024-06-14T08:48:42.175Z"
   },
   {
    "duration": 368,
    "start_time": "2024-06-14T08:48:42.582Z"
   },
   {
    "duration": 380,
    "start_time": "2024-06-14T08:48:42.952Z"
   },
   {
    "duration": 393,
    "start_time": "2024-06-14T08:48:43.334Z"
   },
   {
    "duration": 30,
    "start_time": "2024-06-14T08:48:43.729Z"
   },
   {
    "duration": 579,
    "start_time": "2024-06-14T08:48:43.760Z"
   },
   {
    "duration": 3,
    "start_time": "2024-06-14T08:48:44.340Z"
   },
   {
    "duration": 49,
    "start_time": "2024-06-14T08:48:44.344Z"
   },
   {
    "duration": 5,
    "start_time": "2024-06-14T08:48:44.395Z"
   },
   {
    "duration": 16,
    "start_time": "2024-06-14T08:48:44.401Z"
   },
   {
    "duration": 3,
    "start_time": "2024-06-14T08:48:44.419Z"
   },
   {
    "duration": 16,
    "start_time": "2024-06-14T08:48:44.424Z"
   },
   {
    "duration": 8373,
    "start_time": "2024-06-14T08:48:44.442Z"
   },
   {
    "duration": 19,
    "start_time": "2024-06-14T08:48:52.816Z"
   },
   {
    "duration": 50,
    "start_time": "2024-06-14T15:21:46.622Z"
   },
   {
    "duration": 53721,
    "start_time": "2024-06-14T15:21:57.634Z"
   },
   {
    "duration": 3819,
    "start_time": "2024-06-14T15:22:51.359Z"
   },
   {
    "duration": 3,
    "start_time": "2024-06-14T15:22:55.180Z"
   },
   {
    "duration": 61,
    "start_time": "2024-06-14T15:22:55.185Z"
   },
   {
    "duration": 85,
    "start_time": "2024-06-14T15:22:55.249Z"
   },
   {
    "duration": 63,
    "start_time": "2024-06-14T15:22:55.336Z"
   },
   {
    "duration": 81,
    "start_time": "2024-06-14T15:22:55.401Z"
   },
   {
    "duration": 3,
    "start_time": "2024-06-14T15:22:55.483Z"
   },
   {
    "duration": 65,
    "start_time": "2024-06-14T15:22:55.488Z"
   },
   {
    "duration": 10,
    "start_time": "2024-06-14T15:22:55.555Z"
   },
   {
    "duration": 14,
    "start_time": "2024-06-14T15:22:55.566Z"
   },
   {
    "duration": 2,
    "start_time": "2024-06-14T15:22:55.582Z"
   },
   {
    "duration": 4,
    "start_time": "2024-06-14T15:22:55.586Z"
   },
   {
    "duration": 11,
    "start_time": "2024-06-14T15:22:55.594Z"
   },
   {
    "duration": 25,
    "start_time": "2024-06-14T15:22:55.607Z"
   },
   {
    "duration": 15,
    "start_time": "2024-06-14T15:22:55.634Z"
   },
   {
    "duration": 41,
    "start_time": "2024-06-14T15:22:55.651Z"
   },
   {
    "duration": 10,
    "start_time": "2024-06-14T15:22:55.694Z"
   },
   {
    "duration": 1656,
    "start_time": "2024-06-14T15:22:55.706Z"
   },
   {
    "duration": 20,
    "start_time": "2024-06-14T15:22:57.364Z"
   },
   {
    "duration": 12,
    "start_time": "2024-06-14T15:22:57.386Z"
   },
   {
    "duration": 4,
    "start_time": "2024-06-14T15:22:57.400Z"
   },
   {
    "duration": 6,
    "start_time": "2024-06-14T15:22:57.406Z"
   },
   {
    "duration": 7,
    "start_time": "2024-06-14T15:22:57.413Z"
   },
   {
    "duration": 8,
    "start_time": "2024-06-14T15:22:57.421Z"
   },
   {
    "duration": 1935,
    "start_time": "2024-06-14T15:22:57.461Z"
   },
   {
    "duration": 19,
    "start_time": "2024-06-14T15:22:59.398Z"
   },
   {
    "duration": 25,
    "start_time": "2024-06-14T15:22:59.419Z"
   },
   {
    "duration": 18,
    "start_time": "2024-06-14T15:22:59.446Z"
   },
   {
    "duration": 151,
    "start_time": "2024-06-14T15:22:59.465Z"
   },
   {
    "duration": 2,
    "start_time": "2024-06-14T15:22:59.618Z"
   },
   {
    "duration": 4,
    "start_time": "2024-06-14T15:22:59.622Z"
   },
   {
    "duration": 5,
    "start_time": "2024-06-14T15:22:59.627Z"
   },
   {
    "duration": 9,
    "start_time": "2024-06-14T15:22:59.633Z"
   },
   {
    "duration": 19,
    "start_time": "2024-06-14T15:22:59.643Z"
   },
   {
    "duration": 459,
    "start_time": "2024-06-14T15:22:59.664Z"
   },
   {
    "duration": 347,
    "start_time": "2024-06-14T15:23:00.125Z"
   },
   {
    "duration": 418,
    "start_time": "2024-06-14T15:23:00.474Z"
   },
   {
    "duration": 446,
    "start_time": "2024-06-14T15:23:00.894Z"
   },
   {
    "duration": 544,
    "start_time": "2024-06-14T15:23:01.342Z"
   },
   {
    "duration": 406,
    "start_time": "2024-06-14T15:23:01.891Z"
   },
   {
    "duration": 30,
    "start_time": "2024-06-14T15:23:02.298Z"
   },
   {
    "duration": 423,
    "start_time": "2024-06-14T15:23:02.329Z"
   },
   {
    "duration": 7,
    "start_time": "2024-06-14T15:23:02.754Z"
   },
   {
    "duration": 46,
    "start_time": "2024-06-14T15:23:02.763Z"
   },
   {
    "duration": 5,
    "start_time": "2024-06-14T15:23:02.811Z"
   },
   {
    "duration": 39,
    "start_time": "2024-06-14T15:23:02.817Z"
   },
   {
    "duration": 3,
    "start_time": "2024-06-14T15:23:02.858Z"
   },
   {
    "duration": 10,
    "start_time": "2024-06-14T15:23:02.863Z"
   },
   {
    "duration": 8334,
    "start_time": "2024-06-14T15:23:02.875Z"
   },
   {
    "duration": 23,
    "start_time": "2024-06-14T15:23:11.211Z"
   },
   {
    "duration": 1246,
    "start_time": "2024-06-14T15:24:47.236Z"
   },
   {
    "duration": 1216,
    "start_time": "2024-06-14T15:29:53.861Z"
   },
   {
    "duration": 5,
    "start_time": "2024-06-14T15:36:59.006Z"
   },
   {
    "duration": 3,
    "start_time": "2024-06-14T15:38:46.392Z"
   },
   {
    "duration": 6,
    "start_time": "2024-06-14T15:38:52.154Z"
   },
   {
    "duration": 19982,
    "start_time": "2024-06-14T15:40:08.175Z"
   },
   {
    "duration": 3652,
    "start_time": "2024-06-14T15:40:28.159Z"
   },
   {
    "duration": 3,
    "start_time": "2024-06-14T15:40:31.813Z"
   },
   {
    "duration": 94,
    "start_time": "2024-06-14T15:40:31.818Z"
   },
   {
    "duration": 38,
    "start_time": "2024-06-14T15:40:31.914Z"
   },
   {
    "duration": 19,
    "start_time": "2024-06-14T15:40:31.954Z"
   },
   {
    "duration": 27,
    "start_time": "2024-06-14T15:40:31.975Z"
   },
   {
    "duration": 3,
    "start_time": "2024-06-14T15:40:32.004Z"
   },
   {
    "duration": 60,
    "start_time": "2024-06-14T15:40:32.009Z"
   },
   {
    "duration": 12,
    "start_time": "2024-06-14T15:40:32.070Z"
   },
   {
    "duration": 15,
    "start_time": "2024-06-14T15:40:32.083Z"
   },
   {
    "duration": 3,
    "start_time": "2024-06-14T15:40:32.100Z"
   },
   {
    "duration": 4,
    "start_time": "2024-06-14T15:40:32.105Z"
   },
   {
    "duration": 3,
    "start_time": "2024-06-14T15:40:32.112Z"
   },
   {
    "duration": 48,
    "start_time": "2024-06-14T15:40:32.118Z"
   },
   {
    "duration": 5,
    "start_time": "2024-06-14T15:40:32.167Z"
   },
   {
    "duration": 6,
    "start_time": "2024-06-14T15:40:32.174Z"
   },
   {
    "duration": 5,
    "start_time": "2024-06-14T15:40:32.182Z"
   },
   {
    "duration": 1634,
    "start_time": "2024-06-14T15:40:32.189Z"
   },
   {
    "duration": 1253,
    "start_time": "2024-06-14T15:40:33.825Z"
   },
   {
    "duration": 20,
    "start_time": "2024-06-14T15:40:35.080Z"
   },
   {
    "duration": 26,
    "start_time": "2024-06-14T15:40:35.102Z"
   },
   {
    "duration": 15,
    "start_time": "2024-06-14T15:40:35.129Z"
   },
   {
    "duration": 15,
    "start_time": "2024-06-14T15:40:35.146Z"
   },
   {
    "duration": 17,
    "start_time": "2024-06-14T15:40:35.162Z"
   },
   {
    "duration": 21,
    "start_time": "2024-06-14T15:40:35.181Z"
   },
   {
    "duration": 2121,
    "start_time": "2024-06-14T15:40:35.204Z"
   },
   {
    "duration": 20,
    "start_time": "2024-06-14T15:40:37.326Z"
   },
   {
    "duration": 20,
    "start_time": "2024-06-14T15:40:37.362Z"
   },
   {
    "duration": 7,
    "start_time": "2024-06-14T15:40:37.383Z"
   },
   {
    "duration": 66,
    "start_time": "2024-06-14T15:40:37.392Z"
   },
   {
    "duration": 3,
    "start_time": "2024-06-14T15:40:37.460Z"
   },
   {
    "duration": 7,
    "start_time": "2024-06-14T15:40:37.466Z"
   },
   {
    "duration": 8,
    "start_time": "2024-06-14T15:40:37.475Z"
   },
   {
    "duration": 6,
    "start_time": "2024-06-14T15:40:37.486Z"
   },
   {
    "duration": 10,
    "start_time": "2024-06-14T15:40:37.495Z"
   },
   {
    "duration": 517,
    "start_time": "2024-06-14T15:40:37.507Z"
   },
   {
    "duration": 248,
    "start_time": "2024-06-14T15:40:38.026Z"
   },
   {
    "duration": 0,
    "start_time": "2024-06-14T15:40:38.276Z"
   },
   {
    "duration": 0,
    "start_time": "2024-06-14T15:40:38.278Z"
   },
   {
    "duration": 0,
    "start_time": "2024-06-14T15:40:38.280Z"
   },
   {
    "duration": 0,
    "start_time": "2024-06-14T15:40:38.281Z"
   },
   {
    "duration": 0,
    "start_time": "2024-06-14T15:40:38.282Z"
   },
   {
    "duration": 0,
    "start_time": "2024-06-14T15:40:38.283Z"
   },
   {
    "duration": 0,
    "start_time": "2024-06-14T15:40:38.284Z"
   },
   {
    "duration": 0,
    "start_time": "2024-06-14T15:40:38.286Z"
   },
   {
    "duration": 0,
    "start_time": "2024-06-14T15:40:38.287Z"
   },
   {
    "duration": 0,
    "start_time": "2024-06-14T15:40:38.288Z"
   },
   {
    "duration": 0,
    "start_time": "2024-06-14T15:40:38.289Z"
   },
   {
    "duration": 0,
    "start_time": "2024-06-14T15:40:38.290Z"
   },
   {
    "duration": 0,
    "start_time": "2024-06-14T15:40:38.291Z"
   },
   {
    "duration": 0,
    "start_time": "2024-06-14T15:40:38.292Z"
   },
   {
    "duration": 0,
    "start_time": "2024-06-14T15:40:38.293Z"
   },
   {
    "duration": 11,
    "start_time": "2024-06-14T15:41:02.981Z"
   },
   {
    "duration": 355,
    "start_time": "2024-06-14T15:45:03.740Z"
   },
   {
    "duration": 459,
    "start_time": "2024-06-14T15:45:12.514Z"
   },
   {
    "duration": 437,
    "start_time": "2024-06-14T15:45:17.282Z"
   },
   {
    "duration": 7,
    "start_time": "2024-06-14T15:47:26.669Z"
   },
   {
    "duration": 10,
    "start_time": "2024-06-14T15:47:36.011Z"
   },
   {
    "duration": 26,
    "start_time": "2024-06-14T15:49:50.157Z"
   },
   {
    "duration": 20,
    "start_time": "2024-06-14T15:50:28.647Z"
   },
   {
    "duration": 13,
    "start_time": "2024-06-14T15:54:34.144Z"
   },
   {
    "duration": 10,
    "start_time": "2024-06-14T15:54:52.326Z"
   },
   {
    "duration": 14,
    "start_time": "2024-06-14T15:55:04.503Z"
   },
   {
    "duration": 11,
    "start_time": "2024-06-14T15:56:11.542Z"
   },
   {
    "duration": 10,
    "start_time": "2024-06-14T15:56:27.289Z"
   },
   {
    "duration": 24,
    "start_time": "2024-06-14T15:56:38.506Z"
   },
   {
    "duration": 13,
    "start_time": "2024-06-14T15:56:59.982Z"
   },
   {
    "duration": 11,
    "start_time": "2024-06-14T15:57:18.116Z"
   },
   {
    "duration": 10,
    "start_time": "2024-06-14T15:58:36.287Z"
   },
   {
    "duration": 13,
    "start_time": "2024-06-14T15:58:47.442Z"
   },
   {
    "duration": 15,
    "start_time": "2024-06-14T15:59:17.942Z"
   },
   {
    "duration": 16,
    "start_time": "2024-06-14T16:02:37.435Z"
   },
   {
    "duration": 18,
    "start_time": "2024-06-14T16:02:51.342Z"
   },
   {
    "duration": 381,
    "start_time": "2024-06-14T16:05:43.302Z"
   },
   {
    "duration": 24,
    "start_time": "2024-06-14T16:06:42.775Z"
   },
   {
    "duration": 18,
    "start_time": "2024-06-14T16:07:45.531Z"
   },
   {
    "duration": 17,
    "start_time": "2024-06-14T16:11:18.335Z"
   },
   {
    "duration": 17,
    "start_time": "2024-06-14T16:11:41.574Z"
   },
   {
    "duration": 375,
    "start_time": "2024-06-14T16:13:20.832Z"
   },
   {
    "duration": 21,
    "start_time": "2024-06-14T16:14:21.072Z"
   },
   {
    "duration": 27,
    "start_time": "2024-06-14T16:16:29.225Z"
   },
   {
    "duration": 17,
    "start_time": "2024-06-14T16:16:38.500Z"
   },
   {
    "duration": 19,
    "start_time": "2024-06-14T16:19:01.993Z"
   },
   {
    "duration": 4,
    "start_time": "2024-06-14T16:21:39.241Z"
   },
   {
    "duration": 4,
    "start_time": "2024-06-14T16:22:39.536Z"
   },
   {
    "duration": 14,
    "start_time": "2024-06-14T16:23:16.055Z"
   },
   {
    "duration": 3,
    "start_time": "2024-06-14T16:23:35.963Z"
   },
   {
    "duration": 12,
    "start_time": "2024-06-14T16:23:39.990Z"
   },
   {
    "duration": 5,
    "start_time": "2024-06-14T16:24:57.033Z"
   },
   {
    "duration": 31,
    "start_time": "2024-06-14T16:25:01.190Z"
   },
   {
    "duration": 4,
    "start_time": "2024-06-14T16:25:14.280Z"
   },
   {
    "duration": 17,
    "start_time": "2024-06-14T16:25:17.419Z"
   },
   {
    "duration": 12,
    "start_time": "2024-06-14T16:25:56.591Z"
   },
   {
    "duration": 14,
    "start_time": "2024-06-14T16:26:16.402Z"
   },
   {
    "duration": 12,
    "start_time": "2024-06-14T16:26:34.636Z"
   },
   {
    "duration": 4,
    "start_time": "2024-06-14T16:27:38.232Z"
   },
   {
    "duration": 15,
    "start_time": "2024-06-14T16:27:41.323Z"
   },
   {
    "duration": 16,
    "start_time": "2024-06-14T16:27:47.722Z"
   },
   {
    "duration": 16,
    "start_time": "2024-06-14T16:27:50.987Z"
   },
   {
    "duration": 16,
    "start_time": "2024-06-14T16:27:53.968Z"
   },
   {
    "duration": 389,
    "start_time": "2024-06-14T16:41:38.643Z"
   },
   {
    "duration": 13,
    "start_time": "2024-06-14T16:42:24.903Z"
   },
   {
    "duration": 22,
    "start_time": "2024-06-14T16:42:43.960Z"
   },
   {
    "duration": 17,
    "start_time": "2024-06-14T16:43:22.671Z"
   },
   {
    "duration": 61,
    "start_time": "2024-06-14T16:43:56.935Z"
   },
   {
    "duration": 17,
    "start_time": "2024-06-14T16:47:00.310Z"
   },
   {
    "duration": 60,
    "start_time": "2024-06-14T16:47:41.041Z"
   },
   {
    "duration": 18,
    "start_time": "2024-06-14T16:47:56.868Z"
   },
   {
    "duration": 20,
    "start_time": "2024-06-14T16:48:44.502Z"
   },
   {
    "duration": 30,
    "start_time": "2024-06-14T16:51:34.955Z"
   },
   {
    "duration": 17,
    "start_time": "2024-06-14T16:51:40.219Z"
   },
   {
    "duration": 39,
    "start_time": "2024-06-14T16:52:03.689Z"
   },
   {
    "duration": 18,
    "start_time": "2024-06-14T16:52:38.174Z"
   },
   {
    "duration": 29,
    "start_time": "2024-06-14T16:53:09.361Z"
   },
   {
    "duration": 17,
    "start_time": "2024-06-14T16:53:21.010Z"
   },
   {
    "duration": 4,
    "start_time": "2024-06-14T16:53:59.391Z"
   },
   {
    "duration": 27,
    "start_time": "2024-06-14T16:54:02.910Z"
   },
   {
    "duration": 16,
    "start_time": "2024-06-14T16:54:20.337Z"
   },
   {
    "duration": 5,
    "start_time": "2024-06-14T16:54:44.178Z"
   },
   {
    "duration": 18,
    "start_time": "2024-06-14T16:54:55.554Z"
   },
   {
    "duration": 28,
    "start_time": "2024-06-14T16:55:47.859Z"
   },
   {
    "duration": 36,
    "start_time": "2024-06-14T16:56:01.109Z"
   },
   {
    "duration": 17,
    "start_time": "2024-06-14T16:56:08.120Z"
   },
   {
    "duration": 17,
    "start_time": "2024-06-14T16:56:23.725Z"
   },
   {
    "duration": 419,
    "start_time": "2024-06-14T16:57:05.365Z"
   },
   {
    "duration": 67,
    "start_time": "2024-06-14T17:00:23.632Z"
   },
   {
    "duration": 32,
    "start_time": "2024-06-14T17:04:38.090Z"
   },
   {
    "duration": 374,
    "start_time": "2024-06-14T17:04:42.693Z"
   },
   {
    "duration": 399,
    "start_time": "2024-06-14T17:06:02.080Z"
   },
   {
    "duration": 18276,
    "start_time": "2024-06-14T17:08:42.505Z"
   },
   {
    "duration": 3689,
    "start_time": "2024-06-14T17:09:00.784Z"
   },
   {
    "duration": 3,
    "start_time": "2024-06-14T17:09:04.475Z"
   },
   {
    "duration": 7,
    "start_time": "2024-06-14T17:09:04.479Z"
   },
   {
    "duration": 42,
    "start_time": "2024-06-14T17:09:04.489Z"
   },
   {
    "duration": 19,
    "start_time": "2024-06-14T17:09:04.532Z"
   },
   {
    "duration": 28,
    "start_time": "2024-06-14T17:09:04.552Z"
   },
   {
    "duration": 4,
    "start_time": "2024-06-14T17:09:04.581Z"
   },
   {
    "duration": 64,
    "start_time": "2024-06-14T17:09:04.587Z"
   },
   {
    "duration": 13,
    "start_time": "2024-06-14T17:09:04.660Z"
   },
   {
    "duration": 15,
    "start_time": "2024-06-14T17:09:04.675Z"
   },
   {
    "duration": 3,
    "start_time": "2024-06-14T17:09:04.692Z"
   },
   {
    "duration": 5,
    "start_time": "2024-06-14T17:09:04.697Z"
   },
   {
    "duration": 3,
    "start_time": "2024-06-14T17:09:04.705Z"
   },
   {
    "duration": 50,
    "start_time": "2024-06-14T17:09:04.711Z"
   },
   {
    "duration": 5,
    "start_time": "2024-06-14T17:09:04.763Z"
   },
   {
    "duration": 13,
    "start_time": "2024-06-14T17:09:04.770Z"
   },
   {
    "duration": 15,
    "start_time": "2024-06-14T17:09:04.785Z"
   },
   {
    "duration": 1644,
    "start_time": "2024-06-14T17:09:04.802Z"
   },
   {
    "duration": 1256,
    "start_time": "2024-06-14T17:09:06.448Z"
   },
   {
    "duration": 20,
    "start_time": "2024-06-14T17:09:07.706Z"
   },
   {
    "duration": 12,
    "start_time": "2024-06-14T17:09:07.728Z"
   },
   {
    "duration": 4,
    "start_time": "2024-06-14T17:09:07.760Z"
   },
   {
    "duration": 12,
    "start_time": "2024-06-14T17:09:07.765Z"
   },
   {
    "duration": 9,
    "start_time": "2024-06-14T17:09:07.779Z"
   },
   {
    "duration": 18,
    "start_time": "2024-06-14T17:09:07.789Z"
   },
   {
    "duration": 2023,
    "start_time": "2024-06-14T17:09:07.809Z"
   },
   {
    "duration": 41,
    "start_time": "2024-06-14T17:09:09.835Z"
   },
   {
    "duration": 21,
    "start_time": "2024-06-14T17:09:09.879Z"
   },
   {
    "duration": 6,
    "start_time": "2024-06-14T17:09:09.901Z"
   },
   {
    "duration": 57,
    "start_time": "2024-06-14T17:09:09.909Z"
   },
   {
    "duration": 3,
    "start_time": "2024-06-14T17:09:09.967Z"
   },
   {
    "duration": 5,
    "start_time": "2024-06-14T17:09:09.972Z"
   },
   {
    "duration": 5,
    "start_time": "2024-06-14T17:09:09.979Z"
   },
   {
    "duration": 6,
    "start_time": "2024-06-14T17:09:09.985Z"
   },
   {
    "duration": 6,
    "start_time": "2024-06-14T17:09:09.993Z"
   },
   {
    "duration": 43,
    "start_time": "2024-06-14T17:09:10.000Z"
   },
   {
    "duration": 458,
    "start_time": "2024-06-14T17:09:10.045Z"
   },
   {
    "duration": 15,
    "start_time": "2024-06-14T17:09:10.504Z"
   },
   {
    "duration": 343,
    "start_time": "2024-06-14T17:09:10.520Z"
   },
   {
    "duration": 383,
    "start_time": "2024-06-14T17:09:10.867Z"
   },
   {
    "duration": 18,
    "start_time": "2024-06-14T17:09:11.251Z"
   },
   {
    "duration": 384,
    "start_time": "2024-06-14T17:09:11.271Z"
   },
   {
    "duration": 16,
    "start_time": "2024-06-14T17:09:11.661Z"
   },
   {
    "duration": 373,
    "start_time": "2024-06-14T17:09:11.679Z"
   },
   {
    "duration": 16,
    "start_time": "2024-06-14T17:09:12.060Z"
   },
   {
    "duration": 525,
    "start_time": "2024-06-14T17:09:12.078Z"
   },
   {
    "duration": 28,
    "start_time": "2024-06-14T17:09:12.605Z"
   },
   {
    "duration": 400,
    "start_time": "2024-06-14T17:09:12.635Z"
   },
   {
    "duration": 3,
    "start_time": "2024-06-14T17:09:13.037Z"
   },
   {
    "duration": 44,
    "start_time": "2024-06-14T17:09:13.041Z"
   },
   {
    "duration": 5,
    "start_time": "2024-06-14T17:09:13.087Z"
   },
   {
    "duration": 79,
    "start_time": "2024-06-14T17:09:13.094Z"
   },
   {
    "duration": 6,
    "start_time": "2024-06-14T17:09:13.174Z"
   },
   {
    "duration": 14,
    "start_time": "2024-06-14T17:09:13.182Z"
   },
   {
    "duration": 8227,
    "start_time": "2024-06-14T17:09:13.198Z"
   },
   {
    "duration": 17,
    "start_time": "2024-06-14T17:09:21.427Z"
   },
   {
    "duration": 37,
    "start_time": "2024-06-14T17:11:51.859Z"
   },
   {
    "duration": 41,
    "start_time": "2024-06-14T17:12:47.106Z"
   },
   {
    "duration": 3,
    "start_time": "2024-06-14T17:14:04.335Z"
   },
   {
    "duration": 204,
    "start_time": "2024-06-14T17:14:25.176Z"
   },
   {
    "duration": 33,
    "start_time": "2024-06-14T17:14:46.601Z"
   },
   {
    "duration": 38,
    "start_time": "2024-06-14T17:14:48.382Z"
   },
   {
    "duration": 2,
    "start_time": "2024-06-14T17:14:50.102Z"
   },
   {
    "duration": 34,
    "start_time": "2024-06-14T17:14:52.272Z"
   },
   {
    "duration": 14,
    "start_time": "2024-06-14T17:15:26.382Z"
   },
   {
    "duration": 4,
    "start_time": "2024-06-14T17:18:29.075Z"
   },
   {
    "duration": 1501,
    "start_time": "2024-06-14T17:19:41.790Z"
   },
   {
    "duration": 18446,
    "start_time": "2024-06-14T17:22:50.999Z"
   },
   {
    "duration": 3585,
    "start_time": "2024-06-14T17:23:09.447Z"
   },
   {
    "duration": 3,
    "start_time": "2024-06-14T17:23:13.034Z"
   },
   {
    "duration": 9,
    "start_time": "2024-06-14T17:23:13.038Z"
   },
   {
    "duration": 41,
    "start_time": "2024-06-14T17:23:13.050Z"
   },
   {
    "duration": 19,
    "start_time": "2024-06-14T17:23:13.093Z"
   },
   {
    "duration": 28,
    "start_time": "2024-06-14T17:23:13.114Z"
   },
   {
    "duration": 4,
    "start_time": "2024-06-14T17:23:13.143Z"
   },
   {
    "duration": 71,
    "start_time": "2024-06-14T17:23:13.148Z"
   },
   {
    "duration": 11,
    "start_time": "2024-06-14T17:23:13.220Z"
   },
   {
    "duration": 32,
    "start_time": "2024-06-14T17:23:13.232Z"
   },
   {
    "duration": 3,
    "start_time": "2024-06-14T17:23:13.265Z"
   },
   {
    "duration": 28,
    "start_time": "2024-06-14T17:23:13.270Z"
   },
   {
    "duration": 4,
    "start_time": "2024-06-14T17:23:13.301Z"
   },
   {
    "duration": 14,
    "start_time": "2024-06-14T17:23:13.307Z"
   },
   {
    "duration": 5,
    "start_time": "2024-06-14T17:23:13.323Z"
   },
   {
    "duration": 5,
    "start_time": "2024-06-14T17:23:13.330Z"
   },
   {
    "duration": 18,
    "start_time": "2024-06-14T17:23:13.337Z"
   },
   {
    "duration": 1682,
    "start_time": "2024-06-14T17:23:13.356Z"
   },
   {
    "duration": 1245,
    "start_time": "2024-06-14T17:23:15.040Z"
   },
   {
    "duration": 20,
    "start_time": "2024-06-14T17:23:16.286Z"
   },
   {
    "duration": 23,
    "start_time": "2024-06-14T17:23:16.307Z"
   },
   {
    "duration": 25,
    "start_time": "2024-06-14T17:23:16.331Z"
   },
   {
    "duration": 37,
    "start_time": "2024-06-14T17:23:16.358Z"
   },
   {
    "duration": 41,
    "start_time": "2024-06-14T17:23:16.397Z"
   },
   {
    "duration": 44,
    "start_time": "2024-06-14T17:23:16.439Z"
   },
   {
    "duration": 2180,
    "start_time": "2024-06-14T17:23:16.484Z"
   },
   {
    "duration": 18,
    "start_time": "2024-06-14T17:23:18.666Z"
   },
   {
    "duration": 30,
    "start_time": "2024-06-14T17:23:18.685Z"
   },
   {
    "duration": 5,
    "start_time": "2024-06-14T17:23:18.717Z"
   },
   {
    "duration": 6,
    "start_time": "2024-06-14T17:23:18.724Z"
   },
   {
    "duration": 35,
    "start_time": "2024-06-14T17:23:18.732Z"
   },
   {
    "duration": 27,
    "start_time": "2024-06-14T17:23:18.769Z"
   },
   {
    "duration": 18,
    "start_time": "2024-06-14T17:23:18.798Z"
   },
   {
    "duration": 41,
    "start_time": "2024-06-14T17:23:18.818Z"
   },
   {
    "duration": 11,
    "start_time": "2024-06-14T17:23:18.861Z"
   },
   {
    "duration": 77,
    "start_time": "2024-06-14T17:23:18.874Z"
   },
   {
    "duration": 8,
    "start_time": "2024-06-14T17:23:18.953Z"
   },
   {
    "duration": 11,
    "start_time": "2024-06-14T17:23:18.962Z"
   },
   {
    "duration": 1430,
    "start_time": "2024-06-14T17:23:18.974Z"
   },
   {
    "duration": 6,
    "start_time": "2024-06-14T17:23:20.408Z"
   },
   {
    "duration": 19,
    "start_time": "2024-06-14T17:23:20.415Z"
   },
   {
    "duration": 19,
    "start_time": "2024-06-14T17:23:20.436Z"
   },
   {
    "duration": 417,
    "start_time": "2024-06-14T17:23:20.457Z"
   },
   {
    "duration": 15,
    "start_time": "2024-06-14T17:23:20.876Z"
   },
   {
    "duration": 363,
    "start_time": "2024-06-14T17:23:20.893Z"
   },
   {
    "duration": 382,
    "start_time": "2024-06-14T17:23:21.261Z"
   },
   {
    "duration": 24,
    "start_time": "2024-06-14T17:23:21.644Z"
   },
   {
    "duration": 394,
    "start_time": "2024-06-14T17:23:21.670Z"
   },
   {
    "duration": 16,
    "start_time": "2024-06-14T17:23:22.066Z"
   },
   {
    "duration": 527,
    "start_time": "2024-06-14T17:23:22.084Z"
   },
   {
    "duration": 16,
    "start_time": "2024-06-14T17:23:22.612Z"
   },
   {
    "duration": 368,
    "start_time": "2024-06-14T17:23:22.629Z"
   },
   {
    "duration": 29,
    "start_time": "2024-06-14T17:23:22.999Z"
   },
   {
    "duration": 401,
    "start_time": "2024-06-14T17:23:23.030Z"
   },
   {
    "duration": 3,
    "start_time": "2024-06-14T17:23:23.432Z"
   },
   {
    "duration": 57,
    "start_time": "2024-06-14T17:23:23.436Z"
   },
   {
    "duration": 6,
    "start_time": "2024-06-14T17:23:23.494Z"
   },
   {
    "duration": 16,
    "start_time": "2024-06-14T17:23:23.502Z"
   },
   {
    "duration": 6,
    "start_time": "2024-06-14T17:23:23.519Z"
   },
   {
    "duration": 12,
    "start_time": "2024-06-14T17:23:23.527Z"
   },
   {
    "duration": 8090,
    "start_time": "2024-06-14T17:23:23.541Z"
   },
   {
    "duration": 18,
    "start_time": "2024-06-14T17:23:31.633Z"
   },
   {
    "duration": 48,
    "start_time": "2024-06-16T15:34:49.938Z"
   },
   {
    "duration": 51514,
    "start_time": "2024-06-16T15:41:29.067Z"
   },
   {
    "duration": 3764,
    "start_time": "2024-06-16T15:42:20.584Z"
   },
   {
    "duration": 5,
    "start_time": "2024-06-16T15:42:24.350Z"
   },
   {
    "duration": 29,
    "start_time": "2024-06-16T15:42:24.357Z"
   },
   {
    "duration": 148,
    "start_time": "2024-06-16T15:42:24.388Z"
   },
   {
    "duration": 72,
    "start_time": "2024-06-16T15:42:24.538Z"
   },
   {
    "duration": 66,
    "start_time": "2024-06-16T15:42:24.612Z"
   },
   {
    "duration": 3,
    "start_time": "2024-06-16T15:42:24.680Z"
   },
   {
    "duration": 69,
    "start_time": "2024-06-16T15:42:24.685Z"
   },
   {
    "duration": 10,
    "start_time": "2024-06-16T15:42:24.755Z"
   },
   {
    "duration": 23,
    "start_time": "2024-06-16T15:42:24.767Z"
   },
   {
    "duration": 7,
    "start_time": "2024-06-16T15:42:24.792Z"
   },
   {
    "duration": 14,
    "start_time": "2024-06-16T15:42:24.801Z"
   },
   {
    "duration": 15,
    "start_time": "2024-06-16T15:42:24.818Z"
   },
   {
    "duration": 6,
    "start_time": "2024-06-16T15:42:24.834Z"
   },
   {
    "duration": 14064,
    "start_time": "2024-06-16T15:42:24.842Z"
   },
   {
    "duration": 10263,
    "start_time": "2024-06-16T15:42:38.907Z"
   },
   {
    "duration": 3725,
    "start_time": "2024-06-16T15:42:49.172Z"
   },
   {
    "duration": 1620,
    "start_time": "2024-06-16T15:42:52.899Z"
   },
   {
    "duration": 1251,
    "start_time": "2024-06-16T15:42:54.521Z"
   },
   {
    "duration": 20,
    "start_time": "2024-06-16T15:42:55.774Z"
   },
   {
    "duration": 15,
    "start_time": "2024-06-16T15:42:55.795Z"
   },
   {
    "duration": 18,
    "start_time": "2024-06-16T15:42:55.812Z"
   },
   {
    "duration": 14,
    "start_time": "2024-06-16T15:42:55.832Z"
   },
   {
    "duration": 9,
    "start_time": "2024-06-16T15:42:55.848Z"
   },
   {
    "duration": 19,
    "start_time": "2024-06-16T15:42:55.859Z"
   },
   {
    "duration": 2781,
    "start_time": "2024-06-16T15:42:55.880Z"
   },
   {
    "duration": 19,
    "start_time": "2024-06-16T15:42:58.663Z"
   },
   {
    "duration": 81,
    "start_time": "2024-06-16T15:42:58.684Z"
   },
   {
    "duration": 8,
    "start_time": "2024-06-16T15:42:58.768Z"
   },
   {
    "duration": 14,
    "start_time": "2024-06-16T15:42:58.778Z"
   },
   {
    "duration": 131,
    "start_time": "2024-06-16T15:42:58.794Z"
   },
   {
    "duration": 73,
    "start_time": "2024-06-16T15:42:58.927Z"
   },
   {
    "duration": 2,
    "start_time": "2024-06-16T15:42:59.002Z"
   },
   {
    "duration": 54,
    "start_time": "2024-06-16T15:42:59.006Z"
   },
   {
    "duration": 13,
    "start_time": "2024-06-16T15:42:59.062Z"
   },
   {
    "duration": 9892,
    "start_time": "2024-06-16T15:42:59.077Z"
   },
   {
    "duration": 3014,
    "start_time": "2024-06-16T15:43:08.971Z"
   },
   {
    "duration": 4,
    "start_time": "2024-06-16T15:43:11.986Z"
   },
   {
    "duration": 1395,
    "start_time": "2024-06-16T15:43:11.992Z"
   },
   {
    "duration": 6,
    "start_time": "2024-06-16T15:43:13.392Z"
   },
   {
    "duration": 12,
    "start_time": "2024-06-16T15:43:13.399Z"
   },
   {
    "duration": 32,
    "start_time": "2024-06-16T15:43:13.412Z"
   },
   {
    "duration": 421,
    "start_time": "2024-06-16T15:43:13.446Z"
   },
   {
    "duration": 17,
    "start_time": "2024-06-16T15:43:13.869Z"
   },
   {
    "duration": 388,
    "start_time": "2024-06-16T15:43:13.888Z"
   },
   {
    "duration": 417,
    "start_time": "2024-06-16T15:43:14.278Z"
   },
   {
    "duration": 22,
    "start_time": "2024-06-16T15:43:14.697Z"
   },
   {
    "duration": 395,
    "start_time": "2024-06-16T15:43:14.721Z"
   },
   {
    "duration": 15,
    "start_time": "2024-06-16T15:43:15.118Z"
   },
   {
    "duration": 363,
    "start_time": "2024-06-16T15:43:15.135Z"
   },
   {
    "duration": 16,
    "start_time": "2024-06-16T15:43:15.500Z"
   },
   {
    "duration": 394,
    "start_time": "2024-06-16T15:43:15.517Z"
   },
   {
    "duration": 43,
    "start_time": "2024-06-16T15:43:15.913Z"
   },
   {
    "duration": 399,
    "start_time": "2024-06-16T15:43:15.958Z"
   },
   {
    "duration": 3,
    "start_time": "2024-06-16T15:43:16.358Z"
   },
   {
    "duration": 76,
    "start_time": "2024-06-16T15:43:16.363Z"
   },
   {
    "duration": 37,
    "start_time": "2024-06-16T15:43:16.441Z"
   },
   {
    "duration": 43,
    "start_time": "2024-06-16T15:43:16.479Z"
   },
   {
    "duration": 15,
    "start_time": "2024-06-16T15:43:16.524Z"
   },
   {
    "duration": 19,
    "start_time": "2024-06-16T15:43:16.541Z"
   },
   {
    "duration": 8207,
    "start_time": "2024-06-16T15:43:16.561Z"
   },
   {
    "duration": 21,
    "start_time": "2024-06-16T15:43:24.770Z"
   },
   {
    "duration": 19763,
    "start_time": "2024-06-16T15:53:16.482Z"
   },
   {
    "duration": 3724,
    "start_time": "2024-06-16T15:53:36.248Z"
   },
   {
    "duration": 4,
    "start_time": "2024-06-16T15:53:39.974Z"
   },
   {
    "duration": 6,
    "start_time": "2024-06-16T15:53:39.979Z"
   },
   {
    "duration": 139,
    "start_time": "2024-06-16T15:53:39.987Z"
   },
   {
    "duration": 0,
    "start_time": "2024-06-16T15:53:40.129Z"
   },
   {
    "duration": 0,
    "start_time": "2024-06-16T15:53:40.131Z"
   },
   {
    "duration": 0,
    "start_time": "2024-06-16T15:53:40.133Z"
   },
   {
    "duration": 0,
    "start_time": "2024-06-16T15:53:40.135Z"
   },
   {
    "duration": 0,
    "start_time": "2024-06-16T15:53:40.136Z"
   },
   {
    "duration": 0,
    "start_time": "2024-06-16T15:53:40.138Z"
   },
   {
    "duration": 0,
    "start_time": "2024-06-16T15:53:40.140Z"
   },
   {
    "duration": 0,
    "start_time": "2024-06-16T15:53:40.142Z"
   },
   {
    "duration": 0,
    "start_time": "2024-06-16T15:53:40.144Z"
   },
   {
    "duration": 0,
    "start_time": "2024-06-16T15:53:40.145Z"
   },
   {
    "duration": 0,
    "start_time": "2024-06-16T15:53:40.146Z"
   },
   {
    "duration": 0,
    "start_time": "2024-06-16T15:53:40.148Z"
   },
   {
    "duration": 0,
    "start_time": "2024-06-16T15:53:40.149Z"
   },
   {
    "duration": 0,
    "start_time": "2024-06-16T15:53:40.151Z"
   },
   {
    "duration": 0,
    "start_time": "2024-06-16T15:53:40.152Z"
   },
   {
    "duration": 0,
    "start_time": "2024-06-16T15:53:40.154Z"
   },
   {
    "duration": 0,
    "start_time": "2024-06-16T15:53:40.156Z"
   },
   {
    "duration": 0,
    "start_time": "2024-06-16T15:53:40.158Z"
   },
   {
    "duration": 0,
    "start_time": "2024-06-16T15:53:40.159Z"
   },
   {
    "duration": 0,
    "start_time": "2024-06-16T15:53:40.161Z"
   },
   {
    "duration": 0,
    "start_time": "2024-06-16T15:53:40.163Z"
   },
   {
    "duration": 0,
    "start_time": "2024-06-16T15:53:40.164Z"
   },
   {
    "duration": 0,
    "start_time": "2024-06-16T15:53:40.165Z"
   },
   {
    "duration": 0,
    "start_time": "2024-06-16T15:53:40.167Z"
   },
   {
    "duration": 0,
    "start_time": "2024-06-16T15:53:40.168Z"
   },
   {
    "duration": 0,
    "start_time": "2024-06-16T15:53:40.169Z"
   },
   {
    "duration": 0,
    "start_time": "2024-06-16T15:53:40.170Z"
   },
   {
    "duration": 0,
    "start_time": "2024-06-16T15:53:40.171Z"
   },
   {
    "duration": 1,
    "start_time": "2024-06-16T15:53:40.172Z"
   },
   {
    "duration": 0,
    "start_time": "2024-06-16T15:53:40.175Z"
   },
   {
    "duration": 0,
    "start_time": "2024-06-16T15:53:40.176Z"
   },
   {
    "duration": 0,
    "start_time": "2024-06-16T15:53:40.178Z"
   },
   {
    "duration": 0,
    "start_time": "2024-06-16T15:53:40.180Z"
   },
   {
    "duration": 0,
    "start_time": "2024-06-16T15:53:40.182Z"
   },
   {
    "duration": 0,
    "start_time": "2024-06-16T15:53:40.183Z"
   },
   {
    "duration": 0,
    "start_time": "2024-06-16T15:53:40.185Z"
   },
   {
    "duration": 0,
    "start_time": "2024-06-16T15:53:40.186Z"
   },
   {
    "duration": 0,
    "start_time": "2024-06-16T15:53:40.187Z"
   },
   {
    "duration": 0,
    "start_time": "2024-06-16T15:53:40.188Z"
   },
   {
    "duration": 0,
    "start_time": "2024-06-16T15:53:40.189Z"
   },
   {
    "duration": 0,
    "start_time": "2024-06-16T15:53:40.191Z"
   },
   {
    "duration": 0,
    "start_time": "2024-06-16T15:53:40.193Z"
   },
   {
    "duration": 0,
    "start_time": "2024-06-16T15:53:40.194Z"
   },
   {
    "duration": 0,
    "start_time": "2024-06-16T15:53:40.196Z"
   },
   {
    "duration": 0,
    "start_time": "2024-06-16T15:53:40.258Z"
   },
   {
    "duration": 0,
    "start_time": "2024-06-16T15:53:40.260Z"
   },
   {
    "duration": 0,
    "start_time": "2024-06-16T15:53:40.261Z"
   },
   {
    "duration": 0,
    "start_time": "2024-06-16T15:53:40.262Z"
   },
   {
    "duration": 0,
    "start_time": "2024-06-16T15:53:40.263Z"
   },
   {
    "duration": 0,
    "start_time": "2024-06-16T15:53:40.265Z"
   },
   {
    "duration": 0,
    "start_time": "2024-06-16T15:53:40.266Z"
   },
   {
    "duration": 0,
    "start_time": "2024-06-16T15:53:40.267Z"
   },
   {
    "duration": 0,
    "start_time": "2024-06-16T15:53:40.267Z"
   },
   {
    "duration": 0,
    "start_time": "2024-06-16T15:53:40.268Z"
   },
   {
    "duration": 0,
    "start_time": "2024-06-16T15:53:40.270Z"
   },
   {
    "duration": 0,
    "start_time": "2024-06-16T15:53:40.271Z"
   },
   {
    "duration": 0,
    "start_time": "2024-06-16T15:53:40.272Z"
   },
   {
    "duration": 0,
    "start_time": "2024-06-16T15:53:40.273Z"
   },
   {
    "duration": 82,
    "start_time": "2024-06-16T15:55:50.036Z"
   },
   {
    "duration": 37,
    "start_time": "2024-06-16T15:56:17.288Z"
   },
   {
    "duration": 30,
    "start_time": "2024-06-16T15:56:20.242Z"
   },
   {
    "duration": 37,
    "start_time": "2024-06-16T15:56:23.625Z"
   },
   {
    "duration": 33,
    "start_time": "2024-06-16T15:56:33.328Z"
   },
   {
    "duration": 39,
    "start_time": "2024-06-16T15:56:39.622Z"
   },
   {
    "duration": 19173,
    "start_time": "2024-06-16T15:56:45.901Z"
   },
   {
    "duration": 3502,
    "start_time": "2024-06-16T15:57:05.076Z"
   },
   {
    "duration": 4,
    "start_time": "2024-06-16T15:57:08.580Z"
   },
   {
    "duration": 18,
    "start_time": "2024-06-16T15:57:08.586Z"
   },
   {
    "duration": 46,
    "start_time": "2024-06-16T15:57:08.606Z"
   },
   {
    "duration": 18,
    "start_time": "2024-06-16T15:57:08.654Z"
   },
   {
    "duration": 48,
    "start_time": "2024-06-16T15:57:08.673Z"
   },
   {
    "duration": 3,
    "start_time": "2024-06-16T15:57:08.722Z"
   },
   {
    "duration": 58,
    "start_time": "2024-06-16T15:57:08.727Z"
   },
   {
    "duration": 10,
    "start_time": "2024-06-16T15:57:08.788Z"
   },
   {
    "duration": 15,
    "start_time": "2024-06-16T15:57:08.800Z"
   },
   {
    "duration": 5,
    "start_time": "2024-06-16T15:57:08.816Z"
   },
   {
    "duration": 34,
    "start_time": "2024-06-16T15:57:08.822Z"
   },
   {
    "duration": 11,
    "start_time": "2024-06-16T15:57:08.858Z"
   },
   {
    "duration": 7,
    "start_time": "2024-06-16T15:57:08.871Z"
   },
   {
    "duration": 12881,
    "start_time": "2024-06-16T15:57:08.880Z"
   },
   {
    "duration": 9906,
    "start_time": "2024-06-16T15:57:21.763Z"
   },
   {
    "duration": 4612,
    "start_time": "2024-06-16T15:57:31.670Z"
   },
   {
    "duration": 1701,
    "start_time": "2024-06-16T15:57:36.284Z"
   },
   {
    "duration": 1211,
    "start_time": "2024-06-16T15:57:37.987Z"
   },
   {
    "duration": 21,
    "start_time": "2024-06-16T15:57:39.201Z"
   },
   {
    "duration": 32,
    "start_time": "2024-06-16T15:57:39.224Z"
   },
   {
    "duration": 3,
    "start_time": "2024-06-16T15:57:39.258Z"
   },
   {
    "duration": 6,
    "start_time": "2024-06-16T15:57:39.263Z"
   },
   {
    "duration": 6,
    "start_time": "2024-06-16T15:57:39.271Z"
   },
   {
    "duration": 20,
    "start_time": "2024-06-16T15:57:39.279Z"
   },
   {
    "duration": 2110,
    "start_time": "2024-06-16T15:57:39.301Z"
   },
   {
    "duration": 18,
    "start_time": "2024-06-16T15:57:41.415Z"
   },
   {
    "duration": 30,
    "start_time": "2024-06-16T15:57:41.435Z"
   },
   {
    "duration": 7,
    "start_time": "2024-06-16T15:57:41.466Z"
   },
   {
    "duration": 12,
    "start_time": "2024-06-16T15:57:41.474Z"
   },
   {
    "duration": 40,
    "start_time": "2024-06-16T15:57:41.487Z"
   },
   {
    "duration": 28,
    "start_time": "2024-06-16T15:57:41.529Z"
   },
   {
    "duration": 3,
    "start_time": "2024-06-16T15:57:41.559Z"
   },
   {
    "duration": 35,
    "start_time": "2024-06-16T15:57:41.564Z"
   },
   {
    "duration": 12,
    "start_time": "2024-06-16T15:57:41.600Z"
   },
   {
    "duration": 9819,
    "start_time": "2024-06-16T15:57:41.614Z"
   },
   {
    "duration": 2481,
    "start_time": "2024-06-16T15:57:51.434Z"
   },
   {
    "duration": 4,
    "start_time": "2024-06-16T15:57:53.917Z"
   },
   {
    "duration": 1484,
    "start_time": "2024-06-16T15:57:53.923Z"
   },
   {
    "duration": 7,
    "start_time": "2024-06-16T15:57:55.410Z"
   },
   {
    "duration": 15,
    "start_time": "2024-06-16T15:57:55.419Z"
   },
   {
    "duration": 29,
    "start_time": "2024-06-16T15:57:55.435Z"
   },
   {
    "duration": 402,
    "start_time": "2024-06-16T15:57:55.466Z"
   },
   {
    "duration": 16,
    "start_time": "2024-06-16T15:57:55.870Z"
   },
   {
    "duration": 386,
    "start_time": "2024-06-16T15:57:55.888Z"
   },
   {
    "duration": 492,
    "start_time": "2024-06-16T15:57:56.276Z"
   },
   {
    "duration": 22,
    "start_time": "2024-06-16T15:57:56.770Z"
   },
   {
    "duration": 414,
    "start_time": "2024-06-16T15:57:56.794Z"
   },
   {
    "duration": 15,
    "start_time": "2024-06-16T15:57:57.209Z"
   },
   {
    "duration": 362,
    "start_time": "2024-06-16T15:57:57.226Z"
   },
   {
    "duration": 17,
    "start_time": "2024-06-16T15:57:57.589Z"
   },
   {
    "duration": 393,
    "start_time": "2024-06-16T15:57:57.607Z"
   },
   {
    "duration": 56,
    "start_time": "2024-06-16T15:57:58.003Z"
   },
   {
    "duration": 782,
    "start_time": "2024-06-16T15:57:58.061Z"
   },
   {
    "duration": 3,
    "start_time": "2024-06-16T15:57:58.844Z"
   },
   {
    "duration": 34,
    "start_time": "2024-06-16T15:57:58.855Z"
   },
   {
    "duration": 7,
    "start_time": "2024-06-16T15:57:58.892Z"
   },
   {
    "duration": 33,
    "start_time": "2024-06-16T15:57:58.901Z"
   },
   {
    "duration": 14,
    "start_time": "2024-06-16T15:57:58.936Z"
   },
   {
    "duration": 21,
    "start_time": "2024-06-16T15:57:58.955Z"
   },
   {
    "duration": 8400,
    "start_time": "2024-06-16T15:57:58.979Z"
   },
   {
    "duration": 18,
    "start_time": "2024-06-16T15:58:07.380Z"
   },
   {
    "duration": 73,
    "start_time": "2024-06-17T07:36:03.163Z"
   },
   {
    "duration": 58517,
    "start_time": "2024-06-17T07:39:06.305Z"
   },
   {
    "duration": 3863,
    "start_time": "2024-06-17T07:40:04.825Z"
   },
   {
    "duration": 3,
    "start_time": "2024-06-17T07:40:08.690Z"
   },
   {
    "duration": 21,
    "start_time": "2024-06-17T07:40:08.694Z"
   },
   {
    "duration": 148,
    "start_time": "2024-06-17T07:40:08.717Z"
   },
   {
    "duration": 70,
    "start_time": "2024-06-17T07:40:08.867Z"
   },
   {
    "duration": 64,
    "start_time": "2024-06-17T07:40:08.939Z"
   },
   {
    "duration": 3,
    "start_time": "2024-06-17T07:40:09.004Z"
   },
   {
    "duration": 68,
    "start_time": "2024-06-17T07:40:09.009Z"
   },
   {
    "duration": 11,
    "start_time": "2024-06-17T07:40:09.079Z"
   },
   {
    "duration": 14,
    "start_time": "2024-06-17T07:40:09.092Z"
   },
   {
    "duration": 4,
    "start_time": "2024-06-17T07:40:09.108Z"
   },
   {
    "duration": 15,
    "start_time": "2024-06-17T07:40:09.114Z"
   },
   {
    "duration": 11,
    "start_time": "2024-06-17T07:40:09.133Z"
   },
   {
    "duration": 10,
    "start_time": "2024-06-17T07:40:09.146Z"
   },
   {
    "duration": 13171,
    "start_time": "2024-06-17T07:40:09.158Z"
   },
   {
    "duration": 10544,
    "start_time": "2024-06-17T07:40:22.331Z"
   },
   {
    "duration": 4187,
    "start_time": "2024-06-17T07:40:32.877Z"
   },
   {
    "duration": 1593,
    "start_time": "2024-06-17T07:40:37.066Z"
   },
   {
    "duration": 1307,
    "start_time": "2024-06-17T07:40:38.661Z"
   },
   {
    "duration": 36,
    "start_time": "2024-06-17T07:40:39.971Z"
   },
   {
    "duration": 15,
    "start_time": "2024-06-17T07:40:40.009Z"
   },
   {
    "duration": 11,
    "start_time": "2024-06-17T07:40:40.026Z"
   },
   {
    "duration": 26,
    "start_time": "2024-06-17T07:40:40.040Z"
   },
   {
    "duration": 24,
    "start_time": "2024-06-17T07:40:40.068Z"
   },
   {
    "duration": 33,
    "start_time": "2024-06-17T07:40:40.094Z"
   },
   {
    "duration": 2252,
    "start_time": "2024-06-17T07:40:40.130Z"
   },
   {
    "duration": 24,
    "start_time": "2024-06-17T07:40:42.384Z"
   },
   {
    "duration": 37,
    "start_time": "2024-06-17T07:40:42.409Z"
   },
   {
    "duration": 7,
    "start_time": "2024-06-17T07:40:42.448Z"
   },
   {
    "duration": 25,
    "start_time": "2024-06-17T07:40:42.456Z"
   },
   {
    "duration": 127,
    "start_time": "2024-06-17T07:40:42.483Z"
   },
   {
    "duration": 72,
    "start_time": "2024-06-17T07:40:42.612Z"
   },
   {
    "duration": 3,
    "start_time": "2024-06-17T07:40:42.686Z"
   },
   {
    "duration": 56,
    "start_time": "2024-06-17T07:40:42.692Z"
   },
   {
    "duration": 14,
    "start_time": "2024-06-17T07:40:42.750Z"
   },
   {
    "duration": 10764,
    "start_time": "2024-06-17T07:40:42.765Z"
   },
   {
    "duration": 3162,
    "start_time": "2024-06-17T07:40:53.531Z"
   },
   {
    "duration": 5,
    "start_time": "2024-06-17T07:40:56.695Z"
   },
   {
    "duration": 1560,
    "start_time": "2024-06-17T07:40:56.701Z"
   },
   {
    "duration": 6,
    "start_time": "2024-06-17T07:40:58.265Z"
   },
   {
    "duration": 18,
    "start_time": "2024-06-17T07:40:58.274Z"
   },
   {
    "duration": 31,
    "start_time": "2024-06-17T07:40:58.295Z"
   },
   {
    "duration": 478,
    "start_time": "2024-06-17T07:40:58.328Z"
   },
   {
    "duration": 16,
    "start_time": "2024-06-17T07:40:58.808Z"
   },
   {
    "duration": 512,
    "start_time": "2024-06-17T07:40:58.826Z"
   },
   {
    "duration": 763,
    "start_time": "2024-06-17T07:40:59.339Z"
   },
   {
    "duration": 18,
    "start_time": "2024-06-17T07:41:00.104Z"
   },
   {
    "duration": 741,
    "start_time": "2024-06-17T07:41:00.123Z"
   },
   {
    "duration": 39,
    "start_time": "2024-06-17T07:41:00.866Z"
   },
   {
    "duration": 408,
    "start_time": "2024-06-17T07:41:00.907Z"
   },
   {
    "duration": 17,
    "start_time": "2024-06-17T07:41:01.317Z"
   },
   {
    "duration": 402,
    "start_time": "2024-06-17T07:41:01.336Z"
   },
   {
    "duration": 33,
    "start_time": "2024-06-17T07:41:01.740Z"
   },
   {
    "duration": 429,
    "start_time": "2024-06-17T07:41:01.775Z"
   },
   {
    "duration": 2,
    "start_time": "2024-06-17T07:41:02.206Z"
   },
   {
    "duration": 37,
    "start_time": "2024-06-17T07:41:02.210Z"
   },
   {
    "duration": 6,
    "start_time": "2024-06-17T07:41:02.249Z"
   },
   {
    "duration": 258,
    "start_time": "2024-06-17T07:41:02.256Z"
   },
   {
    "duration": 0,
    "start_time": "2024-06-17T07:41:02.515Z"
   },
   {
    "duration": 0,
    "start_time": "2024-06-17T07:41:02.516Z"
   },
   {
    "duration": 0,
    "start_time": "2024-06-17T07:41:02.518Z"
   },
   {
    "duration": 0,
    "start_time": "2024-06-17T07:41:02.519Z"
   },
   {
    "duration": 0,
    "start_time": "2024-06-17T07:41:02.520Z"
   },
   {
    "duration": 17,
    "start_time": "2024-06-17T07:41:34.133Z"
   },
   {
    "duration": 6,
    "start_time": "2024-06-17T07:41:52.896Z"
   },
   {
    "duration": 2,
    "start_time": "2024-06-17T07:41:56.163Z"
   },
   {
    "duration": 7,
    "start_time": "2024-06-17T07:41:58.971Z"
   },
   {
    "duration": 9440,
    "start_time": "2024-06-17T07:42:01.669Z"
   },
   {
    "duration": 20,
    "start_time": "2024-06-17T07:42:15.037Z"
   },
   {
    "duration": 25,
    "start_time": "2024-06-17T07:42:48.039Z"
   },
   {
    "duration": 13,
    "start_time": "2024-06-17T07:43:43.789Z"
   },
   {
    "duration": 6,
    "start_time": "2024-06-17T07:43:46.101Z"
   },
   {
    "duration": 23,
    "start_time": "2024-06-17T07:43:50.365Z"
   },
   {
    "duration": 19010,
    "start_time": "2024-06-17T07:44:03.053Z"
   },
   {
    "duration": 3731,
    "start_time": "2024-06-17T07:44:22.067Z"
   },
   {
    "duration": 3,
    "start_time": "2024-06-17T07:44:25.800Z"
   },
   {
    "duration": 10,
    "start_time": "2024-06-17T07:44:25.805Z"
   },
   {
    "duration": 36,
    "start_time": "2024-06-17T07:44:25.818Z"
   },
   {
    "duration": 19,
    "start_time": "2024-06-17T07:44:25.856Z"
   },
   {
    "duration": 27,
    "start_time": "2024-06-17T07:44:25.876Z"
   },
   {
    "duration": 3,
    "start_time": "2024-06-17T07:44:25.905Z"
   },
   {
    "duration": 74,
    "start_time": "2024-06-17T07:44:25.910Z"
   },
   {
    "duration": 14,
    "start_time": "2024-06-17T07:44:25.986Z"
   },
   {
    "duration": 29,
    "start_time": "2024-06-17T07:44:26.002Z"
   },
   {
    "duration": 11,
    "start_time": "2024-06-17T07:44:26.034Z"
   },
   {
    "duration": 24,
    "start_time": "2024-06-17T07:44:26.047Z"
   },
   {
    "duration": 20,
    "start_time": "2024-06-17T07:44:26.074Z"
   },
   {
    "duration": 6,
    "start_time": "2024-06-17T07:44:26.096Z"
   },
   {
    "duration": 13297,
    "start_time": "2024-06-17T07:44:26.104Z"
   },
   {
    "duration": 10247,
    "start_time": "2024-06-17T07:44:39.403Z"
   },
   {
    "duration": 3900,
    "start_time": "2024-06-17T07:44:49.652Z"
   },
   {
    "duration": 1591,
    "start_time": "2024-06-17T07:44:53.554Z"
   },
   {
    "duration": 1362,
    "start_time": "2024-06-17T07:44:55.147Z"
   },
   {
    "duration": 27,
    "start_time": "2024-06-17T07:44:56.511Z"
   },
   {
    "duration": 18,
    "start_time": "2024-06-17T07:44:56.540Z"
   },
   {
    "duration": 8,
    "start_time": "2024-06-17T07:44:56.560Z"
   },
   {
    "duration": 13,
    "start_time": "2024-06-17T07:44:56.591Z"
   },
   {
    "duration": 9,
    "start_time": "2024-06-17T07:44:56.606Z"
   },
   {
    "duration": 20,
    "start_time": "2024-06-17T07:44:56.617Z"
   },
   {
    "duration": 2200,
    "start_time": "2024-06-17T07:44:56.639Z"
   },
   {
    "duration": 22,
    "start_time": "2024-06-17T07:44:58.841Z"
   },
   {
    "duration": 43,
    "start_time": "2024-06-17T07:44:58.865Z"
   },
   {
    "duration": 6,
    "start_time": "2024-06-17T07:44:58.910Z"
   },
   {
    "duration": 66,
    "start_time": "2024-06-17T07:44:58.918Z"
   },
   {
    "duration": 42,
    "start_time": "2024-06-17T07:44:58.985Z"
   },
   {
    "duration": 27,
    "start_time": "2024-06-17T07:44:59.029Z"
   },
   {
    "duration": 3,
    "start_time": "2024-06-17T07:44:59.058Z"
   },
   {
    "duration": 50,
    "start_time": "2024-06-17T07:44:59.063Z"
   },
   {
    "duration": 13,
    "start_time": "2024-06-17T07:44:59.115Z"
   },
   {
    "duration": 10277,
    "start_time": "2024-06-17T07:44:59.130Z"
   },
   {
    "duration": 2621,
    "start_time": "2024-06-17T07:45:09.408Z"
   },
   {
    "duration": 9,
    "start_time": "2024-06-17T07:45:12.032Z"
   },
   {
    "duration": 1504,
    "start_time": "2024-06-17T07:45:12.044Z"
   },
   {
    "duration": 7,
    "start_time": "2024-06-17T07:45:13.553Z"
   },
   {
    "duration": 56,
    "start_time": "2024-06-17T07:45:13.561Z"
   },
   {
    "duration": 68,
    "start_time": "2024-06-17T07:45:13.619Z"
   },
   {
    "duration": 443,
    "start_time": "2024-06-17T07:45:13.689Z"
   },
   {
    "duration": 16,
    "start_time": "2024-06-17T07:45:14.134Z"
   },
   {
    "duration": 351,
    "start_time": "2024-06-17T07:45:14.152Z"
   },
   {
    "duration": 407,
    "start_time": "2024-06-17T07:45:14.505Z"
   },
   {
    "duration": 16,
    "start_time": "2024-06-17T07:45:14.914Z"
   },
   {
    "duration": 444,
    "start_time": "2024-06-17T07:45:14.932Z"
   },
   {
    "duration": 20,
    "start_time": "2024-06-17T07:45:15.378Z"
   },
   {
    "duration": 357,
    "start_time": "2024-06-17T07:45:15.400Z"
   },
   {
    "duration": 16,
    "start_time": "2024-06-17T07:45:15.759Z"
   },
   {
    "duration": 769,
    "start_time": "2024-06-17T07:45:15.792Z"
   },
   {
    "duration": 43,
    "start_time": "2024-06-17T07:45:16.563Z"
   },
   {
    "duration": 394,
    "start_time": "2024-06-17T07:45:16.608Z"
   },
   {
    "duration": 2,
    "start_time": "2024-06-17T07:45:17.004Z"
   },
   {
    "duration": 36,
    "start_time": "2024-06-17T07:45:17.008Z"
   },
   {
    "duration": 5,
    "start_time": "2024-06-17T07:45:17.046Z"
   },
   {
    "duration": 27,
    "start_time": "2024-06-17T07:45:17.053Z"
   },
   {
    "duration": 18,
    "start_time": "2024-06-17T07:45:17.082Z"
   },
   {
    "duration": 35,
    "start_time": "2024-06-17T07:45:17.102Z"
   },
   {
    "duration": 8,
    "start_time": "2024-06-17T07:45:17.140Z"
   },
   {
    "duration": 8,
    "start_time": "2024-06-17T07:45:17.150Z"
   },
   {
    "duration": 8539,
    "start_time": "2024-06-17T07:45:17.160Z"
   },
   {
    "duration": 22,
    "start_time": "2024-06-17T07:45:25.701Z"
   },
   {
    "duration": 55223,
    "start_time": "2024-06-20T17:33:56.629Z"
   },
   {
    "duration": 3839,
    "start_time": "2024-06-20T17:34:51.855Z"
   },
   {
    "duration": 3,
    "start_time": "2024-06-20T17:34:55.696Z"
   },
   {
    "duration": 31,
    "start_time": "2024-06-20T17:34:55.701Z"
   },
   {
    "duration": 87,
    "start_time": "2024-06-20T17:34:55.734Z"
   },
   {
    "duration": 64,
    "start_time": "2024-06-20T17:34:55.822Z"
   },
   {
    "duration": 79,
    "start_time": "2024-06-20T17:34:55.888Z"
   },
   {
    "duration": 3,
    "start_time": "2024-06-20T17:34:55.969Z"
   },
   {
    "duration": 87,
    "start_time": "2024-06-20T17:34:55.973Z"
   },
   {
    "duration": 10,
    "start_time": "2024-06-20T17:34:56.062Z"
   },
   {
    "duration": 18,
    "start_time": "2024-06-20T17:34:56.074Z"
   },
   {
    "duration": 17,
    "start_time": "2024-06-20T17:34:56.094Z"
   },
   {
    "duration": 11,
    "start_time": "2024-06-20T17:34:56.113Z"
   },
   {
    "duration": 26,
    "start_time": "2024-06-20T17:34:56.126Z"
   },
   {
    "duration": 5,
    "start_time": "2024-06-20T17:34:56.154Z"
   },
   {
    "duration": 5,
    "start_time": "2024-06-20T17:34:56.160Z"
   },
   {
    "duration": 12,
    "start_time": "2024-06-20T17:34:56.167Z"
   },
   {
    "duration": 6,
    "start_time": "2024-06-20T17:34:56.180Z"
   },
   {
    "duration": 1654,
    "start_time": "2024-06-20T17:34:56.187Z"
   },
   {
    "duration": 1254,
    "start_time": "2024-06-20T17:34:57.842Z"
   },
   {
    "duration": 20,
    "start_time": "2024-06-20T17:34:59.098Z"
   },
   {
    "duration": 12,
    "start_time": "2024-06-20T17:34:59.120Z"
   },
   {
    "duration": 10,
    "start_time": "2024-06-20T17:34:59.133Z"
   },
   {
    "duration": 12,
    "start_time": "2024-06-20T17:34:59.144Z"
   },
   {
    "duration": 24,
    "start_time": "2024-06-20T17:34:59.158Z"
   },
   {
    "duration": 14,
    "start_time": "2024-06-20T17:34:59.184Z"
   },
   {
    "duration": 1978,
    "start_time": "2024-06-20T17:34:59.199Z"
   },
   {
    "duration": 24,
    "start_time": "2024-06-20T17:35:01.185Z"
   },
   {
    "duration": 105,
    "start_time": "2024-06-20T17:35:01.210Z"
   },
   {
    "duration": 73,
    "start_time": "2024-06-20T17:35:01.317Z"
   },
   {
    "duration": 70,
    "start_time": "2024-06-20T17:35:01.392Z"
   },
   {
    "duration": 118,
    "start_time": "2024-06-20T17:35:01.464Z"
   },
   {
    "duration": 73,
    "start_time": "2024-06-20T17:35:01.583Z"
   },
   {
    "duration": 3,
    "start_time": "2024-06-20T17:35:01.658Z"
   },
   {
    "duration": 105,
    "start_time": "2024-06-20T17:35:01.662Z"
   },
   {
    "duration": 37,
    "start_time": "2024-06-20T17:35:01.769Z"
   },
   {
    "duration": 37,
    "start_time": "2024-06-20T17:35:01.807Z"
   },
   {
    "duration": 115,
    "start_time": "2024-06-20T17:35:01.846Z"
   },
   {
    "duration": 156,
    "start_time": "2024-06-20T17:35:01.963Z"
   },
   {
    "duration": 1491,
    "start_time": "2024-06-20T17:35:02.121Z"
   },
   {
    "duration": 5,
    "start_time": "2024-06-20T17:35:03.614Z"
   },
   {
    "duration": 21,
    "start_time": "2024-06-20T17:35:03.621Z"
   },
   {
    "duration": 15,
    "start_time": "2024-06-20T17:35:03.643Z"
   },
   {
    "duration": 466,
    "start_time": "2024-06-20T17:35:03.659Z"
   },
   {
    "duration": 19,
    "start_time": "2024-06-20T17:35:04.128Z"
   },
   {
    "duration": 358,
    "start_time": "2024-06-20T17:35:04.148Z"
   },
   {
    "duration": 538,
    "start_time": "2024-06-20T17:35:04.507Z"
   },
   {
    "duration": 17,
    "start_time": "2024-06-20T17:35:05.047Z"
   },
   {
    "duration": 378,
    "start_time": "2024-06-20T17:35:05.066Z"
   },
   {
    "duration": 15,
    "start_time": "2024-06-20T17:35:05.445Z"
   },
   {
    "duration": 358,
    "start_time": "2024-06-20T17:35:05.461Z"
   },
   {
    "duration": 17,
    "start_time": "2024-06-20T17:35:05.821Z"
   },
   {
    "duration": 380,
    "start_time": "2024-06-20T17:35:05.839Z"
   },
   {
    "duration": 37,
    "start_time": "2024-06-20T17:35:06.220Z"
   },
   {
    "duration": 400,
    "start_time": "2024-06-20T17:35:06.259Z"
   },
   {
    "duration": 3,
    "start_time": "2024-06-20T17:35:06.661Z"
   },
   {
    "duration": 44,
    "start_time": "2024-06-20T17:35:06.665Z"
   },
   {
    "duration": 5,
    "start_time": "2024-06-20T17:35:06.711Z"
   },
   {
    "duration": 26,
    "start_time": "2024-06-20T17:35:06.718Z"
   },
   {
    "duration": 7,
    "start_time": "2024-06-20T17:35:06.746Z"
   },
   {
    "duration": 6,
    "start_time": "2024-06-20T17:35:06.755Z"
   },
   {
    "duration": 23,
    "start_time": "2024-06-20T17:35:06.762Z"
   },
   {
    "duration": 8,
    "start_time": "2024-06-20T17:35:06.787Z"
   },
   {
    "duration": 8151,
    "start_time": "2024-06-20T17:35:06.797Z"
   },
   {
    "duration": 17,
    "start_time": "2024-06-20T17:35:14.949Z"
   },
   {
    "duration": 6,
    "start_time": "2024-06-20T17:36:04.718Z"
   },
   {
    "duration": 5834,
    "start_time": "2024-06-20T17:36:08.016Z"
   },
   {
    "duration": 19,
    "start_time": "2024-06-20T17:37:01.369Z"
   },
   {
    "duration": 50144,
    "start_time": "2024-06-23T16:13:22.922Z"
   },
   {
    "duration": 3179,
    "start_time": "2024-06-23T16:14:13.068Z"
   },
   {
    "duration": 2,
    "start_time": "2024-06-23T16:14:16.248Z"
   },
   {
    "duration": 17,
    "start_time": "2024-06-23T16:14:16.251Z"
   },
   {
    "duration": 125,
    "start_time": "2024-06-23T16:14:16.270Z"
   },
   {
    "duration": 67,
    "start_time": "2024-06-23T16:14:16.396Z"
   },
   {
    "duration": 62,
    "start_time": "2024-06-23T16:14:16.465Z"
   },
   {
    "duration": 2,
    "start_time": "2024-06-23T16:14:16.529Z"
   },
   {
    "duration": 46,
    "start_time": "2024-06-23T16:14:16.533Z"
   },
   {
    "duration": 10,
    "start_time": "2024-06-23T16:14:16.580Z"
   },
   {
    "duration": 28,
    "start_time": "2024-06-23T16:14:16.594Z"
   },
   {
    "duration": 5,
    "start_time": "2024-06-23T16:14:16.624Z"
   },
   {
    "duration": 4,
    "start_time": "2024-06-23T16:14:16.631Z"
   },
   {
    "duration": 12,
    "start_time": "2024-06-23T16:14:16.637Z"
   },
   {
    "duration": 6,
    "start_time": "2024-06-23T16:14:16.650Z"
   },
   {
    "duration": 10,
    "start_time": "2024-06-23T16:14:16.657Z"
   },
   {
    "duration": 4,
    "start_time": "2024-06-23T16:14:16.668Z"
   },
   {
    "duration": 5,
    "start_time": "2024-06-23T16:14:16.673Z"
   },
   {
    "duration": 1379,
    "start_time": "2024-06-23T16:14:16.679Z"
   },
   {
    "duration": 1029,
    "start_time": "2024-06-23T16:14:18.060Z"
   },
   {
    "duration": 20,
    "start_time": "2024-06-23T16:14:19.090Z"
   },
   {
    "duration": 9,
    "start_time": "2024-06-23T16:14:19.111Z"
   },
   {
    "duration": 5,
    "start_time": "2024-06-23T16:14:19.121Z"
   },
   {
    "duration": 4,
    "start_time": "2024-06-23T16:14:19.128Z"
   },
   {
    "duration": 25,
    "start_time": "2024-06-23T16:14:19.133Z"
   },
   {
    "duration": 8,
    "start_time": "2024-06-23T16:14:19.159Z"
   },
   {
    "duration": 1677,
    "start_time": "2024-06-23T16:14:19.168Z"
   },
   {
    "duration": 16,
    "start_time": "2024-06-23T16:14:20.847Z"
   },
   {
    "duration": 1182,
    "start_time": "2024-06-23T16:14:20.864Z"
   },
   {
    "duration": 323,
    "start_time": "2024-06-23T16:14:22.047Z"
   },
   {
    "duration": 252,
    "start_time": "2024-06-23T16:14:22.371Z"
   },
   {
    "duration": 410,
    "start_time": "2024-06-23T16:14:22.625Z"
   },
   {
    "duration": 70,
    "start_time": "2024-06-23T16:14:23.036Z"
   },
   {
    "duration": 2,
    "start_time": "2024-06-23T16:14:23.108Z"
   },
   {
    "duration": 38,
    "start_time": "2024-06-23T16:14:23.112Z"
   },
   {
    "duration": 10,
    "start_time": "2024-06-23T16:14:23.151Z"
   },
   {
    "duration": 9,
    "start_time": "2024-06-23T16:14:23.162Z"
   },
   {
    "duration": 6,
    "start_time": "2024-06-23T16:14:23.172Z"
   },
   {
    "duration": 23,
    "start_time": "2024-06-23T16:14:23.180Z"
   },
   {
    "duration": 1215,
    "start_time": "2024-06-23T16:14:23.204Z"
   },
   {
    "duration": 5,
    "start_time": "2024-06-23T16:14:24.422Z"
   },
   {
    "duration": 6,
    "start_time": "2024-06-23T16:14:24.428Z"
   },
   {
    "duration": 14,
    "start_time": "2024-06-23T16:14:24.435Z"
   },
   {
    "duration": 348,
    "start_time": "2024-06-23T16:14:24.450Z"
   },
   {
    "duration": 18,
    "start_time": "2024-06-23T16:14:24.799Z"
   },
   {
    "duration": 272,
    "start_time": "2024-06-23T16:14:24.819Z"
   },
   {
    "duration": 460,
    "start_time": "2024-06-23T16:14:25.092Z"
   },
   {
    "duration": 12,
    "start_time": "2024-06-23T16:14:25.554Z"
   },
   {
    "duration": 358,
    "start_time": "2024-06-23T16:14:25.567Z"
   },
   {
    "duration": 11,
    "start_time": "2024-06-23T16:14:25.927Z"
   },
   {
    "duration": 302,
    "start_time": "2024-06-23T16:14:25.939Z"
   },
   {
    "duration": 12,
    "start_time": "2024-06-23T16:14:26.242Z"
   },
   {
    "duration": 344,
    "start_time": "2024-06-23T16:14:26.255Z"
   },
   {
    "duration": 28,
    "start_time": "2024-06-23T16:14:26.601Z"
   },
   {
    "duration": 326,
    "start_time": "2024-06-23T16:14:26.631Z"
   },
   {
    "duration": 3,
    "start_time": "2024-06-23T16:14:26.958Z"
   },
   {
    "duration": 27,
    "start_time": "2024-06-23T16:14:26.962Z"
   },
   {
    "duration": 4,
    "start_time": "2024-06-23T16:14:26.991Z"
   },
   {
    "duration": 11,
    "start_time": "2024-06-23T16:14:27.008Z"
   },
   {
    "duration": 5,
    "start_time": "2024-06-23T16:14:27.020Z"
   },
   {
    "duration": 5,
    "start_time": "2024-06-23T16:14:27.027Z"
   },
   {
    "duration": 3,
    "start_time": "2024-06-23T16:14:27.033Z"
   },
   {
    "duration": 11,
    "start_time": "2024-06-23T16:14:27.037Z"
   },
   {
    "duration": 8239,
    "start_time": "2024-06-23T16:14:27.049Z"
   },
   {
    "duration": 25,
    "start_time": "2024-06-23T16:14:35.290Z"
   },
   {
    "duration": 6,
    "start_time": "2024-06-23T16:15:37.320Z"
   },
   {
    "duration": 119552,
    "start_time": "2024-06-23T16:15:42.664Z"
   },
   {
    "duration": 8,
    "start_time": "2024-06-23T16:21:34.750Z"
   },
   {
    "duration": 17,
    "start_time": "2024-06-23T16:21:40.235Z"
   },
   {
    "duration": 11800,
    "start_time": "2024-06-23T16:21:56.295Z"
   },
   {
    "duration": 17,
    "start_time": "2024-06-23T16:23:18.991Z"
   },
   {
    "duration": 62,
    "start_time": "2024-06-23T16:24:18.780Z"
   },
   {
    "duration": 13,
    "start_time": "2024-06-23T16:24:30.114Z"
   },
   {
    "duration": 54899,
    "start_time": "2024-06-23T16:24:35.403Z"
   },
   {
    "duration": 15,
    "start_time": "2024-06-23T16:25:54.878Z"
   },
   {
    "duration": 6,
    "start_time": "2024-06-23T16:26:38.586Z"
   },
   {
    "duration": 5,
    "start_time": "2024-06-23T16:26:53.163Z"
   },
   {
    "duration": 8545,
    "start_time": "2024-06-23T16:26:55.253Z"
   },
   {
    "duration": 57,
    "start_time": "2024-06-23T16:31:35.694Z"
   },
   {
    "duration": 6,
    "start_time": "2024-06-23T16:31:43.087Z"
   },
   {
    "duration": 27443,
    "start_time": "2024-06-23T16:31:45.536Z"
   },
   {
    "duration": 20684,
    "start_time": "2024-06-23T16:33:54.914Z"
   },
   {
    "duration": 3361,
    "start_time": "2024-06-23T16:34:15.600Z"
   },
   {
    "duration": 3,
    "start_time": "2024-06-23T16:34:18.962Z"
   },
   {
    "duration": 5,
    "start_time": "2024-06-23T16:34:18.967Z"
   },
   {
    "duration": 58,
    "start_time": "2024-06-23T16:34:18.973Z"
   },
   {
    "duration": 18,
    "start_time": "2024-06-23T16:34:19.033Z"
   },
   {
    "duration": 25,
    "start_time": "2024-06-23T16:34:19.053Z"
   },
   {
    "duration": 3,
    "start_time": "2024-06-23T16:34:19.079Z"
   },
   {
    "duration": 66,
    "start_time": "2024-06-23T16:34:19.083Z"
   },
   {
    "duration": 9,
    "start_time": "2024-06-23T16:34:19.150Z"
   },
   {
    "duration": 13,
    "start_time": "2024-06-23T16:34:19.160Z"
   },
   {
    "duration": 5,
    "start_time": "2024-06-23T16:34:19.174Z"
   },
   {
    "duration": 21,
    "start_time": "2024-06-23T16:34:19.180Z"
   },
   {
    "duration": 19,
    "start_time": "2024-06-23T16:34:19.204Z"
   },
   {
    "duration": 12,
    "start_time": "2024-06-23T16:34:19.230Z"
   },
   {
    "duration": 3,
    "start_time": "2024-06-23T16:34:19.243Z"
   },
   {
    "duration": 4,
    "start_time": "2024-06-23T16:34:19.248Z"
   },
   {
    "duration": 4,
    "start_time": "2024-06-23T16:34:19.253Z"
   },
   {
    "duration": 1516,
    "start_time": "2024-06-23T16:34:19.258Z"
   },
   {
    "duration": 1089,
    "start_time": "2024-06-23T16:34:20.776Z"
   },
   {
    "duration": 16,
    "start_time": "2024-06-23T16:34:21.866Z"
   },
   {
    "duration": 33,
    "start_time": "2024-06-23T16:34:21.884Z"
   },
   {
    "duration": 7,
    "start_time": "2024-06-23T16:34:21.918Z"
   },
   {
    "duration": 15,
    "start_time": "2024-06-23T16:34:21.927Z"
   },
   {
    "duration": 6,
    "start_time": "2024-06-23T16:34:21.944Z"
   },
   {
    "duration": 7,
    "start_time": "2024-06-23T16:34:21.952Z"
   },
   {
    "duration": 1834,
    "start_time": "2024-06-23T16:34:21.961Z"
   },
   {
    "duration": 28,
    "start_time": "2024-06-23T16:34:23.796Z"
   },
   {
    "duration": 20,
    "start_time": "2024-06-23T16:34:23.825Z"
   },
   {
    "duration": 7,
    "start_time": "2024-06-23T16:34:23.847Z"
   },
   {
    "duration": 4,
    "start_time": "2024-06-23T16:34:23.855Z"
   },
   {
    "duration": 32,
    "start_time": "2024-06-23T16:34:23.860Z"
   },
   {
    "duration": 56,
    "start_time": "2024-06-23T16:34:23.893Z"
   },
   {
    "duration": 2,
    "start_time": "2024-06-23T16:34:23.951Z"
   },
   {
    "duration": 38,
    "start_time": "2024-06-23T16:34:23.955Z"
   },
   {
    "duration": 12,
    "start_time": "2024-06-23T16:34:23.995Z"
   },
   {
    "duration": 2,
    "start_time": "2024-06-23T16:34:24.013Z"
   },
   {
    "duration": 8,
    "start_time": "2024-06-23T16:34:24.017Z"
   },
   {
    "duration": 16,
    "start_time": "2024-06-23T16:34:24.026Z"
   },
   {
    "duration": 1190,
    "start_time": "2024-06-23T16:34:24.044Z"
   },
   {
    "duration": 5,
    "start_time": "2024-06-23T16:34:25.240Z"
   },
   {
    "duration": 19,
    "start_time": "2024-06-23T16:34:25.247Z"
   },
   {
    "duration": 12,
    "start_time": "2024-06-23T16:34:25.267Z"
   },
   {
    "duration": 458,
    "start_time": "2024-06-23T16:34:25.281Z"
   },
   {
    "duration": 15,
    "start_time": "2024-06-23T16:34:25.740Z"
   },
   {
    "duration": 367,
    "start_time": "2024-06-23T16:34:25.756Z"
   },
   {
    "duration": 316,
    "start_time": "2024-06-23T16:34:26.134Z"
   },
   {
    "duration": 13,
    "start_time": "2024-06-23T16:34:26.451Z"
   },
   {
    "duration": 374,
    "start_time": "2024-06-23T16:34:26.465Z"
   },
   {
    "duration": 11,
    "start_time": "2024-06-23T16:34:26.841Z"
   },
   {
    "duration": 477,
    "start_time": "2024-06-23T16:34:26.854Z"
   },
   {
    "duration": 17,
    "start_time": "2024-06-23T16:34:27.333Z"
   },
   {
    "duration": 349,
    "start_time": "2024-06-23T16:34:27.352Z"
   },
   {
    "duration": 37,
    "start_time": "2024-06-23T16:34:27.703Z"
   },
   {
    "duration": 335,
    "start_time": "2024-06-23T16:34:27.741Z"
   },
   {
    "duration": 2,
    "start_time": "2024-06-23T16:34:28.078Z"
   },
   {
    "duration": 48,
    "start_time": "2024-06-23T16:34:28.082Z"
   },
   {
    "duration": 5,
    "start_time": "2024-06-23T16:34:28.132Z"
   },
   {
    "duration": 18,
    "start_time": "2024-06-23T16:34:28.138Z"
   },
   {
    "duration": 5,
    "start_time": "2024-06-23T16:34:28.157Z"
   },
   {
    "duration": 17,
    "start_time": "2024-06-23T16:34:28.163Z"
   },
   {
    "duration": 48,
    "start_time": "2024-06-23T16:34:28.182Z"
   },
   {
    "duration": 9,
    "start_time": "2024-06-23T16:34:28.231Z"
   },
   {
    "duration": 27755,
    "start_time": "2024-06-23T16:34:28.242Z"
   },
   {
    "duration": 36,
    "start_time": "2024-06-23T16:34:55.998Z"
   },
   {
    "duration": 6,
    "start_time": "2024-06-23T16:35:05.677Z"
   },
   {
    "duration": 69333,
    "start_time": "2024-06-23T16:35:08.505Z"
   },
   {
    "duration": 8,
    "start_time": "2024-06-23T16:38:48.526Z"
   },
   {
    "duration": 8243,
    "start_time": "2024-06-23T16:38:50.678Z"
   },
   {
    "duration": 64,
    "start_time": "2024-06-23T16:40:05.274Z"
   },
   {
    "duration": 6,
    "start_time": "2024-06-23T16:40:24.343Z"
   },
   {
    "duration": 76420,
    "start_time": "2024-06-23T16:40:27.783Z"
   },
   {
    "duration": 52527,
    "start_time": "2024-06-25T12:21:35.343Z"
   },
   {
    "duration": 3664,
    "start_time": "2024-06-25T12:22:27.873Z"
   },
   {
    "duration": 3,
    "start_time": "2024-06-25T12:22:31.538Z"
   },
   {
    "duration": 52,
    "start_time": "2024-06-25T12:22:31.542Z"
   },
   {
    "duration": 102,
    "start_time": "2024-06-25T12:22:31.597Z"
   },
   {
    "duration": 60,
    "start_time": "2024-06-25T12:22:31.700Z"
   },
   {
    "duration": 77,
    "start_time": "2024-06-25T12:22:31.761Z"
   },
   {
    "duration": 3,
    "start_time": "2024-06-25T12:22:31.839Z"
   },
   {
    "duration": 76,
    "start_time": "2024-06-25T12:22:31.843Z"
   },
   {
    "duration": 14,
    "start_time": "2024-06-25T12:22:31.920Z"
   },
   {
    "duration": 24,
    "start_time": "2024-06-25T12:22:31.935Z"
   },
   {
    "duration": 21,
    "start_time": "2024-06-25T12:22:31.960Z"
   },
   {
    "duration": 29,
    "start_time": "2024-06-25T12:22:31.983Z"
   },
   {
    "duration": 23,
    "start_time": "2024-06-25T12:22:32.015Z"
   },
   {
    "duration": 19,
    "start_time": "2024-06-25T12:22:32.040Z"
   },
   {
    "duration": 3,
    "start_time": "2024-06-25T12:22:32.060Z"
   },
   {
    "duration": 33,
    "start_time": "2024-06-25T12:22:32.065Z"
   },
   {
    "duration": 23,
    "start_time": "2024-06-25T12:22:32.099Z"
   },
   {
    "duration": 1635,
    "start_time": "2024-06-25T12:22:32.123Z"
   },
   {
    "duration": 1233,
    "start_time": "2024-06-25T12:22:33.759Z"
   },
   {
    "duration": 19,
    "start_time": "2024-06-25T12:22:34.996Z"
   },
   {
    "duration": 11,
    "start_time": "2024-06-25T12:22:35.017Z"
   },
   {
    "duration": 6,
    "start_time": "2024-06-25T12:22:35.029Z"
   },
   {
    "duration": 8,
    "start_time": "2024-06-25T12:22:35.036Z"
   },
   {
    "duration": 12,
    "start_time": "2024-06-25T12:22:35.046Z"
   },
   {
    "duration": 33,
    "start_time": "2024-06-25T12:22:35.059Z"
   },
   {
    "duration": 1856,
    "start_time": "2024-06-25T12:22:35.094Z"
   },
   {
    "duration": 17,
    "start_time": "2024-06-25T12:22:36.952Z"
   },
   {
    "duration": 38,
    "start_time": "2024-06-25T12:22:36.971Z"
   },
   {
    "duration": 6,
    "start_time": "2024-06-25T12:22:37.010Z"
   },
   {
    "duration": 11,
    "start_time": "2024-06-25T12:22:37.017Z"
   },
   {
    "duration": 72,
    "start_time": "2024-06-25T12:22:37.030Z"
   },
   {
    "duration": 71,
    "start_time": "2024-06-25T12:22:37.104Z"
   },
   {
    "duration": 2,
    "start_time": "2024-06-25T12:22:37.177Z"
   },
   {
    "duration": 35,
    "start_time": "2024-06-25T12:22:37.180Z"
   },
   {
    "duration": 9,
    "start_time": "2024-06-25T12:22:37.216Z"
   },
   {
    "duration": 2,
    "start_time": "2024-06-25T12:22:37.227Z"
   },
   {
    "duration": 8,
    "start_time": "2024-06-25T12:22:37.230Z"
   },
   {
    "duration": 31,
    "start_time": "2024-06-25T12:22:37.239Z"
   },
   {
    "duration": 1289,
    "start_time": "2024-06-25T12:22:37.271Z"
   },
   {
    "duration": 5,
    "start_time": "2024-06-25T12:22:38.564Z"
   },
   {
    "duration": 11,
    "start_time": "2024-06-25T12:22:38.570Z"
   },
   {
    "duration": 26,
    "start_time": "2024-06-25T12:22:38.582Z"
   },
   {
    "duration": 464,
    "start_time": "2024-06-25T12:22:38.609Z"
   },
   {
    "duration": 32,
    "start_time": "2024-06-25T12:22:39.075Z"
   },
   {
    "duration": 298,
    "start_time": "2024-06-25T12:22:39.109Z"
   },
   {
    "duration": 540,
    "start_time": "2024-06-25T12:22:39.409Z"
   },
   {
    "duration": 14,
    "start_time": "2024-06-25T12:22:39.950Z"
   },
   {
    "duration": 361,
    "start_time": "2024-06-25T12:22:39.965Z"
   },
   {
    "duration": 14,
    "start_time": "2024-06-25T12:22:40.327Z"
   },
   {
    "duration": 362,
    "start_time": "2024-06-25T12:22:40.342Z"
   },
   {
    "duration": 15,
    "start_time": "2024-06-25T12:22:40.706Z"
   },
   {
    "duration": 350,
    "start_time": "2024-06-25T12:22:40.722Z"
   },
   {
    "duration": 36,
    "start_time": "2024-06-25T12:22:41.073Z"
   },
   {
    "duration": 390,
    "start_time": "2024-06-25T12:22:41.110Z"
   },
   {
    "duration": 2,
    "start_time": "2024-06-25T12:22:41.502Z"
   },
   {
    "duration": 31,
    "start_time": "2024-06-25T12:22:41.505Z"
   },
   {
    "duration": 4,
    "start_time": "2024-06-25T12:22:41.537Z"
   },
   {
    "duration": 12,
    "start_time": "2024-06-25T12:22:41.542Z"
   },
   {
    "duration": 6,
    "start_time": "2024-06-25T12:22:41.556Z"
   },
   {
    "duration": 32,
    "start_time": "2024-06-25T12:22:41.564Z"
   },
   {
    "duration": 11,
    "start_time": "2024-06-25T12:22:41.598Z"
   },
   {
    "duration": 18,
    "start_time": "2024-06-25T12:22:41.610Z"
   },
   {
    "duration": 9099,
    "start_time": "2024-06-25T12:22:41.629Z"
   },
   {
    "duration": 16,
    "start_time": "2024-06-25T12:22:50.730Z"
   },
   {
    "duration": 76,
    "start_time": "2024-06-25T12:25:24.515Z"
   },
   {
    "duration": 6,
    "start_time": "2024-06-25T12:25:34.214Z"
   },
   {
    "duration": 5792,
    "start_time": "2024-06-25T12:25:43.323Z"
   },
   {
    "duration": 5,
    "start_time": "2024-06-25T12:27:12.607Z"
   },
   {
    "duration": 1848,
    "start_time": "2024-06-25T12:27:15.562Z"
   },
   {
    "duration": 4,
    "start_time": "2024-06-25T12:27:47.761Z"
   },
   {
    "duration": 7,
    "start_time": "2024-06-25T12:27:54.611Z"
   },
   {
    "duration": 15068,
    "start_time": "2024-06-25T12:28:00.150Z"
   },
   {
    "duration": 8,
    "start_time": "2024-06-25T12:28:27.137Z"
   },
   {
    "duration": 18800,
    "start_time": "2024-06-25T12:28:30.694Z"
   },
   {
    "duration": 18,
    "start_time": "2024-06-25T12:29:05.105Z"
   },
   {
    "duration": 8,
    "start_time": "2024-06-25T12:36:30.236Z"
   },
   {
    "duration": 18336,
    "start_time": "2024-06-25T12:36:34.769Z"
   },
   {
    "duration": 9,
    "start_time": "2024-06-25T13:38:40.674Z"
   },
   {
    "duration": 20328,
    "start_time": "2024-06-25T13:38:44.064Z"
   },
   {
    "duration": 8,
    "start_time": "2024-06-25T13:40:50.188Z"
   },
   {
    "duration": 22152,
    "start_time": "2024-06-25T13:40:52.700Z"
   },
   {
    "duration": 22254,
    "start_time": "2024-06-25T13:41:51.488Z"
   },
   {
    "duration": 17,
    "start_time": "2024-06-25T13:44:32.183Z"
   },
   {
    "duration": 6,
    "start_time": "2024-06-25T13:45:06.204Z"
   },
   {
    "duration": 7551,
    "start_time": "2024-06-25T13:45:11.479Z"
   },
   {
    "duration": 8,
    "start_time": "2024-06-25T13:45:42.060Z"
   },
   {
    "duration": 24196,
    "start_time": "2024-06-25T13:45:44.036Z"
   },
   {
    "duration": 17,
    "start_time": "2024-06-25T13:46:08.233Z"
   },
   {
    "duration": 5,
    "start_time": "2024-06-25T14:32:57.293Z"
   },
   {
    "duration": 7,
    "start_time": "2024-06-25T14:33:15.951Z"
   },
   {
    "duration": 5,
    "start_time": "2024-06-25T14:37:22.763Z"
   },
   {
    "duration": 10067313,
    "start_time": "2024-06-25T14:37:25.234Z"
   },
   {
    "duration": 0,
    "start_time": "2024-06-25T17:25:12.549Z"
   },
   {
    "duration": 4,
    "start_time": "2024-06-25T17:25:59.830Z"
   },
   {
    "duration": 18,
    "start_time": "2024-06-25T17:26:02.619Z"
   },
   {
    "duration": 3,
    "start_time": "2024-06-25T17:26:48.473Z"
   },
   {
    "duration": 5259,
    "start_time": "2024-06-25T17:26:51.866Z"
   },
   {
    "duration": 4,
    "start_time": "2024-06-25T17:28:10.526Z"
   },
   {
    "duration": 930539,
    "start_time": "2024-06-25T17:28:13.003Z"
   },
   {
    "duration": 6,
    "start_time": "2024-06-25T17:44:11.655Z"
   },
   {
    "duration": 0,
    "start_time": "2024-06-25T17:46:13.860Z"
   },
   {
    "duration": 10,
    "start_time": "2024-06-25T17:46:13.873Z"
   },
   {
    "duration": 17179,
    "start_time": "2024-06-25T17:47:30.680Z"
   },
   {
    "duration": 3249,
    "start_time": "2024-06-25T17:47:47.862Z"
   },
   {
    "duration": 3,
    "start_time": "2024-06-25T17:47:51.112Z"
   },
   {
    "duration": 35,
    "start_time": "2024-06-25T17:47:51.116Z"
   },
   {
    "duration": 38,
    "start_time": "2024-06-25T17:47:51.153Z"
   },
   {
    "duration": 17,
    "start_time": "2024-06-25T17:47:51.193Z"
   },
   {
    "duration": 26,
    "start_time": "2024-06-25T17:47:51.212Z"
   },
   {
    "duration": 2,
    "start_time": "2024-06-25T17:47:51.240Z"
   },
   {
    "duration": 61,
    "start_time": "2024-06-25T17:47:51.244Z"
   },
   {
    "duration": 10,
    "start_time": "2024-06-25T17:47:51.306Z"
   },
   {
    "duration": 27,
    "start_time": "2024-06-25T17:47:51.317Z"
   },
   {
    "duration": 4,
    "start_time": "2024-06-25T17:47:51.346Z"
   },
   {
    "duration": 10,
    "start_time": "2024-06-25T17:47:51.351Z"
   },
   {
    "duration": 24,
    "start_time": "2024-06-25T17:47:51.364Z"
   },
   {
    "duration": 11,
    "start_time": "2024-06-25T17:47:51.389Z"
   },
   {
    "duration": 7,
    "start_time": "2024-06-25T17:47:51.402Z"
   },
   {
    "duration": 17,
    "start_time": "2024-06-25T17:47:51.410Z"
   },
   {
    "duration": 13,
    "start_time": "2024-06-25T17:47:51.428Z"
   },
   {
    "duration": 1517,
    "start_time": "2024-06-25T17:47:51.442Z"
   },
   {
    "duration": 1184,
    "start_time": "2024-06-25T17:47:52.961Z"
   },
   {
    "duration": 18,
    "start_time": "2024-06-25T17:47:54.147Z"
   },
   {
    "duration": 15,
    "start_time": "2024-06-25T17:47:54.166Z"
   },
   {
    "duration": 4,
    "start_time": "2024-06-25T17:47:54.182Z"
   },
   {
    "duration": 5,
    "start_time": "2024-06-25T17:47:54.188Z"
   },
   {
    "duration": 5,
    "start_time": "2024-06-25T17:47:54.195Z"
   },
   {
    "duration": 17,
    "start_time": "2024-06-25T17:47:54.201Z"
   },
   {
    "duration": 1797,
    "start_time": "2024-06-25T17:47:54.219Z"
   },
   {
    "duration": 23,
    "start_time": "2024-06-25T17:47:56.018Z"
   },
   {
    "duration": 26,
    "start_time": "2024-06-25T17:47:56.043Z"
   },
   {
    "duration": 26,
    "start_time": "2024-06-25T17:47:56.070Z"
   },
   {
    "duration": 13,
    "start_time": "2024-06-25T17:47:56.098Z"
   },
   {
    "duration": 45,
    "start_time": "2024-06-25T17:47:56.112Z"
   },
   {
    "duration": 26,
    "start_time": "2024-06-25T17:47:56.159Z"
   },
   {
    "duration": 2,
    "start_time": "2024-06-25T17:47:56.186Z"
   },
   {
    "duration": 42,
    "start_time": "2024-06-25T17:47:56.190Z"
   },
   {
    "duration": 12,
    "start_time": "2024-06-25T17:47:56.233Z"
   },
   {
    "duration": 12,
    "start_time": "2024-06-25T17:47:56.246Z"
   },
   {
    "duration": 14,
    "start_time": "2024-06-25T17:47:56.259Z"
   },
   {
    "duration": 18,
    "start_time": "2024-06-25T17:47:56.274Z"
   },
   {
    "duration": 1396,
    "start_time": "2024-06-25T17:47:56.293Z"
   },
   {
    "duration": 5,
    "start_time": "2024-06-25T17:47:57.695Z"
   },
   {
    "duration": 19,
    "start_time": "2024-06-25T17:47:57.702Z"
   },
   {
    "duration": 24,
    "start_time": "2024-06-25T17:47:57.722Z"
   },
   {
    "duration": 404,
    "start_time": "2024-06-25T17:47:57.747Z"
   },
   {
    "duration": 15,
    "start_time": "2024-06-25T17:47:58.153Z"
   },
   {
    "duration": 354,
    "start_time": "2024-06-25T17:47:58.169Z"
   },
   {
    "duration": 367,
    "start_time": "2024-06-25T17:47:58.524Z"
   },
   {
    "duration": 13,
    "start_time": "2024-06-25T17:47:58.893Z"
   },
   {
    "duration": 362,
    "start_time": "2024-06-25T17:47:58.907Z"
   },
   {
    "duration": 13,
    "start_time": "2024-06-25T17:47:59.270Z"
   },
   {
    "duration": 480,
    "start_time": "2024-06-25T17:47:59.285Z"
   },
   {
    "duration": 14,
    "start_time": "2024-06-25T17:47:59.767Z"
   },
   {
    "duration": 388,
    "start_time": "2024-06-25T17:47:59.782Z"
   },
   {
    "duration": 27,
    "start_time": "2024-06-25T17:48:00.171Z"
   },
   {
    "duration": 492,
    "start_time": "2024-06-25T17:48:00.200Z"
   },
   {
    "duration": 2,
    "start_time": "2024-06-25T17:48:00.694Z"
   },
   {
    "duration": 143,
    "start_time": "2024-06-25T17:48:00.698Z"
   },
   {
    "duration": 210,
    "start_time": "2024-06-25T17:48:00.843Z"
   },
   {
    "duration": 50,
    "start_time": "2024-06-25T17:48:01.054Z"
   },
   {
    "duration": 75,
    "start_time": "2024-06-25T17:48:01.106Z"
   },
   {
    "duration": 48,
    "start_time": "2024-06-25T17:48:01.183Z"
   },
   {
    "duration": 51,
    "start_time": "2024-06-25T17:48:01.233Z"
   },
   {
    "duration": 88,
    "start_time": "2024-06-25T17:48:01.286Z"
   },
   {
    "duration": 7632,
    "start_time": "2024-06-25T17:48:01.376Z"
   },
   {
    "duration": 31,
    "start_time": "2024-06-25T17:48:09.010Z"
   },
   {
    "duration": 4,
    "start_time": "2024-06-25T17:48:09.043Z"
   },
   {
    "duration": 69395,
    "start_time": "2024-06-25T17:48:09.048Z"
   },
   {
    "duration": 17,
    "start_time": "2024-06-25T17:49:18.445Z"
   },
   {
    "duration": 9,
    "start_time": "2024-06-25T17:51:31.914Z"
   },
   {
    "duration": 6,
    "start_time": "2024-06-25T17:52:03.757Z"
   },
   {
    "duration": 3,
    "start_time": "2024-06-25T17:52:38.042Z"
   },
   {
    "duration": 20815,
    "start_time": "2024-06-25T17:52:41.396Z"
   },
   {
    "duration": 30,
    "start_time": "2024-06-25T17:53:02.213Z"
   },
   {
    "duration": 51919,
    "start_time": "2024-06-26T11:26:57.615Z"
   },
   {
    "duration": 3755,
    "start_time": "2024-06-26T11:27:49.536Z"
   },
   {
    "duration": 4,
    "start_time": "2024-06-26T11:27:53.292Z"
   },
   {
    "duration": 32,
    "start_time": "2024-06-26T11:27:53.297Z"
   },
   {
    "duration": 143,
    "start_time": "2024-06-26T11:27:53.332Z"
   },
   {
    "duration": 68,
    "start_time": "2024-06-26T11:27:53.476Z"
   },
   {
    "duration": 62,
    "start_time": "2024-06-26T11:27:53.545Z"
   },
   {
    "duration": 2,
    "start_time": "2024-06-26T11:27:53.608Z"
   },
   {
    "duration": 74,
    "start_time": "2024-06-26T11:27:53.612Z"
   },
   {
    "duration": 8,
    "start_time": "2024-06-26T11:27:53.688Z"
   },
   {
    "duration": 38,
    "start_time": "2024-06-26T11:27:53.697Z"
   },
   {
    "duration": 23,
    "start_time": "2024-06-26T11:27:53.737Z"
   },
   {
    "duration": 34,
    "start_time": "2024-06-26T11:27:53.761Z"
   },
   {
    "duration": 35,
    "start_time": "2024-06-26T11:27:53.797Z"
   },
   {
    "duration": 23,
    "start_time": "2024-06-26T11:27:53.834Z"
   },
   {
    "duration": 75,
    "start_time": "2024-06-26T11:27:53.859Z"
   },
   {
    "duration": 8,
    "start_time": "2024-06-26T11:27:53.935Z"
   },
   {
    "duration": 6,
    "start_time": "2024-06-26T11:27:53.944Z"
   },
   {
    "duration": 1399,
    "start_time": "2024-06-26T11:27:53.951Z"
   },
   {
    "duration": 1079,
    "start_time": "2024-06-26T11:27:55.352Z"
   },
   {
    "duration": 15,
    "start_time": "2024-06-26T11:27:56.432Z"
   },
   {
    "duration": 16,
    "start_time": "2024-06-26T11:27:56.449Z"
   },
   {
    "duration": 7,
    "start_time": "2024-06-26T11:27:56.466Z"
   },
   {
    "duration": 17,
    "start_time": "2024-06-26T11:27:56.474Z"
   },
   {
    "duration": 45,
    "start_time": "2024-06-26T11:27:56.493Z"
   },
   {
    "duration": 24,
    "start_time": "2024-06-26T11:27:56.540Z"
   },
   {
    "duration": 1745,
    "start_time": "2024-06-26T11:27:56.565Z"
   },
   {
    "duration": 17,
    "start_time": "2024-06-26T11:27:58.311Z"
   },
   {
    "duration": 37,
    "start_time": "2024-06-26T11:27:58.330Z"
   },
   {
    "duration": 11,
    "start_time": "2024-06-26T11:27:58.369Z"
   },
   {
    "duration": 4,
    "start_time": "2024-06-26T11:27:58.381Z"
   },
   {
    "duration": 121,
    "start_time": "2024-06-26T11:27:58.387Z"
   },
   {
    "duration": 73,
    "start_time": "2024-06-26T11:27:58.509Z"
   },
   {
    "duration": 2,
    "start_time": "2024-06-26T11:27:58.583Z"
   },
   {
    "duration": 41,
    "start_time": "2024-06-26T11:27:58.586Z"
   },
   {
    "duration": 9,
    "start_time": "2024-06-26T11:27:58.628Z"
   },
   {
    "duration": 2,
    "start_time": "2024-06-26T11:27:58.638Z"
   },
   {
    "duration": 13,
    "start_time": "2024-06-26T11:27:58.641Z"
   },
   {
    "duration": 4,
    "start_time": "2024-06-26T11:27:58.656Z"
   },
   {
    "duration": 1186,
    "start_time": "2024-06-26T11:27:58.662Z"
   },
   {
    "duration": 5,
    "start_time": "2024-06-26T11:27:59.851Z"
   },
   {
    "duration": 63,
    "start_time": "2024-06-26T11:27:59.858Z"
   },
   {
    "duration": 35,
    "start_time": "2024-06-26T11:27:59.922Z"
   },
   {
    "duration": 394,
    "start_time": "2024-06-26T11:27:59.958Z"
   },
   {
    "duration": 14,
    "start_time": "2024-06-26T11:28:00.353Z"
   },
   {
    "duration": 321,
    "start_time": "2024-06-26T11:28:00.368Z"
   },
   {
    "duration": 463,
    "start_time": "2024-06-26T11:28:00.690Z"
   },
   {
    "duration": 13,
    "start_time": "2024-06-26T11:28:01.154Z"
   },
   {
    "duration": 646,
    "start_time": "2024-06-26T11:28:01.168Z"
   },
   {
    "duration": 15,
    "start_time": "2024-06-26T11:28:01.816Z"
   },
   {
    "duration": 509,
    "start_time": "2024-06-26T11:28:01.832Z"
   },
   {
    "duration": 66,
    "start_time": "2024-06-26T11:28:02.343Z"
   },
   {
    "duration": 533,
    "start_time": "2024-06-26T11:28:02.411Z"
   },
   {
    "duration": 79,
    "start_time": "2024-06-26T11:28:02.946Z"
   },
   {
    "duration": 423,
    "start_time": "2024-06-26T11:28:03.027Z"
   },
   {
    "duration": 2,
    "start_time": "2024-06-26T11:28:03.452Z"
   },
   {
    "duration": 47,
    "start_time": "2024-06-26T11:28:03.456Z"
   },
   {
    "duration": 4,
    "start_time": "2024-06-26T11:28:03.504Z"
   },
   {
    "duration": 17,
    "start_time": "2024-06-26T11:28:03.510Z"
   },
   {
    "duration": 7,
    "start_time": "2024-06-26T11:28:03.528Z"
   },
   {
    "duration": 8,
    "start_time": "2024-06-26T11:28:03.536Z"
   },
   {
    "duration": 4,
    "start_time": "2024-06-26T11:28:03.545Z"
   },
   {
    "duration": 22,
    "start_time": "2024-06-26T11:28:03.551Z"
   },
   {
    "duration": 7746,
    "start_time": "2024-06-26T11:28:03.574Z"
   },
   {
    "duration": 15,
    "start_time": "2024-06-26T11:28:11.322Z"
   },
   {
    "duration": 8,
    "start_time": "2024-06-26T11:28:11.339Z"
   },
   {
    "duration": 20499,
    "start_time": "2024-06-26T11:28:11.348Z"
   },
   {
    "duration": 17,
    "start_time": "2024-06-26T11:28:31.849Z"
   },
   {
    "duration": 2,
    "start_time": "2024-06-26T11:29:55.059Z"
   },
   {
    "duration": 4,
    "start_time": "2024-06-26T11:31:20.502Z"
   },
   {
    "duration": 14144,
    "start_time": "2024-06-26T11:32:14.714Z"
   },
   {
    "duration": 16,
    "start_time": "2024-06-26T11:34:19.300Z"
   },
   {
    "duration": 4,
    "start_time": "2024-06-26T11:34:32.962Z"
   },
   {
    "duration": 13230,
    "start_time": "2024-06-26T11:34:35.510Z"
   },
   {
    "duration": 15,
    "start_time": "2024-06-26T11:34:57.564Z"
   },
   {
    "duration": 4,
    "start_time": "2024-06-26T11:35:05.700Z"
   },
   {
    "duration": 13064,
    "start_time": "2024-06-26T11:35:07.780Z"
   },
   {
    "duration": 15,
    "start_time": "2024-06-26T11:35:20.845Z"
   },
   {
    "duration": 3,
    "start_time": "2024-06-26T11:37:02.370Z"
   },
   {
    "duration": 7014,
    "start_time": "2024-06-26T11:37:04.254Z"
   },
   {
    "duration": 15,
    "start_time": "2024-06-26T11:37:11.269Z"
   },
   {
    "duration": 3,
    "start_time": "2024-06-26T11:37:30.446Z"
   },
   {
    "duration": 9082,
    "start_time": "2024-06-26T11:37:32.783Z"
   },
   {
    "duration": 16,
    "start_time": "2024-06-26T11:37:41.866Z"
   },
   {
    "duration": 3,
    "start_time": "2024-06-26T11:38:05.644Z"
   },
   {
    "duration": 17593,
    "start_time": "2024-06-26T11:38:07.493Z"
   },
   {
    "duration": 23,
    "start_time": "2024-06-26T11:38:25.087Z"
   },
   {
    "duration": 3,
    "start_time": "2024-06-26T11:38:43.569Z"
   },
   {
    "duration": 23229,
    "start_time": "2024-06-26T11:38:45.295Z"
   },
   {
    "duration": 15,
    "start_time": "2024-06-26T11:39:08.526Z"
   },
   {
    "duration": 3,
    "start_time": "2024-06-26T11:39:41.956Z"
   },
   {
    "duration": 35043,
    "start_time": "2024-06-26T11:39:44.632Z"
   },
   {
    "duration": 17,
    "start_time": "2024-06-26T11:40:19.677Z"
   },
   {
    "duration": 3,
    "start_time": "2024-06-26T11:40:38.432Z"
   },
   {
    "duration": 45846,
    "start_time": "2024-06-26T11:40:40.442Z"
   },
   {
    "duration": 20,
    "start_time": "2024-06-26T11:41:26.290Z"
   },
   {
    "duration": 189,
    "start_time": "2024-06-26T11:51:22.592Z"
   },
   {
    "duration": 169,
    "start_time": "2024-06-26T11:51:41.725Z"
   },
   {
    "duration": 72,
    "start_time": "2024-06-26T11:52:27.691Z"
   },
   {
    "duration": 9,
    "start_time": "2024-06-26T11:52:44.792Z"
   },
   {
    "duration": 8,
    "start_time": "2024-06-26T11:52:55.095Z"
   },
   {
    "duration": 3,
    "start_time": "2024-06-26T11:58:04.483Z"
   },
   {
    "duration": 3,
    "start_time": "2024-06-26T11:58:36.202Z"
   },
   {
    "duration": 5681,
    "start_time": "2024-06-26T11:58:38.631Z"
   },
   {
    "duration": 15,
    "start_time": "2024-06-26T11:58:44.313Z"
   },
   {
    "duration": 3,
    "start_time": "2024-06-26T11:59:05.637Z"
   },
   {
    "duration": 27280,
    "start_time": "2024-06-26T11:59:07.920Z"
   },
   {
    "duration": 18,
    "start_time": "2024-06-26T11:59:35.202Z"
   },
   {
    "duration": 3,
    "start_time": "2024-06-26T13:03:27.687Z"
   },
   {
    "duration": 3,
    "start_time": "2024-06-26T13:09:02.690Z"
   },
   {
    "duration": 36112,
    "start_time": "2024-06-26T13:09:07.470Z"
   },
   {
    "duration": 25,
    "start_time": "2024-06-26T13:09:43.584Z"
   },
   {
    "duration": 48304,
    "start_time": "2024-06-26T16:06:57.162Z"
   },
   {
    "duration": 3167,
    "start_time": "2024-06-26T16:07:45.469Z"
   },
   {
    "duration": 3,
    "start_time": "2024-06-26T16:07:48.637Z"
   },
   {
    "duration": 29,
    "start_time": "2024-06-26T16:07:48.643Z"
   },
   {
    "duration": 127,
    "start_time": "2024-06-26T16:07:48.674Z"
   },
   {
    "duration": 65,
    "start_time": "2024-06-26T16:07:48.802Z"
   },
   {
    "duration": 61,
    "start_time": "2024-06-26T16:07:48.869Z"
   },
   {
    "duration": 3,
    "start_time": "2024-06-26T16:07:48.931Z"
   },
   {
    "duration": 43,
    "start_time": "2024-06-26T16:07:48.935Z"
   },
   {
    "duration": 8,
    "start_time": "2024-06-26T16:07:48.981Z"
   },
   {
    "duration": 11,
    "start_time": "2024-06-26T16:07:48.990Z"
   },
   {
    "duration": 5,
    "start_time": "2024-06-26T16:07:49.002Z"
   },
   {
    "duration": 6,
    "start_time": "2024-06-26T16:07:49.008Z"
   },
   {
    "duration": 8,
    "start_time": "2024-06-26T16:07:49.015Z"
   },
   {
    "duration": 7,
    "start_time": "2024-06-26T16:07:49.024Z"
   },
   {
    "duration": 3,
    "start_time": "2024-06-26T16:07:49.032Z"
   },
   {
    "duration": 3,
    "start_time": "2024-06-26T16:07:49.036Z"
   },
   {
    "duration": 31,
    "start_time": "2024-06-26T16:07:49.040Z"
   },
   {
    "duration": 1332,
    "start_time": "2024-06-26T16:07:49.072Z"
   },
   {
    "duration": 1055,
    "start_time": "2024-06-26T16:07:50.405Z"
   },
   {
    "duration": 20,
    "start_time": "2024-06-26T16:07:51.461Z"
   },
   {
    "duration": 11,
    "start_time": "2024-06-26T16:07:51.482Z"
   },
   {
    "duration": 4,
    "start_time": "2024-06-26T16:07:51.494Z"
   },
   {
    "duration": 9,
    "start_time": "2024-06-26T16:07:51.499Z"
   },
   {
    "duration": 9,
    "start_time": "2024-06-26T16:07:51.509Z"
   },
   {
    "duration": 31,
    "start_time": "2024-06-26T16:07:51.519Z"
   },
   {
    "duration": 1640,
    "start_time": "2024-06-26T16:07:51.551Z"
   },
   {
    "duration": 17,
    "start_time": "2024-06-26T16:07:53.197Z"
   },
   {
    "duration": 18,
    "start_time": "2024-06-26T16:07:53.216Z"
   },
   {
    "duration": 6,
    "start_time": "2024-06-26T16:07:53.235Z"
   },
   {
    "duration": 6,
    "start_time": "2024-06-26T16:07:53.242Z"
   },
   {
    "duration": 192,
    "start_time": "2024-06-26T16:07:53.249Z"
   },
   {
    "duration": 68,
    "start_time": "2024-06-26T16:07:53.443Z"
   },
   {
    "duration": 2,
    "start_time": "2024-06-26T16:07:53.513Z"
   },
   {
    "duration": 27,
    "start_time": "2024-06-26T16:07:53.516Z"
   },
   {
    "duration": 8,
    "start_time": "2024-06-26T16:07:53.544Z"
   },
   {
    "duration": 19,
    "start_time": "2024-06-26T16:07:53.553Z"
   },
   {
    "duration": 5,
    "start_time": "2024-06-26T16:07:53.573Z"
   },
   {
    "duration": 5,
    "start_time": "2024-06-26T16:07:53.579Z"
   },
   {
    "duration": 1181,
    "start_time": "2024-06-26T16:07:53.585Z"
   },
   {
    "duration": 5,
    "start_time": "2024-06-26T16:07:54.771Z"
   },
   {
    "duration": 13,
    "start_time": "2024-06-26T16:07:54.777Z"
   },
   {
    "duration": 13,
    "start_time": "2024-06-26T16:07:54.792Z"
   },
   {
    "duration": 377,
    "start_time": "2024-06-26T16:07:54.806Z"
   },
   {
    "duration": 12,
    "start_time": "2024-06-26T16:07:55.184Z"
   },
   {
    "duration": 305,
    "start_time": "2024-06-26T16:07:55.197Z"
   },
   {
    "duration": 441,
    "start_time": "2024-06-26T16:07:55.503Z"
   },
   {
    "duration": 12,
    "start_time": "2024-06-26T16:07:55.946Z"
   },
   {
    "duration": 323,
    "start_time": "2024-06-26T16:07:55.971Z"
   },
   {
    "duration": 12,
    "start_time": "2024-06-26T16:07:56.295Z"
   },
   {
    "duration": 312,
    "start_time": "2024-06-26T16:07:56.309Z"
   },
   {
    "duration": 12,
    "start_time": "2024-06-26T16:07:56.623Z"
   },
   {
    "duration": 339,
    "start_time": "2024-06-26T16:07:56.637Z"
   },
   {
    "duration": 24,
    "start_time": "2024-06-26T16:07:56.977Z"
   },
   {
    "duration": 311,
    "start_time": "2024-06-26T16:07:57.002Z"
   },
   {
    "duration": 2,
    "start_time": "2024-06-26T16:07:57.315Z"
   },
   {
    "duration": 36,
    "start_time": "2024-06-26T16:07:57.319Z"
   },
   {
    "duration": 4,
    "start_time": "2024-06-26T16:07:57.356Z"
   },
   {
    "duration": 10,
    "start_time": "2024-06-26T16:07:57.371Z"
   },
   {
    "duration": 5,
    "start_time": "2024-06-26T16:07:57.382Z"
   },
   {
    "duration": 6,
    "start_time": "2024-06-26T16:07:57.388Z"
   },
   {
    "duration": 8,
    "start_time": "2024-06-26T16:07:57.395Z"
   },
   {
    "duration": 5,
    "start_time": "2024-06-26T16:07:57.405Z"
   },
   {
    "duration": 7494,
    "start_time": "2024-06-26T16:07:57.411Z"
   },
   {
    "duration": 15,
    "start_time": "2024-06-26T16:08:04.907Z"
   },
   {
    "duration": 9,
    "start_time": "2024-06-26T16:08:04.923Z"
   },
   {
    "duration": 19826,
    "start_time": "2024-06-26T16:08:04.933Z"
   },
   {
    "duration": 19,
    "start_time": "2024-06-26T16:08:24.760Z"
   },
   {
    "duration": 2,
    "start_time": "2024-06-26T16:08:24.781Z"
   },
   {
    "duration": 3,
    "start_time": "2024-06-26T16:08:24.784Z"
   },
   {
    "duration": 26403,
    "start_time": "2024-06-26T16:08:24.788Z"
   },
   {
    "duration": 14,
    "start_time": "2024-06-26T16:08:51.192Z"
   },
   {
    "duration": 25,
    "start_time": "2024-06-26T16:08:51.208Z"
   },
   {
    "duration": 4,
    "start_time": "2024-06-26T16:08:51.235Z"
   },
   {
    "duration": 5,
    "start_time": "2024-06-26T16:08:51.240Z"
   },
   {
    "duration": 34592,
    "start_time": "2024-06-26T16:08:51.246Z"
   },
   {
    "duration": 15,
    "start_time": "2024-06-26T16:09:25.840Z"
   },
   {
    "duration": 3,
    "start_time": "2024-06-26T16:09:52.816Z"
   },
   {
    "duration": 230,
    "start_time": "2024-06-26T16:10:34.852Z"
   },
   {
    "duration": 240,
    "start_time": "2024-06-26T16:11:11.233Z"
   }
  ],
  "kernelspec": {
   "display_name": "Python 3 (ipykernel)",
   "language": "python",
   "name": "python3"
  },
  "language_info": {
   "codemirror_mode": {
    "name": "ipython",
    "version": 3
   },
   "file_extension": ".py",
   "mimetype": "text/x-python",
   "name": "python",
   "nbconvert_exporter": "python",
   "pygments_lexer": "ipython3",
   "version": "3.9.5"
  },
  "toc": {
   "base_numbering": 1,
   "nav_menu": {},
   "number_sections": true,
   "sideBar": true,
   "skip_h1_title": true,
   "title_cell": "Table of Contents",
   "title_sidebar": "Contents",
   "toc_cell": false,
   "toc_position": {
    "height": "calc(100% - 180px)",
    "left": "10px",
    "top": "150px",
    "width": "165px"
   },
   "toc_section_display": true,
   "toc_window_display": true
  }
 },
 "nbformat": 4,
 "nbformat_minor": 5
}
